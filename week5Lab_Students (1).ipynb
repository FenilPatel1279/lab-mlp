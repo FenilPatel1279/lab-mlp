{
 "cells": [
  {
   "attachments": {},
   "cell_type": "markdown",
   "metadata": {},
   "source": [
    "# **Tidying**"
   ]
  },
  {
   "attachments": {},
   "cell_type": "markdown",
   "metadata": {},
   "source": [
    "Part of the data engineering process is data cleaning and tidying. What is done in those two processes, is trying to make the data more readable, and complete. This makes much easier to analyze, visualize, and train the data.\n"
   ]
  },
  {
   "attachments": {},
   "cell_type": "markdown",
   "metadata": {},
   "source": [
    "## **Data Tidying**\n",
    "\n",
    "Making the data more organized, and readable is the result of applying data tidying. \n",
    "\n",
    "In this section two main pandas functions are used in data tidying those are `melt` and `pivot_table`."
   ]
  },
  {
   "attachments": {},
   "cell_type": "markdown",
   "metadata": {},
   "source": [
    "Let's start by taking a look at the below dataframe, which represents the income ranges based on religion. This is part of the PEW research, which is famous in the US for conducting pollings and surveys on citizens.\n",
    "\n",
    "When the following are satisfied:\n",
    "\n",
    "\n",
    "1. Each variable forms a column\n",
    "2. Each observation forms a row\n",
    "3. Each type of observational unit forms a table\n",
    "\n",
    "We can then say that our dataset is *tidy*.\n",
    "\n",
    "First we need to import pandas to read csv datasets."
   ]
  },
  {
   "cell_type": "code",
   "execution_count": 301,
   "metadata": {},
   "outputs": [],
   "source": [
    "import pandas as pd\n",
    "import numpy as np\n"
   ]
  },
  {
   "attachments": {},
   "cell_type": "markdown",
   "metadata": {},
   "source": [
    "### **PEW Research Dataset**"
   ]
  },
  {
   "attachments": {},
   "cell_type": "markdown",
   "metadata": {},
   "source": [
    "1. Start by Importing the dataset into a pandas dataframe."
   ]
  },
  {
   "cell_type": "code",
   "execution_count": 302,
   "metadata": {},
   "outputs": [
    {
     "data": {
      "application/vnd.microsoft.datawrangler.viewer.v0+json": {
       "columns": [
        {
         "name": "index",
         "rawType": "int64",
         "type": "integer"
        },
        {
         "name": "religion",
         "rawType": "object",
         "type": "string"
        },
        {
         "name": " <$10k",
         "rawType": "int64",
         "type": "integer"
        },
        {
         "name": " $10-20k",
         "rawType": "int64",
         "type": "integer"
        },
        {
         "name": "$20-30k",
         "rawType": "int64",
         "type": "integer"
        },
        {
         "name": "$30-40k",
         "rawType": "int64",
         "type": "integer"
        },
        {
         "name": " $40-50k",
         "rawType": "int64",
         "type": "integer"
        },
        {
         "name": "$50-75k",
         "rawType": "int64",
         "type": "integer"
        }
       ],
       "ref": "19fd8707-d25b-4310-a3c9-fb02c5621655",
       "rows": [
        [
         "0",
         "Agnostic",
         "27",
         "34",
         "60",
         "81",
         "76",
         "137"
        ],
        [
         "1",
         "Atheist",
         "12",
         "27",
         "37",
         "52",
         "35",
         "70"
        ],
        [
         "2",
         "Buddhist",
         "27",
         "21",
         "30",
         "34",
         "33",
         "58"
        ],
        [
         "3",
         "Catholic",
         "418",
         "617",
         "732",
         "670",
         "638",
         "1116"
        ],
        [
         "4",
         "Dont know/refused",
         "15",
         "14",
         "15",
         "11",
         "10",
         "35"
        ],
        [
         "5",
         "Evangelical Prot ",
         "575",
         "869",
         "1064",
         "982",
         "881",
         "1486"
        ],
        [
         "6",
         "Hindu ",
         "1",
         "9",
         "7",
         "9",
         "11",
         "34"
        ],
        [
         "7",
         "Historically Black Prot ",
         "228",
         "244",
         "236",
         "238",
         "197",
         "223"
        ],
        [
         "8",
         "Jehovahs Witness ",
         "20",
         "27",
         "24",
         "24",
         "21",
         "30"
        ],
        [
         "9",
         "Jewish ",
         "19",
         "19",
         "25",
         "25",
         "30",
         "95"
        ]
       ],
       "shape": {
        "columns": 7,
        "rows": 10
       }
      },
      "text/html": [
       "<div>\n",
       "<style scoped>\n",
       "    .dataframe tbody tr th:only-of-type {\n",
       "        vertical-align: middle;\n",
       "    }\n",
       "\n",
       "    .dataframe tbody tr th {\n",
       "        vertical-align: top;\n",
       "    }\n",
       "\n",
       "    .dataframe thead th {\n",
       "        text-align: right;\n",
       "    }\n",
       "</style>\n",
       "<table border=\"1\" class=\"dataframe\">\n",
       "  <thead>\n",
       "    <tr style=\"text-align: right;\">\n",
       "      <th></th>\n",
       "      <th>religion</th>\n",
       "      <th>&lt;$10k</th>\n",
       "      <th>$10-20k</th>\n",
       "      <th>$20-30k</th>\n",
       "      <th>$30-40k</th>\n",
       "      <th>$40-50k</th>\n",
       "      <th>$50-75k</th>\n",
       "    </tr>\n",
       "  </thead>\n",
       "  <tbody>\n",
       "    <tr>\n",
       "      <th>0</th>\n",
       "      <td>Agnostic</td>\n",
       "      <td>27</td>\n",
       "      <td>34</td>\n",
       "      <td>60</td>\n",
       "      <td>81</td>\n",
       "      <td>76</td>\n",
       "      <td>137</td>\n",
       "    </tr>\n",
       "    <tr>\n",
       "      <th>1</th>\n",
       "      <td>Atheist</td>\n",
       "      <td>12</td>\n",
       "      <td>27</td>\n",
       "      <td>37</td>\n",
       "      <td>52</td>\n",
       "      <td>35</td>\n",
       "      <td>70</td>\n",
       "    </tr>\n",
       "    <tr>\n",
       "      <th>2</th>\n",
       "      <td>Buddhist</td>\n",
       "      <td>27</td>\n",
       "      <td>21</td>\n",
       "      <td>30</td>\n",
       "      <td>34</td>\n",
       "      <td>33</td>\n",
       "      <td>58</td>\n",
       "    </tr>\n",
       "    <tr>\n",
       "      <th>3</th>\n",
       "      <td>Catholic</td>\n",
       "      <td>418</td>\n",
       "      <td>617</td>\n",
       "      <td>732</td>\n",
       "      <td>670</td>\n",
       "      <td>638</td>\n",
       "      <td>1116</td>\n",
       "    </tr>\n",
       "    <tr>\n",
       "      <th>4</th>\n",
       "      <td>Dont know/refused</td>\n",
       "      <td>15</td>\n",
       "      <td>14</td>\n",
       "      <td>15</td>\n",
       "      <td>11</td>\n",
       "      <td>10</td>\n",
       "      <td>35</td>\n",
       "    </tr>\n",
       "    <tr>\n",
       "      <th>5</th>\n",
       "      <td>Evangelical Prot</td>\n",
       "      <td>575</td>\n",
       "      <td>869</td>\n",
       "      <td>1064</td>\n",
       "      <td>982</td>\n",
       "      <td>881</td>\n",
       "      <td>1486</td>\n",
       "    </tr>\n",
       "    <tr>\n",
       "      <th>6</th>\n",
       "      <td>Hindu</td>\n",
       "      <td>1</td>\n",
       "      <td>9</td>\n",
       "      <td>7</td>\n",
       "      <td>9</td>\n",
       "      <td>11</td>\n",
       "      <td>34</td>\n",
       "    </tr>\n",
       "    <tr>\n",
       "      <th>7</th>\n",
       "      <td>Historically Black Prot</td>\n",
       "      <td>228</td>\n",
       "      <td>244</td>\n",
       "      <td>236</td>\n",
       "      <td>238</td>\n",
       "      <td>197</td>\n",
       "      <td>223</td>\n",
       "    </tr>\n",
       "    <tr>\n",
       "      <th>8</th>\n",
       "      <td>Jehovahs Witness</td>\n",
       "      <td>20</td>\n",
       "      <td>27</td>\n",
       "      <td>24</td>\n",
       "      <td>24</td>\n",
       "      <td>21</td>\n",
       "      <td>30</td>\n",
       "    </tr>\n",
       "    <tr>\n",
       "      <th>9</th>\n",
       "      <td>Jewish</td>\n",
       "      <td>19</td>\n",
       "      <td>19</td>\n",
       "      <td>25</td>\n",
       "      <td>25</td>\n",
       "      <td>30</td>\n",
       "      <td>95</td>\n",
       "    </tr>\n",
       "  </tbody>\n",
       "</table>\n",
       "</div>"
      ],
      "text/plain": [
       "                   religion   <$10k   $10-20k  $20-30k  $30-40k   $40-50k  \\\n",
       "0                  Agnostic      27        34       60       81        76   \n",
       "1                   Atheist      12        27       37       52        35   \n",
       "2                  Buddhist      27        21       30       34        33   \n",
       "3                  Catholic     418       617      732      670       638   \n",
       "4         Dont know/refused      15        14       15       11        10   \n",
       "5         Evangelical Prot      575       869     1064      982       881   \n",
       "6                    Hindu        1         9        7        9        11   \n",
       "7  Historically Black Prot      228       244      236      238       197   \n",
       "8         Jehovahs Witness       20        27       24       24        21   \n",
       "9                   Jewish       19        19       25       25        30   \n",
       "\n",
       "   $50-75k  \n",
       "0      137  \n",
       "1       70  \n",
       "2       58  \n",
       "3     1116  \n",
       "4       35  \n",
       "5     1486  \n",
       "6       34  \n",
       "7      223  \n",
       "8       30  \n",
       "9       95  "
      ]
     },
     "execution_count": 302,
     "metadata": {},
     "output_type": "execute_result"
    }
   ],
   "source": [
    "# Read the file from the 'CSV' folder\n",
    "df = pd.read_csv('./CSV/pew-raw.csv')\n",
    "\n",
    "# Show the first 15 rows\n",
    "df.head(15)\n"
   ]
  },
  {
   "attachments": {},
   "cell_type": "markdown",
   "metadata": {},
   "source": [
    "2. Observe the dataset using the `loc`, `iloc`, `head`, or `tail` approaches"
   ]
  },
  {
   "cell_type": "code",
   "execution_count": 303,
   "metadata": {},
   "outputs": [
    {
     "name": "stdout",
     "output_type": "stream",
     "text": [
      "First 5 rows using head():\n"
     ]
    },
    {
     "data": {
      "application/vnd.microsoft.datawrangler.viewer.v0+json": {
       "columns": [
        {
         "name": "index",
         "rawType": "int64",
         "type": "integer"
        },
        {
         "name": "religion",
         "rawType": "object",
         "type": "string"
        },
        {
         "name": " <$10k",
         "rawType": "int64",
         "type": "integer"
        },
        {
         "name": " $10-20k",
         "rawType": "int64",
         "type": "integer"
        },
        {
         "name": "$20-30k",
         "rawType": "int64",
         "type": "integer"
        },
        {
         "name": "$30-40k",
         "rawType": "int64",
         "type": "integer"
        },
        {
         "name": " $40-50k",
         "rawType": "int64",
         "type": "integer"
        },
        {
         "name": "$50-75k",
         "rawType": "int64",
         "type": "integer"
        }
       ],
       "ref": "c63cb597-a903-45e7-8acb-01eaf24f13ee",
       "rows": [
        [
         "0",
         "Agnostic",
         "27",
         "34",
         "60",
         "81",
         "76",
         "137"
        ],
        [
         "1",
         "Atheist",
         "12",
         "27",
         "37",
         "52",
         "35",
         "70"
        ],
        [
         "2",
         "Buddhist",
         "27",
         "21",
         "30",
         "34",
         "33",
         "58"
        ],
        [
         "3",
         "Catholic",
         "418",
         "617",
         "732",
         "670",
         "638",
         "1116"
        ],
        [
         "4",
         "Dont know/refused",
         "15",
         "14",
         "15",
         "11",
         "10",
         "35"
        ]
       ],
       "shape": {
        "columns": 7,
        "rows": 5
       }
      },
      "text/html": [
       "<div>\n",
       "<style scoped>\n",
       "    .dataframe tbody tr th:only-of-type {\n",
       "        vertical-align: middle;\n",
       "    }\n",
       "\n",
       "    .dataframe tbody tr th {\n",
       "        vertical-align: top;\n",
       "    }\n",
       "\n",
       "    .dataframe thead th {\n",
       "        text-align: right;\n",
       "    }\n",
       "</style>\n",
       "<table border=\"1\" class=\"dataframe\">\n",
       "  <thead>\n",
       "    <tr style=\"text-align: right;\">\n",
       "      <th></th>\n",
       "      <th>religion</th>\n",
       "      <th>&lt;$10k</th>\n",
       "      <th>$10-20k</th>\n",
       "      <th>$20-30k</th>\n",
       "      <th>$30-40k</th>\n",
       "      <th>$40-50k</th>\n",
       "      <th>$50-75k</th>\n",
       "    </tr>\n",
       "  </thead>\n",
       "  <tbody>\n",
       "    <tr>\n",
       "      <th>0</th>\n",
       "      <td>Agnostic</td>\n",
       "      <td>27</td>\n",
       "      <td>34</td>\n",
       "      <td>60</td>\n",
       "      <td>81</td>\n",
       "      <td>76</td>\n",
       "      <td>137</td>\n",
       "    </tr>\n",
       "    <tr>\n",
       "      <th>1</th>\n",
       "      <td>Atheist</td>\n",
       "      <td>12</td>\n",
       "      <td>27</td>\n",
       "      <td>37</td>\n",
       "      <td>52</td>\n",
       "      <td>35</td>\n",
       "      <td>70</td>\n",
       "    </tr>\n",
       "    <tr>\n",
       "      <th>2</th>\n",
       "      <td>Buddhist</td>\n",
       "      <td>27</td>\n",
       "      <td>21</td>\n",
       "      <td>30</td>\n",
       "      <td>34</td>\n",
       "      <td>33</td>\n",
       "      <td>58</td>\n",
       "    </tr>\n",
       "    <tr>\n",
       "      <th>3</th>\n",
       "      <td>Catholic</td>\n",
       "      <td>418</td>\n",
       "      <td>617</td>\n",
       "      <td>732</td>\n",
       "      <td>670</td>\n",
       "      <td>638</td>\n",
       "      <td>1116</td>\n",
       "    </tr>\n",
       "    <tr>\n",
       "      <th>4</th>\n",
       "      <td>Dont know/refused</td>\n",
       "      <td>15</td>\n",
       "      <td>14</td>\n",
       "      <td>15</td>\n",
       "      <td>11</td>\n",
       "      <td>10</td>\n",
       "      <td>35</td>\n",
       "    </tr>\n",
       "  </tbody>\n",
       "</table>\n",
       "</div>"
      ],
      "text/plain": [
       "            religion   <$10k   $10-20k  $20-30k  $30-40k   $40-50k  $50-75k\n",
       "0           Agnostic      27        34       60       81        76      137\n",
       "1            Atheist      12        27       37       52        35       70\n",
       "2           Buddhist      27        21       30       34        33       58\n",
       "3           Catholic     418       617      732      670       638     1116\n",
       "4  Dont know/refused      15        14       15       11        10       35"
      ]
     },
     "metadata": {},
     "output_type": "display_data"
    },
    {
     "name": "stdout",
     "output_type": "stream",
     "text": [
      "Last 5 rows using tail():\n"
     ]
    },
    {
     "data": {
      "application/vnd.microsoft.datawrangler.viewer.v0+json": {
       "columns": [
        {
         "name": "index",
         "rawType": "int64",
         "type": "integer"
        },
        {
         "name": "religion",
         "rawType": "object",
         "type": "string"
        },
        {
         "name": " <$10k",
         "rawType": "int64",
         "type": "integer"
        },
        {
         "name": " $10-20k",
         "rawType": "int64",
         "type": "integer"
        },
        {
         "name": "$20-30k",
         "rawType": "int64",
         "type": "integer"
        },
        {
         "name": "$30-40k",
         "rawType": "int64",
         "type": "integer"
        },
        {
         "name": " $40-50k",
         "rawType": "int64",
         "type": "integer"
        },
        {
         "name": "$50-75k",
         "rawType": "int64",
         "type": "integer"
        }
       ],
       "ref": "e4254858-1fb6-47e5-b0b7-a34f4b2a4765",
       "rows": [
        [
         "5",
         "Evangelical Prot ",
         "575",
         "869",
         "1064",
         "982",
         "881",
         "1486"
        ],
        [
         "6",
         "Hindu ",
         "1",
         "9",
         "7",
         "9",
         "11",
         "34"
        ],
        [
         "7",
         "Historically Black Prot ",
         "228",
         "244",
         "236",
         "238",
         "197",
         "223"
        ],
        [
         "8",
         "Jehovahs Witness ",
         "20",
         "27",
         "24",
         "24",
         "21",
         "30"
        ],
        [
         "9",
         "Jewish ",
         "19",
         "19",
         "25",
         "25",
         "30",
         "95"
        ]
       ],
       "shape": {
        "columns": 7,
        "rows": 5
       }
      },
      "text/html": [
       "<div>\n",
       "<style scoped>\n",
       "    .dataframe tbody tr th:only-of-type {\n",
       "        vertical-align: middle;\n",
       "    }\n",
       "\n",
       "    .dataframe tbody tr th {\n",
       "        vertical-align: top;\n",
       "    }\n",
       "\n",
       "    .dataframe thead th {\n",
       "        text-align: right;\n",
       "    }\n",
       "</style>\n",
       "<table border=\"1\" class=\"dataframe\">\n",
       "  <thead>\n",
       "    <tr style=\"text-align: right;\">\n",
       "      <th></th>\n",
       "      <th>religion</th>\n",
       "      <th>&lt;$10k</th>\n",
       "      <th>$10-20k</th>\n",
       "      <th>$20-30k</th>\n",
       "      <th>$30-40k</th>\n",
       "      <th>$40-50k</th>\n",
       "      <th>$50-75k</th>\n",
       "    </tr>\n",
       "  </thead>\n",
       "  <tbody>\n",
       "    <tr>\n",
       "      <th>5</th>\n",
       "      <td>Evangelical Prot</td>\n",
       "      <td>575</td>\n",
       "      <td>869</td>\n",
       "      <td>1064</td>\n",
       "      <td>982</td>\n",
       "      <td>881</td>\n",
       "      <td>1486</td>\n",
       "    </tr>\n",
       "    <tr>\n",
       "      <th>6</th>\n",
       "      <td>Hindu</td>\n",
       "      <td>1</td>\n",
       "      <td>9</td>\n",
       "      <td>7</td>\n",
       "      <td>9</td>\n",
       "      <td>11</td>\n",
       "      <td>34</td>\n",
       "    </tr>\n",
       "    <tr>\n",
       "      <th>7</th>\n",
       "      <td>Historically Black Prot</td>\n",
       "      <td>228</td>\n",
       "      <td>244</td>\n",
       "      <td>236</td>\n",
       "      <td>238</td>\n",
       "      <td>197</td>\n",
       "      <td>223</td>\n",
       "    </tr>\n",
       "    <tr>\n",
       "      <th>8</th>\n",
       "      <td>Jehovahs Witness</td>\n",
       "      <td>20</td>\n",
       "      <td>27</td>\n",
       "      <td>24</td>\n",
       "      <td>24</td>\n",
       "      <td>21</td>\n",
       "      <td>30</td>\n",
       "    </tr>\n",
       "    <tr>\n",
       "      <th>9</th>\n",
       "      <td>Jewish</td>\n",
       "      <td>19</td>\n",
       "      <td>19</td>\n",
       "      <td>25</td>\n",
       "      <td>25</td>\n",
       "      <td>30</td>\n",
       "      <td>95</td>\n",
       "    </tr>\n",
       "  </tbody>\n",
       "</table>\n",
       "</div>"
      ],
      "text/plain": [
       "                   religion   <$10k   $10-20k  $20-30k  $30-40k   $40-50k  \\\n",
       "5         Evangelical Prot      575       869     1064      982       881   \n",
       "6                    Hindu        1         9        7        9        11   \n",
       "7  Historically Black Prot      228       244      236      238       197   \n",
       "8         Jehovahs Witness       20        27       24       24        21   \n",
       "9                   Jewish       19        19       25       25        30   \n",
       "\n",
       "   $50-75k  \n",
       "5     1486  \n",
       "6       34  \n",
       "7      223  \n",
       "8       30  \n",
       "9       95  "
      ]
     },
     "metadata": {},
     "output_type": "display_data"
    },
    {
     "name": "stdout",
     "output_type": "stream",
     "text": [
      "Row at index 2 using iloc:\n"
     ]
    },
    {
     "data": {
      "application/vnd.microsoft.datawrangler.viewer.v0+json": {
       "columns": [
        {
         "name": "index",
         "rawType": "object",
         "type": "string"
        },
        {
         "name": "2",
         "rawType": "object",
         "type": "unknown"
        }
       ],
       "ref": "70fa1b52-f29a-4826-88b6-f33c5871917a",
       "rows": [
        [
         "religion",
         "Buddhist"
        ],
        [
         " <$10k",
         "27"
        ],
        [
         " $10-20k",
         "21"
        ],
        [
         "$20-30k",
         "30"
        ],
        [
         "$30-40k",
         "34"
        ],
        [
         " $40-50k",
         "33"
        ],
        [
         "$50-75k",
         "58"
        ]
       ],
       "shape": {
        "columns": 1,
        "rows": 7
       }
      },
      "text/plain": [
       "religion    Buddhist\n",
       " <$10k            27\n",
       " $10-20k          21\n",
       "$20-30k           30\n",
       "$30-40k           34\n",
       " $40-50k          33\n",
       "$50-75k           58\n",
       "Name: 2, dtype: object"
      ]
     },
     "metadata": {},
     "output_type": "display_data"
    },
    {
     "name": "stdout",
     "output_type": "stream",
     "text": [
      "First 3 rows of selected columns using loc:\n"
     ]
    },
    {
     "data": {
      "application/vnd.microsoft.datawrangler.viewer.v0+json": {
       "columns": [
        {
         "name": "index",
         "rawType": "int64",
         "type": "integer"
        },
        {
         "name": "religion",
         "rawType": "object",
         "type": "string"
        },
        {
         "name": "<$10k",
         "rawType": "int64",
         "type": "integer"
        },
        {
         "name": "$50-75k",
         "rawType": "int64",
         "type": "integer"
        }
       ],
       "ref": "9f12f7ee-9ea7-481c-bdd3-4c19ccd4b96c",
       "rows": [
        [
         "0",
         "Agnostic",
         "27",
         "137"
        ],
        [
         "1",
         "Atheist",
         "12",
         "70"
        ],
        [
         "2",
         "Buddhist",
         "27",
         "58"
        ]
       ],
       "shape": {
        "columns": 3,
        "rows": 3
       }
      },
      "text/html": [
       "<div>\n",
       "<style scoped>\n",
       "    .dataframe tbody tr th:only-of-type {\n",
       "        vertical-align: middle;\n",
       "    }\n",
       "\n",
       "    .dataframe tbody tr th {\n",
       "        vertical-align: top;\n",
       "    }\n",
       "\n",
       "    .dataframe thead th {\n",
       "        text-align: right;\n",
       "    }\n",
       "</style>\n",
       "<table border=\"1\" class=\"dataframe\">\n",
       "  <thead>\n",
       "    <tr style=\"text-align: right;\">\n",
       "      <th></th>\n",
       "      <th>religion</th>\n",
       "      <th>&lt;$10k</th>\n",
       "      <th>$50-75k</th>\n",
       "    </tr>\n",
       "  </thead>\n",
       "  <tbody>\n",
       "    <tr>\n",
       "      <th>0</th>\n",
       "      <td>Agnostic</td>\n",
       "      <td>27</td>\n",
       "      <td>137</td>\n",
       "    </tr>\n",
       "    <tr>\n",
       "      <th>1</th>\n",
       "      <td>Atheist</td>\n",
       "      <td>12</td>\n",
       "      <td>70</td>\n",
       "    </tr>\n",
       "    <tr>\n",
       "      <th>2</th>\n",
       "      <td>Buddhist</td>\n",
       "      <td>27</td>\n",
       "      <td>58</td>\n",
       "    </tr>\n",
       "  </tbody>\n",
       "</table>\n",
       "</div>"
      ],
      "text/plain": [
       "   religion  <$10k  $50-75k\n",
       "0  Agnostic     27      137\n",
       "1   Atheist     12       70\n",
       "2  Buddhist     27       58"
      ]
     },
     "metadata": {},
     "output_type": "display_data"
    }
   ],
   "source": [
    "# Display the first 5 rows using head()\n",
    "print(\"First 5 rows using head():\")\n",
    "display(df.head())\n",
    "\n",
    "# Display the last 5 rows using tail()\n",
    "print(\"Last 5 rows using tail():\")\n",
    "display(df.tail())\n",
    "\n",
    "# Access the 3rd row using iloc \n",
    "print(\"Row at index 2 using iloc:\")\n",
    "display(df.iloc[2])\n",
    "\n",
    "# Remove leading/trailing spaces from column names\n",
    "df.columns = df.columns.str.strip()\n",
    "\n",
    "# Access specific rows and columns using loc\n",
    "print(\"First 3 rows of selected columns using loc:\")\n",
    "display(df.loc[0:2, ['religion', '<$10k', '$50-75k']])\n"
   ]
  },
  {
   "attachments": {},
   "cell_type": "markdown",
   "metadata": {},
   "source": [
    "***What does not seem right in the above dataframe?***"
   ]
  },
  {
   "cell_type": "markdown",
   "metadata": {},
   "source": [
    "Because income ranges—which are essentially data values—are used as column headers, the original dataframe is not neat.  Analysis is challenging because of this structure.  Every variable should have its own column in a neat fashion.  By transforming income ranges into values under a single 'income' column, melt() fixes this."
   ]
  },
  {
   "attachments": {},
   "cell_type": "markdown",
   "metadata": {},
   "source": [
    "3. Try to make the column headers represent a variable not a value. For that, use the `melt` function."
   ]
  },
  {
   "cell_type": "code",
   "execution_count": 304,
   "metadata": {},
   "outputs": [
    {
     "name": "stdout",
     "output_type": "stream",
     "text": [
      "Tidy DataFrame:\n"
     ]
    },
    {
     "data": {
      "application/vnd.microsoft.datawrangler.viewer.v0+json": {
       "columns": [
        {
         "name": "index",
         "rawType": "int64",
         "type": "integer"
        },
        {
         "name": "religion",
         "rawType": "object",
         "type": "string"
        },
        {
         "name": "income",
         "rawType": "object",
         "type": "string"
        },
        {
         "name": "count",
         "rawType": "int64",
         "type": "integer"
        }
       ],
       "ref": "1f1d3771-eedb-4ad4-91b3-129b3179676b",
       "rows": [
        [
         "0",
         "Agnostic",
         "<$10k",
         "27"
        ],
        [
         "1",
         "Atheist",
         "<$10k",
         "12"
        ],
        [
         "2",
         "Buddhist",
         "<$10k",
         "27"
        ],
        [
         "3",
         "Catholic",
         "<$10k",
         "418"
        ],
        [
         "4",
         "Dont know/refused",
         "<$10k",
         "15"
        ]
       ],
       "shape": {
        "columns": 3,
        "rows": 5
       }
      },
      "text/html": [
       "<div>\n",
       "<style scoped>\n",
       "    .dataframe tbody tr th:only-of-type {\n",
       "        vertical-align: middle;\n",
       "    }\n",
       "\n",
       "    .dataframe tbody tr th {\n",
       "        vertical-align: top;\n",
       "    }\n",
       "\n",
       "    .dataframe thead th {\n",
       "        text-align: right;\n",
       "    }\n",
       "</style>\n",
       "<table border=\"1\" class=\"dataframe\">\n",
       "  <thead>\n",
       "    <tr style=\"text-align: right;\">\n",
       "      <th></th>\n",
       "      <th>religion</th>\n",
       "      <th>income</th>\n",
       "      <th>count</th>\n",
       "    </tr>\n",
       "  </thead>\n",
       "  <tbody>\n",
       "    <tr>\n",
       "      <th>0</th>\n",
       "      <td>Agnostic</td>\n",
       "      <td>&lt;$10k</td>\n",
       "      <td>27</td>\n",
       "    </tr>\n",
       "    <tr>\n",
       "      <th>1</th>\n",
       "      <td>Atheist</td>\n",
       "      <td>&lt;$10k</td>\n",
       "      <td>12</td>\n",
       "    </tr>\n",
       "    <tr>\n",
       "      <th>2</th>\n",
       "      <td>Buddhist</td>\n",
       "      <td>&lt;$10k</td>\n",
       "      <td>27</td>\n",
       "    </tr>\n",
       "    <tr>\n",
       "      <th>3</th>\n",
       "      <td>Catholic</td>\n",
       "      <td>&lt;$10k</td>\n",
       "      <td>418</td>\n",
       "    </tr>\n",
       "    <tr>\n",
       "      <th>4</th>\n",
       "      <td>Dont know/refused</td>\n",
       "      <td>&lt;$10k</td>\n",
       "      <td>15</td>\n",
       "    </tr>\n",
       "  </tbody>\n",
       "</table>\n",
       "</div>"
      ],
      "text/plain": [
       "            religion income  count\n",
       "0           Agnostic  <$10k     27\n",
       "1            Atheist  <$10k     12\n",
       "2           Buddhist  <$10k     27\n",
       "3           Catholic  <$10k    418\n",
       "4  Dont know/refused  <$10k     15"
      ]
     },
     "metadata": {},
     "output_type": "display_data"
    }
   ],
   "source": [
    "# Melt the dataframe to make it tidy\n",
    "df_tidy = df.melt(id_vars='religion', var_name='income', value_name='count')\n",
    "\n",
    "# Display the tidy version\n",
    "print(\"Tidy DataFrame:\")\n",
    "display(df_tidy.head())\n"
   ]
  },
  {
   "attachments": {},
   "cell_type": "markdown",
   "metadata": {},
   "source": [
    "### **Billboard Dataset**"
   ]
  },
  {
   "attachments": {},
   "cell_type": "markdown",
   "metadata": {},
   "source": [
    "This dataset outlines data about the top hit songs on the Billboard list and the week from entrance that it was in the billboard with the ranking."
   ]
  },
  {
   "attachments": {},
   "cell_type": "markdown",
   "metadata": {},
   "source": [
    "1. Read the dataset and store it in a pandas dataframe. Note that the usual utf-8 encoding does not work on this dataset. The reason behind this is that there might be characters that are not supported by `utf-8`.\n",
    "\n",
    "The suggestion is to use for this dataset `unicode_escape` encoding. (converts all non-ASCII characters into their \\uXXXX representations)"
   ]
  },
  {
   "cell_type": "code",
   "execution_count": 305,
   "metadata": {},
   "outputs": [
    {
     "data": {
      "application/vnd.microsoft.datawrangler.viewer.v0+json": {
       "columns": [
        {
         "name": "index",
         "rawType": "int64",
         "type": "integer"
        },
        {
         "name": "year",
         "rawType": "int64",
         "type": "integer"
        },
        {
         "name": "artist.inverted",
         "rawType": "object",
         "type": "string"
        },
        {
         "name": "track",
         "rawType": "object",
         "type": "string"
        },
        {
         "name": "time",
         "rawType": "object",
         "type": "string"
        },
        {
         "name": "genre",
         "rawType": "object",
         "type": "string"
        },
        {
         "name": "date.entered",
         "rawType": "object",
         "type": "string"
        },
        {
         "name": "date.peaked",
         "rawType": "object",
         "type": "string"
        },
        {
         "name": "x1st.week",
         "rawType": "int64",
         "type": "integer"
        },
        {
         "name": "x2nd.week",
         "rawType": "float64",
         "type": "float"
        },
        {
         "name": "x3rd.week",
         "rawType": "float64",
         "type": "float"
        },
        {
         "name": "x4th.week",
         "rawType": "float64",
         "type": "float"
        },
        {
         "name": "x5th.week",
         "rawType": "float64",
         "type": "float"
        },
        {
         "name": "x6th.week",
         "rawType": "float64",
         "type": "float"
        },
        {
         "name": "x7th.week",
         "rawType": "float64",
         "type": "float"
        },
        {
         "name": "x8th.week",
         "rawType": "float64",
         "type": "float"
        },
        {
         "name": "x9th.week",
         "rawType": "float64",
         "type": "float"
        },
        {
         "name": "x10th.week",
         "rawType": "float64",
         "type": "float"
        },
        {
         "name": "x11th.week",
         "rawType": "float64",
         "type": "float"
        },
        {
         "name": "x12th.week",
         "rawType": "float64",
         "type": "float"
        },
        {
         "name": "x13th.week",
         "rawType": "float64",
         "type": "float"
        },
        {
         "name": "x14th.week",
         "rawType": "float64",
         "type": "float"
        },
        {
         "name": "x15th.week",
         "rawType": "float64",
         "type": "float"
        },
        {
         "name": "x16th.week",
         "rawType": "float64",
         "type": "float"
        },
        {
         "name": "x17th.week",
         "rawType": "float64",
         "type": "float"
        },
        {
         "name": "x18th.week",
         "rawType": "float64",
         "type": "float"
        },
        {
         "name": "x19th.week",
         "rawType": "float64",
         "type": "float"
        },
        {
         "name": "x20th.week",
         "rawType": "float64",
         "type": "float"
        },
        {
         "name": "x21st.week",
         "rawType": "float64",
         "type": "float"
        },
        {
         "name": "x22nd.week",
         "rawType": "float64",
         "type": "float"
        },
        {
         "name": "x23rd.week",
         "rawType": "float64",
         "type": "float"
        },
        {
         "name": "x24th.week",
         "rawType": "float64",
         "type": "float"
        },
        {
         "name": "x25th.week",
         "rawType": "float64",
         "type": "float"
        },
        {
         "name": "x26th.week",
         "rawType": "float64",
         "type": "float"
        },
        {
         "name": "x27th.week",
         "rawType": "float64",
         "type": "float"
        },
        {
         "name": "x28th.week",
         "rawType": "float64",
         "type": "float"
        },
        {
         "name": "x29th.week",
         "rawType": "float64",
         "type": "float"
        },
        {
         "name": "x30th.week",
         "rawType": "float64",
         "type": "float"
        },
        {
         "name": "x31st.week",
         "rawType": "float64",
         "type": "float"
        },
        {
         "name": "x32nd.week",
         "rawType": "float64",
         "type": "float"
        },
        {
         "name": "x33rd.week",
         "rawType": "float64",
         "type": "float"
        },
        {
         "name": "x34th.week",
         "rawType": "float64",
         "type": "float"
        },
        {
         "name": "x35th.week",
         "rawType": "float64",
         "type": "float"
        },
        {
         "name": "x36th.week",
         "rawType": "float64",
         "type": "float"
        },
        {
         "name": "x37th.week",
         "rawType": "float64",
         "type": "float"
        },
        {
         "name": "x38th.week",
         "rawType": "float64",
         "type": "float"
        },
        {
         "name": "x39th.week",
         "rawType": "float64",
         "type": "float"
        },
        {
         "name": "x40th.week",
         "rawType": "float64",
         "type": "float"
        },
        {
         "name": "x41st.week",
         "rawType": "float64",
         "type": "float"
        },
        {
         "name": "x42nd.week",
         "rawType": "float64",
         "type": "float"
        },
        {
         "name": "x43rd.week",
         "rawType": "float64",
         "type": "float"
        },
        {
         "name": "x44th.week",
         "rawType": "float64",
         "type": "float"
        },
        {
         "name": "x45th.week",
         "rawType": "float64",
         "type": "float"
        },
        {
         "name": "x46th.week",
         "rawType": "float64",
         "type": "float"
        },
        {
         "name": "x47th.week",
         "rawType": "float64",
         "type": "float"
        },
        {
         "name": "x48th.week",
         "rawType": "float64",
         "type": "float"
        },
        {
         "name": "x49th.week",
         "rawType": "float64",
         "type": "float"
        },
        {
         "name": "x50th.week",
         "rawType": "float64",
         "type": "float"
        },
        {
         "name": "x51st.week",
         "rawType": "float64",
         "type": "float"
        },
        {
         "name": "x52nd.week",
         "rawType": "float64",
         "type": "float"
        },
        {
         "name": "x53rd.week",
         "rawType": "float64",
         "type": "float"
        },
        {
         "name": "x54th.week",
         "rawType": "float64",
         "type": "float"
        },
        {
         "name": "x55th.week",
         "rawType": "float64",
         "type": "float"
        },
        {
         "name": "x56th.week",
         "rawType": "float64",
         "type": "float"
        },
        {
         "name": "x57th.week",
         "rawType": "float64",
         "type": "float"
        },
        {
         "name": "x58th.week",
         "rawType": "float64",
         "type": "float"
        },
        {
         "name": "x59th.week",
         "rawType": "float64",
         "type": "float"
        },
        {
         "name": "x60th.week",
         "rawType": "float64",
         "type": "float"
        },
        {
         "name": "x61st.week",
         "rawType": "float64",
         "type": "float"
        },
        {
         "name": "x62nd.week",
         "rawType": "float64",
         "type": "float"
        },
        {
         "name": "x63rd.week",
         "rawType": "float64",
         "type": "float"
        },
        {
         "name": "x64th.week",
         "rawType": "float64",
         "type": "float"
        },
        {
         "name": "x65th.week",
         "rawType": "float64",
         "type": "float"
        },
        {
         "name": "x66th.week",
         "rawType": "float64",
         "type": "float"
        },
        {
         "name": "x67th.week",
         "rawType": "float64",
         "type": "float"
        },
        {
         "name": "x68th.week",
         "rawType": "float64",
         "type": "float"
        },
        {
         "name": "x69th.week",
         "rawType": "float64",
         "type": "float"
        },
        {
         "name": "x70th.week",
         "rawType": "float64",
         "type": "float"
        },
        {
         "name": "x71st.week",
         "rawType": "float64",
         "type": "float"
        },
        {
         "name": "x72nd.week",
         "rawType": "float64",
         "type": "float"
        },
        {
         "name": "x73rd.week",
         "rawType": "float64",
         "type": "float"
        },
        {
         "name": "x74th.week",
         "rawType": "float64",
         "type": "float"
        },
        {
         "name": "x75th.week",
         "rawType": "float64",
         "type": "float"
        },
        {
         "name": "x76th.week",
         "rawType": "float64",
         "type": "float"
        }
       ],
       "ref": "bd694543-0dc2-4496-bc4a-c70b230f2b2c",
       "rows": [
        [
         "0",
         "2000",
         "Destiny's Child",
         "Independent Women Part I",
         "3:38",
         "Rock",
         "2000-09-23",
         "2000-11-18",
         "78",
         "63.0",
         "49.0",
         "33.0",
         "23.0",
         "15.0",
         "7.0",
         "5.0",
         "1.0",
         "1.0",
         "1.0",
         "1.0",
         "1.0",
         "1.0",
         "1.0",
         "1.0",
         "1.0",
         "1.0",
         "1.0",
         "2.0",
         "3.0",
         "7.0",
         "10.0",
         "12.0",
         "15.0",
         "22.0",
         "29.0",
         "31.0",
         null,
         null,
         null,
         null,
         null,
         null,
         null,
         null,
         null,
         null,
         null,
         null,
         null,
         null,
         null,
         null,
         null,
         null,
         null,
         null,
         null,
         null,
         null,
         null,
         null,
         null,
         null,
         null,
         null,
         null,
         null,
         null,
         null,
         null,
         null,
         null,
         null,
         null,
         null,
         null,
         null,
         null,
         null,
         null,
         null,
         null,
         null,
         null
        ],
        [
         "1",
         "2000",
         "Santana",
         "Maria, Maria",
         "4:18",
         "Rock",
         "2000-02-12",
         "2000-04-08",
         "15",
         "8.0",
         "6.0",
         "5.0",
         "2.0",
         "3.0",
         "2.0",
         "2.0",
         "1.0",
         "1.0",
         "1.0",
         "1.0",
         "1.0",
         "1.0",
         "1.0",
         "1.0",
         "1.0",
         "1.0",
         "8.0",
         "15.0",
         "19.0",
         "21.0",
         "26.0",
         "36.0",
         "48.0",
         "47.0",
         null,
         null,
         null,
         null,
         null,
         null,
         null,
         null,
         null,
         null,
         null,
         null,
         null,
         null,
         null,
         null,
         null,
         null,
         null,
         null,
         null,
         null,
         null,
         null,
         null,
         null,
         null,
         null,
         null,
         null,
         null,
         null,
         null,
         null,
         null,
         null,
         null,
         null,
         null,
         null,
         null,
         null,
         null,
         null,
         null,
         null,
         null,
         null,
         null,
         null
        ],
        [
         "2",
         "2000",
         "Savage Garden",
         "I Knew I Loved You",
         "4:07",
         "Rock",
         "1999-10-23",
         "2000-01-29",
         "71",
         "48.0",
         "43.0",
         "31.0",
         "20.0",
         "13.0",
         "7.0",
         "6.0",
         "4.0",
         "4.0",
         "4.0",
         "6.0",
         "4.0",
         "2.0",
         "1.0",
         "1.0",
         "1.0",
         "2.0",
         "1.0",
         "2.0",
         "4.0",
         "8.0",
         "8.0",
         "12.0",
         "14.0",
         "17.0",
         "21.0",
         "24.0",
         "30.0",
         "34.0",
         "37.0",
         "46.0",
         "47.0",
         null,
         null,
         null,
         null,
         null,
         null,
         null,
         null,
         null,
         null,
         null,
         null,
         null,
         null,
         null,
         null,
         null,
         null,
         null,
         null,
         null,
         null,
         null,
         null,
         null,
         null,
         null,
         null,
         null,
         null,
         null,
         null,
         null,
         null,
         null,
         null,
         null,
         null,
         null,
         null,
         null,
         null,
         null
        ],
        [
         "3",
         "2000",
         "Madonna",
         "Music",
         "3:45",
         "Rock",
         "2000-08-12",
         "2000-09-16",
         "41",
         "23.0",
         "18.0",
         "14.0",
         "2.0",
         "1.0",
         "1.0",
         "1.0",
         "1.0",
         "2.0",
         "2.0",
         "2.0",
         "2.0",
         "2.0",
         "4.0",
         "8.0",
         "11.0",
         "16.0",
         "20.0",
         "25.0",
         "27.0",
         "27.0",
         "29.0",
         "44.0",
         null,
         null,
         null,
         null,
         null,
         null,
         null,
         null,
         null,
         null,
         null,
         null,
         null,
         null,
         null,
         null,
         null,
         null,
         null,
         null,
         null,
         null,
         null,
         null,
         null,
         null,
         null,
         null,
         null,
         null,
         null,
         null,
         null,
         null,
         null,
         null,
         null,
         null,
         null,
         null,
         null,
         null,
         null,
         null,
         null,
         null,
         null,
         null,
         null,
         null,
         null,
         null
        ],
        [
         "4",
         "2000",
         "Aguilera, Christina",
         "Come On Over Baby (All I Want Is You)",
         "3:38",
         "Rock",
         "2000-08-05",
         "2000-10-14",
         "57",
         "47.0",
         "45.0",
         "29.0",
         "23.0",
         "18.0",
         "11.0",
         "9.0",
         "9.0",
         "11.0",
         "1.0",
         "1.0",
         "1.0",
         "1.0",
         "4.0",
         "8.0",
         "12.0",
         "22.0",
         "23.0",
         "43.0",
         "44.0",
         null,
         null,
         null,
         null,
         null,
         null,
         null,
         null,
         null,
         null,
         null,
         null,
         null,
         null,
         null,
         null,
         null,
         null,
         null,
         null,
         null,
         null,
         null,
         null,
         null,
         null,
         null,
         null,
         null,
         null,
         null,
         null,
         null,
         null,
         null,
         null,
         null,
         null,
         null,
         null,
         null,
         null,
         null,
         null,
         null,
         null,
         null,
         null,
         null,
         null,
         null,
         null,
         null,
         null,
         null
        ],
        [
         "5",
         "2000",
         "Janet",
         "Doesn't Really Matter",
         "4:17",
         "Rock",
         "2000-06-17",
         "2000-08-26",
         "59",
         "52.0",
         "43.0",
         "30.0",
         "29.0",
         "22.0",
         "15.0",
         "10.0",
         "10.0",
         "5.0",
         "1.0",
         "1.0",
         "1.0",
         "2.0",
         "2.0",
         "3.0",
         "3.0",
         "7.0",
         "8.0",
         "20.0",
         "25.0",
         "37.0",
         "40.0",
         "41.0",
         null,
         null,
         null,
         null,
         null,
         null,
         null,
         null,
         null,
         null,
         null,
         null,
         null,
         null,
         null,
         null,
         null,
         null,
         null,
         null,
         null,
         null,
         null,
         null,
         null,
         null,
         null,
         null,
         null,
         null,
         null,
         null,
         null,
         null,
         null,
         null,
         null,
         null,
         null,
         null,
         null,
         null,
         null,
         null,
         null,
         null,
         null,
         null,
         null,
         null,
         null,
         null
        ],
        [
         "6",
         "2000",
         "Destiny's Child",
         "Say My Name",
         "4:31",
         "Rock",
         "1999-12-25",
         "2000-03-18",
         "83",
         "83.0",
         "44.0",
         "38.0",
         "16.0",
         "13.0",
         "16.0",
         "16.0",
         "16.0",
         "18.0",
         "17.0",
         "14.0",
         "1.0",
         "1.0",
         "1.0",
         "2.0",
         "2.0",
         "3.0",
         "5.0",
         "5.0",
         "5.0",
         "7.0",
         "10.0",
         "13.0",
         "14.0",
         "18.0",
         "23.0",
         "23.0",
         "34.0",
         "37.0",
         "43.0",
         "47.0",
         null,
         null,
         null,
         null,
         null,
         null,
         null,
         null,
         null,
         null,
         null,
         null,
         null,
         null,
         null,
         null,
         null,
         null,
         null,
         null,
         null,
         null,
         null,
         null,
         null,
         null,
         null,
         null,
         null,
         null,
         null,
         null,
         null,
         null,
         null,
         null,
         null,
         null,
         null,
         null,
         null,
         null,
         null,
         null
        ],
        [
         "7",
         "2000",
         "Iglesias, Enrique",
         "Be With You",
         "3:36",
         "Latin",
         "2000-04-01",
         "2000-06-24",
         "63",
         "45.0",
         "34.0",
         "23.0",
         "17.0",
         "12.0",
         "9.0",
         "8.0",
         "8.0",
         "6.0",
         "5.0",
         "4.0",
         "1.0",
         "1.0",
         "1.0",
         "3.0",
         "11.0",
         "14.0",
         "24.0",
         "28.0",
         null,
         null,
         null,
         null,
         null,
         null,
         null,
         null,
         null,
         null,
         null,
         null,
         null,
         null,
         null,
         null,
         null,
         null,
         null,
         null,
         null,
         null,
         null,
         null,
         null,
         null,
         null,
         null,
         null,
         null,
         null,
         null,
         null,
         null,
         null,
         null,
         null,
         null,
         null,
         null,
         null,
         null,
         null,
         null,
         null,
         null,
         null,
         null,
         null,
         null,
         null,
         null,
         null,
         null,
         null,
         null
        ],
        [
         "8",
         "2000",
         "Sisqo",
         "Incomplete",
         "3:52",
         "Rock",
         "2000-06-24",
         "2000-08-12",
         "77",
         "66.0",
         "61.0",
         "61.0",
         "61.0",
         "55.0",
         "2.0",
         "1.0",
         "1.0",
         "2.0",
         "2.0",
         "4.0",
         "5.0",
         "5.0",
         "7.0",
         "8.0",
         "10.0",
         "10.0",
         "9.0",
         "14.0",
         "17.0",
         "20.0",
         "25.0",
         "31.0",
         "32.0",
         "46.0",
         null,
         null,
         null,
         null,
         null,
         null,
         null,
         null,
         null,
         null,
         null,
         null,
         null,
         null,
         null,
         null,
         null,
         null,
         null,
         null,
         null,
         null,
         null,
         null,
         null,
         null,
         null,
         null,
         null,
         null,
         null,
         null,
         null,
         null,
         null,
         null,
         null,
         null,
         null,
         null,
         null,
         null,
         null,
         null,
         null,
         null,
         null,
         null,
         null,
         null
        ],
        [
         "9",
         "2000",
         "Lonestar",
         "Amazed",
         "4:25",
         "Country",
         "1999-06-05",
         "2000-03-04",
         "81",
         "54.0",
         "44.0",
         "39.0",
         "38.0",
         "33.0",
         "29.0",
         "29.0",
         "32.0",
         "27.0",
         "26.0",
         "24.0",
         "27.0",
         "32.0",
         "33.0",
         "35.0",
         "35.0",
         "40.0",
         "43.0",
         "50.0",
         null,
         null,
         null,
         null,
         null,
         null,
         null,
         null,
         null,
         "45.0",
         "45.0",
         "45.0",
         "23.0",
         "17.0",
         "14.0",
         "17.0",
         "18.0",
         "18.0",
         "3.0",
         "1.0",
         "1.0",
         "2.0",
         "3.0",
         "4.0",
         "4.0",
         "5.0",
         "6.0",
         "8.0",
         "9.0",
         "10.0",
         "12.0",
         "15.0",
         "20.0",
         "22.0",
         "22.0",
         "25.0",
         "26.0",
         "31.0",
         "32.0",
         "37.0",
         "42.0",
         "42.0",
         "45.0",
         "50.0",
         null,
         null,
         null,
         null,
         null,
         null,
         null,
         null,
         null,
         null,
         null,
         null
        ],
        [
         "10",
         "2000",
         "N'Sync",
         "It's Gonna Be Me",
         "3:10",
         "Rock",
         "2000-05-06",
         "2000-07-29",
         "82",
         "70.0",
         "51.0",
         "39.0",
         "26.0",
         "19.0",
         "15.0",
         "9.0",
         "7.0",
         "7.0",
         "5.0",
         "4.0",
         "1.0",
         "1.0",
         "3.0",
         "4.0",
         "6.0",
         "10.0",
         "13.0",
         "15.0",
         "18.0",
         "23.0",
         "28.0",
         "38.0",
         "48.0",
         null,
         null,
         null,
         null,
         null,
         null,
         null,
         null,
         null,
         null,
         null,
         null,
         null,
         null,
         null,
         null,
         null,
         null,
         null,
         null,
         null,
         null,
         null,
         null,
         null,
         null,
         null,
         null,
         null,
         null,
         null,
         null,
         null,
         null,
         null,
         null,
         null,
         null,
         null,
         null,
         null,
         null,
         null,
         null,
         null,
         null,
         null,
         null,
         null,
         null,
         null
        ],
        [
         "11",
         "2000",
         "Aguilera, Christina",
         "What A Girl Wants",
         "3:18",
         "Rock",
         "1999-11-27",
         "2000-01-15",
         "71",
         "51.0",
         "28.0",
         "18.0",
         "13.0",
         "13.0",
         "11.0",
         "1.0",
         "1.0",
         "2.0",
         "2.0",
         "3.0",
         "3.0",
         "4.0",
         "12.0",
         "11.0",
         "13.0",
         "15.0",
         "18.0",
         "20.0",
         "30.0",
         "40.0",
         "39.0",
         "44.0",
         null,
         null,
         null,
         null,
         null,
         null,
         null,
         null,
         null,
         null,
         null,
         null,
         null,
         null,
         null,
         null,
         null,
         null,
         null,
         null,
         null,
         null,
         null,
         null,
         null,
         null,
         null,
         null,
         null,
         null,
         null,
         null,
         null,
         null,
         null,
         null,
         null,
         null,
         null,
         null,
         null,
         null,
         null,
         null,
         null,
         null,
         null,
         null,
         null,
         null,
         null,
         null
        ],
        [
         "12",
         "2000",
         "Vertical Horizon",
         "Everything You Want",
         "4:01",
         "Rock",
         "2000-01-22",
         "2000-07-15",
         "70",
         "61.0",
         "53.0",
         "46.0",
         "40.0",
         "33.0",
         "31.0",
         "26.0",
         "22.0",
         "19.0",
         "17.0",
         "15.0",
         "13.0",
         "9.0",
         "9.0",
         "8.0",
         "8.0",
         "6.0",
         "7.0",
         "7.0",
         "8.0",
         "3.0",
         "3.0",
         "6.0",
         "6.0",
         "1.0",
         "2.0",
         "3.0",
         "4.0",
         "7.0",
         "9.0",
         "10.0",
         "18.0",
         "20.0",
         "27.0",
         "29.0",
         "36.0",
         "40.0",
         "50.0",
         "47.0",
         "50.0",
         null,
         null,
         null,
         null,
         null,
         null,
         null,
         null,
         null,
         null,
         null,
         null,
         null,
         null,
         null,
         null,
         null,
         null,
         null,
         null,
         null,
         null,
         null,
         null,
         null,
         null,
         null,
         null,
         null,
         null,
         null,
         null,
         null,
         null,
         null
        ],
        [
         "13",
         "2000",
         "Creed",
         "With Arms Wide Open",
         "3:52",
         "Rock",
         "2000-05-13",
         "2000-11-11",
         "84",
         "78.0",
         "76.0",
         "74.0",
         "70.0",
         "68.0",
         "74.0",
         "75.0",
         "69.0",
         "74.0",
         "70.0",
         "79.0",
         "84.0",
         "86.0",
         "76.0",
         "62.0",
         "45.0",
         "29.0",
         "19.0",
         "11.0",
         "10.0",
         "7.0",
         "5.0",
         "3.0",
         "3.0",
         "3.0",
         "1.0",
         "2.0",
         "2.0",
         "3.0",
         "3.0",
         "3.0",
         "4.0",
         "5.0",
         "5.0",
         "5.0",
         "5.0",
         "9.0",
         "12.0",
         "13.0",
         "13.0",
         "17.0",
         "22.0",
         "26.0",
         "28.0",
         "37.0",
         "41.0",
         null,
         null,
         null,
         null,
         null,
         null,
         null,
         null,
         null,
         null,
         null,
         null,
         null,
         null,
         null,
         null,
         null,
         null,
         null,
         null,
         null,
         null,
         null,
         null,
         null,
         null,
         null,
         null,
         null
        ],
        [
         "14",
         "2000",
         "Aaliyah",
         "Try Again",
         "4:03",
         "Rock",
         "2000-03-18",
         "2000-06-17",
         "59",
         "53.0",
         "38.0",
         "28.0",
         "21.0",
         "18.0",
         "16.0",
         "14.0",
         "12.0",
         "10.0",
         "9.0",
         "8.0",
         "6.0",
         "1.0",
         "2.0",
         "2.0",
         "2.0",
         "2.0",
         "3.0",
         "4.0",
         "5.0",
         "5.0",
         "6.0",
         "9.0",
         "13.0",
         "14.0",
         "16.0",
         "23.0",
         "22.0",
         "33.0",
         "36.0",
         "43.0",
         null,
         null,
         null,
         null,
         null,
         null,
         null,
         null,
         null,
         null,
         null,
         null,
         null,
         null,
         null,
         null,
         null,
         null,
         null,
         null,
         null,
         null,
         null,
         null,
         null,
         null,
         null,
         null,
         null,
         null,
         null,
         null,
         null,
         null,
         null,
         null,
         null,
         null,
         null,
         null,
         null,
         null,
         null,
         null
        ],
        [
         "15",
         "2000",
         "matchbox twenty",
         "Bent",
         "4:12",
         "Rock",
         "2000-04-29",
         "2000-07-22",
         "60",
         "37.0",
         "29.0",
         "24.0",
         "22.0",
         "21.0",
         "18.0",
         "16.0",
         "13.0",
         "12.0",
         "8.0",
         "6.0",
         "1.0",
         "2.0",
         "3.0",
         "2.0",
         "2.0",
         "3.0",
         "4.0",
         "5.0",
         "4.0",
         "4.0",
         "6.0",
         "9.0",
         "12.0",
         "13.0",
         "19.0",
         "20.0",
         "20.0",
         "24.0",
         "29.0",
         "28.0",
         "27.0",
         "30.0",
         "33.0",
         "37.0",
         "38.0",
         "38.0",
         "48.0",
         null,
         null,
         null,
         null,
         null,
         null,
         null,
         null,
         null,
         null,
         null,
         null,
         null,
         null,
         null,
         null,
         null,
         null,
         null,
         null,
         null,
         null,
         null,
         null,
         null,
         null,
         null,
         null,
         null,
         null,
         null,
         null,
         null,
         null,
         null,
         null,
         null
        ],
        [
         "16",
         "2000",
         "Carey, Mariah",
         "Thank God I Found You",
         "4:14",
         "Rock",
         "1999-12-11",
         "2000-02-19",
         "82",
         "68.0",
         "50.0",
         "50.0",
         "41.0",
         "37.0",
         "26.0",
         "22.0",
         "22.0",
         "2.0",
         "1.0",
         "2.0",
         "4.0",
         "13.0",
         "21.0",
         "28.0",
         "43.0",
         "57.0",
         "82.0",
         "89.0",
         null,
         null,
         null,
         null,
         null,
         null,
         null,
         null,
         null,
         null,
         null,
         null,
         null,
         null,
         null,
         null,
         null,
         null,
         null,
         null,
         null,
         null,
         null,
         null,
         null,
         null,
         null,
         null,
         null,
         null,
         null,
         null,
         null,
         null,
         null,
         null,
         null,
         null,
         null,
         null,
         null,
         null,
         null,
         null,
         null,
         null,
         null,
         null,
         null,
         null,
         null,
         null,
         null,
         null,
         null,
         null
        ],
        [
         "17",
         "2000",
         "Hill, Faith",
         "Breathe",
         "4:04",
         "Rap",
         "1999-11-06",
         "2000-04-22",
         "81",
         "68.0",
         "62.0",
         "51.0",
         "42.0",
         "35.0",
         "28.0",
         "28.0",
         "28.0",
         "43.0",
         "30.0",
         "23.0",
         "23.0",
         "21.0",
         "21.0",
         "21.0",
         "5.0",
         "3.0",
         "3.0",
         "4.0",
         "4.0",
         "3.0",
         "3.0",
         "3.0",
         "2.0",
         "2.0",
         "3.0",
         "3.0",
         "2.0",
         "2.0",
         "3.0",
         "4.0",
         "2.0",
         "5.0",
         "8.0",
         "11.0",
         "13.0",
         "14.0",
         "18.0",
         "22.0",
         "23.0",
         "22.0",
         "24.0",
         "30.0",
         "31.0",
         "31.0",
         "38.0",
         "39.0",
         "42.0",
         "49.0",
         "49.0",
         "48.0",
         "47.0",
         null,
         null,
         null,
         null,
         null,
         null,
         null,
         null,
         null,
         null,
         null,
         null,
         null,
         null,
         null,
         null,
         null,
         null,
         null,
         null,
         null,
         null,
         null
        ],
        [
         "18",
         "2000",
         "Mya",
         "Case Of The Ex (Whatcha Gonna Do)",
         "3:50",
         "Rock",
         "2000-08-19",
         "2000-12-02",
         "72",
         "57.0",
         "52.0",
         "47.0",
         "42.0",
         "31.0",
         "24.0",
         "18.0",
         "17.0",
         "17.0",
         "17.0",
         "10.0",
         "9.0",
         "9.0",
         "7.0",
         "2.0",
         "2.0",
         "2.0",
         "3.0",
         "4.0",
         "4.0",
         "4.0",
         "4.0",
         "8.0",
         "11.0",
         "15.0",
         "19.0",
         "24.0",
         "23.0",
         "35.0",
         null,
         null,
         null,
         null,
         null,
         null,
         null,
         null,
         null,
         null,
         null,
         null,
         null,
         null,
         null,
         null,
         null,
         null,
         null,
         null,
         null,
         null,
         null,
         null,
         null,
         null,
         null,
         null,
         null,
         null,
         null,
         null,
         null,
         null,
         null,
         null,
         null,
         null,
         null,
         null,
         null,
         null,
         null,
         null,
         null,
         null
        ],
        [
         "19",
         "2000",
         "Dream",
         "He Loves U Not",
         "3:43",
         "Rock",
         "2000-09-30",
         "2000-12-30",
         "99",
         "92.0",
         "81.0",
         "59.0",
         "47.0",
         "42.0",
         "32.0",
         "27.0",
         "18.0",
         "18.0",
         "11.0",
         "8.0",
         "5.0",
         "2.0",
         "2.0",
         "3.0",
         "3.0",
         "3.0",
         "7.0",
         "9.0",
         "10.0",
         "11.0",
         "10.0",
         "19.0",
         "23.0",
         "28.0",
         "38.0",
         "46.0",
         null,
         null,
         null,
         null,
         null,
         null,
         null,
         null,
         null,
         null,
         null,
         null,
         null,
         null,
         null,
         null,
         null,
         null,
         null,
         null,
         null,
         null,
         null,
         null,
         null,
         null,
         null,
         null,
         null,
         null,
         null,
         null,
         null,
         null,
         null,
         null,
         null,
         null,
         null,
         null,
         null,
         null,
         null,
         null,
         null,
         null,
         null,
         null
        ]
       ],
       "shape": {
        "columns": 83,
        "rows": 20
       }
      },
      "text/html": [
       "<div>\n",
       "<style scoped>\n",
       "    .dataframe tbody tr th:only-of-type {\n",
       "        vertical-align: middle;\n",
       "    }\n",
       "\n",
       "    .dataframe tbody tr th {\n",
       "        vertical-align: top;\n",
       "    }\n",
       "\n",
       "    .dataframe thead th {\n",
       "        text-align: right;\n",
       "    }\n",
       "</style>\n",
       "<table border=\"1\" class=\"dataframe\">\n",
       "  <thead>\n",
       "    <tr style=\"text-align: right;\">\n",
       "      <th></th>\n",
       "      <th>year</th>\n",
       "      <th>artist.inverted</th>\n",
       "      <th>track</th>\n",
       "      <th>time</th>\n",
       "      <th>genre</th>\n",
       "      <th>date.entered</th>\n",
       "      <th>date.peaked</th>\n",
       "      <th>x1st.week</th>\n",
       "      <th>x2nd.week</th>\n",
       "      <th>x3rd.week</th>\n",
       "      <th>...</th>\n",
       "      <th>x67th.week</th>\n",
       "      <th>x68th.week</th>\n",
       "      <th>x69th.week</th>\n",
       "      <th>x70th.week</th>\n",
       "      <th>x71st.week</th>\n",
       "      <th>x72nd.week</th>\n",
       "      <th>x73rd.week</th>\n",
       "      <th>x74th.week</th>\n",
       "      <th>x75th.week</th>\n",
       "      <th>x76th.week</th>\n",
       "    </tr>\n",
       "  </thead>\n",
       "  <tbody>\n",
       "    <tr>\n",
       "      <th>0</th>\n",
       "      <td>2000</td>\n",
       "      <td>Destiny's Child</td>\n",
       "      <td>Independent Women Part I</td>\n",
       "      <td>3:38</td>\n",
       "      <td>Rock</td>\n",
       "      <td>2000-09-23</td>\n",
       "      <td>2000-11-18</td>\n",
       "      <td>78</td>\n",
       "      <td>63.0</td>\n",
       "      <td>49.0</td>\n",
       "      <td>...</td>\n",
       "      <td>NaN</td>\n",
       "      <td>NaN</td>\n",
       "      <td>NaN</td>\n",
       "      <td>NaN</td>\n",
       "      <td>NaN</td>\n",
       "      <td>NaN</td>\n",
       "      <td>NaN</td>\n",
       "      <td>NaN</td>\n",
       "      <td>NaN</td>\n",
       "      <td>NaN</td>\n",
       "    </tr>\n",
       "    <tr>\n",
       "      <th>1</th>\n",
       "      <td>2000</td>\n",
       "      <td>Santana</td>\n",
       "      <td>Maria, Maria</td>\n",
       "      <td>4:18</td>\n",
       "      <td>Rock</td>\n",
       "      <td>2000-02-12</td>\n",
       "      <td>2000-04-08</td>\n",
       "      <td>15</td>\n",
       "      <td>8.0</td>\n",
       "      <td>6.0</td>\n",
       "      <td>...</td>\n",
       "      <td>NaN</td>\n",
       "      <td>NaN</td>\n",
       "      <td>NaN</td>\n",
       "      <td>NaN</td>\n",
       "      <td>NaN</td>\n",
       "      <td>NaN</td>\n",
       "      <td>NaN</td>\n",
       "      <td>NaN</td>\n",
       "      <td>NaN</td>\n",
       "      <td>NaN</td>\n",
       "    </tr>\n",
       "    <tr>\n",
       "      <th>2</th>\n",
       "      <td>2000</td>\n",
       "      <td>Savage Garden</td>\n",
       "      <td>I Knew I Loved You</td>\n",
       "      <td>4:07</td>\n",
       "      <td>Rock</td>\n",
       "      <td>1999-10-23</td>\n",
       "      <td>2000-01-29</td>\n",
       "      <td>71</td>\n",
       "      <td>48.0</td>\n",
       "      <td>43.0</td>\n",
       "      <td>...</td>\n",
       "      <td>NaN</td>\n",
       "      <td>NaN</td>\n",
       "      <td>NaN</td>\n",
       "      <td>NaN</td>\n",
       "      <td>NaN</td>\n",
       "      <td>NaN</td>\n",
       "      <td>NaN</td>\n",
       "      <td>NaN</td>\n",
       "      <td>NaN</td>\n",
       "      <td>NaN</td>\n",
       "    </tr>\n",
       "    <tr>\n",
       "      <th>3</th>\n",
       "      <td>2000</td>\n",
       "      <td>Madonna</td>\n",
       "      <td>Music</td>\n",
       "      <td>3:45</td>\n",
       "      <td>Rock</td>\n",
       "      <td>2000-08-12</td>\n",
       "      <td>2000-09-16</td>\n",
       "      <td>41</td>\n",
       "      <td>23.0</td>\n",
       "      <td>18.0</td>\n",
       "      <td>...</td>\n",
       "      <td>NaN</td>\n",
       "      <td>NaN</td>\n",
       "      <td>NaN</td>\n",
       "      <td>NaN</td>\n",
       "      <td>NaN</td>\n",
       "      <td>NaN</td>\n",
       "      <td>NaN</td>\n",
       "      <td>NaN</td>\n",
       "      <td>NaN</td>\n",
       "      <td>NaN</td>\n",
       "    </tr>\n",
       "    <tr>\n",
       "      <th>4</th>\n",
       "      <td>2000</td>\n",
       "      <td>Aguilera, Christina</td>\n",
       "      <td>Come On Over Baby (All I Want Is You)</td>\n",
       "      <td>3:38</td>\n",
       "      <td>Rock</td>\n",
       "      <td>2000-08-05</td>\n",
       "      <td>2000-10-14</td>\n",
       "      <td>57</td>\n",
       "      <td>47.0</td>\n",
       "      <td>45.0</td>\n",
       "      <td>...</td>\n",
       "      <td>NaN</td>\n",
       "      <td>NaN</td>\n",
       "      <td>NaN</td>\n",
       "      <td>NaN</td>\n",
       "      <td>NaN</td>\n",
       "      <td>NaN</td>\n",
       "      <td>NaN</td>\n",
       "      <td>NaN</td>\n",
       "      <td>NaN</td>\n",
       "      <td>NaN</td>\n",
       "    </tr>\n",
       "    <tr>\n",
       "      <th>5</th>\n",
       "      <td>2000</td>\n",
       "      <td>Janet</td>\n",
       "      <td>Doesn't Really Matter</td>\n",
       "      <td>4:17</td>\n",
       "      <td>Rock</td>\n",
       "      <td>2000-06-17</td>\n",
       "      <td>2000-08-26</td>\n",
       "      <td>59</td>\n",
       "      <td>52.0</td>\n",
       "      <td>43.0</td>\n",
       "      <td>...</td>\n",
       "      <td>NaN</td>\n",
       "      <td>NaN</td>\n",
       "      <td>NaN</td>\n",
       "      <td>NaN</td>\n",
       "      <td>NaN</td>\n",
       "      <td>NaN</td>\n",
       "      <td>NaN</td>\n",
       "      <td>NaN</td>\n",
       "      <td>NaN</td>\n",
       "      <td>NaN</td>\n",
       "    </tr>\n",
       "    <tr>\n",
       "      <th>6</th>\n",
       "      <td>2000</td>\n",
       "      <td>Destiny's Child</td>\n",
       "      <td>Say My Name</td>\n",
       "      <td>4:31</td>\n",
       "      <td>Rock</td>\n",
       "      <td>1999-12-25</td>\n",
       "      <td>2000-03-18</td>\n",
       "      <td>83</td>\n",
       "      <td>83.0</td>\n",
       "      <td>44.0</td>\n",
       "      <td>...</td>\n",
       "      <td>NaN</td>\n",
       "      <td>NaN</td>\n",
       "      <td>NaN</td>\n",
       "      <td>NaN</td>\n",
       "      <td>NaN</td>\n",
       "      <td>NaN</td>\n",
       "      <td>NaN</td>\n",
       "      <td>NaN</td>\n",
       "      <td>NaN</td>\n",
       "      <td>NaN</td>\n",
       "    </tr>\n",
       "    <tr>\n",
       "      <th>7</th>\n",
       "      <td>2000</td>\n",
       "      <td>Iglesias, Enrique</td>\n",
       "      <td>Be With You</td>\n",
       "      <td>3:36</td>\n",
       "      <td>Latin</td>\n",
       "      <td>2000-04-01</td>\n",
       "      <td>2000-06-24</td>\n",
       "      <td>63</td>\n",
       "      <td>45.0</td>\n",
       "      <td>34.0</td>\n",
       "      <td>...</td>\n",
       "      <td>NaN</td>\n",
       "      <td>NaN</td>\n",
       "      <td>NaN</td>\n",
       "      <td>NaN</td>\n",
       "      <td>NaN</td>\n",
       "      <td>NaN</td>\n",
       "      <td>NaN</td>\n",
       "      <td>NaN</td>\n",
       "      <td>NaN</td>\n",
       "      <td>NaN</td>\n",
       "    </tr>\n",
       "    <tr>\n",
       "      <th>8</th>\n",
       "      <td>2000</td>\n",
       "      <td>Sisqo</td>\n",
       "      <td>Incomplete</td>\n",
       "      <td>3:52</td>\n",
       "      <td>Rock</td>\n",
       "      <td>2000-06-24</td>\n",
       "      <td>2000-08-12</td>\n",
       "      <td>77</td>\n",
       "      <td>66.0</td>\n",
       "      <td>61.0</td>\n",
       "      <td>...</td>\n",
       "      <td>NaN</td>\n",
       "      <td>NaN</td>\n",
       "      <td>NaN</td>\n",
       "      <td>NaN</td>\n",
       "      <td>NaN</td>\n",
       "      <td>NaN</td>\n",
       "      <td>NaN</td>\n",
       "      <td>NaN</td>\n",
       "      <td>NaN</td>\n",
       "      <td>NaN</td>\n",
       "    </tr>\n",
       "    <tr>\n",
       "      <th>9</th>\n",
       "      <td>2000</td>\n",
       "      <td>Lonestar</td>\n",
       "      <td>Amazed</td>\n",
       "      <td>4:25</td>\n",
       "      <td>Country</td>\n",
       "      <td>1999-06-05</td>\n",
       "      <td>2000-03-04</td>\n",
       "      <td>81</td>\n",
       "      <td>54.0</td>\n",
       "      <td>44.0</td>\n",
       "      <td>...</td>\n",
       "      <td>NaN</td>\n",
       "      <td>NaN</td>\n",
       "      <td>NaN</td>\n",
       "      <td>NaN</td>\n",
       "      <td>NaN</td>\n",
       "      <td>NaN</td>\n",
       "      <td>NaN</td>\n",
       "      <td>NaN</td>\n",
       "      <td>NaN</td>\n",
       "      <td>NaN</td>\n",
       "    </tr>\n",
       "    <tr>\n",
       "      <th>10</th>\n",
       "      <td>2000</td>\n",
       "      <td>N'Sync</td>\n",
       "      <td>It's Gonna Be Me</td>\n",
       "      <td>3:10</td>\n",
       "      <td>Rock</td>\n",
       "      <td>2000-05-06</td>\n",
       "      <td>2000-07-29</td>\n",
       "      <td>82</td>\n",
       "      <td>70.0</td>\n",
       "      <td>51.0</td>\n",
       "      <td>...</td>\n",
       "      <td>NaN</td>\n",
       "      <td>NaN</td>\n",
       "      <td>NaN</td>\n",
       "      <td>NaN</td>\n",
       "      <td>NaN</td>\n",
       "      <td>NaN</td>\n",
       "      <td>NaN</td>\n",
       "      <td>NaN</td>\n",
       "      <td>NaN</td>\n",
       "      <td>NaN</td>\n",
       "    </tr>\n",
       "    <tr>\n",
       "      <th>11</th>\n",
       "      <td>2000</td>\n",
       "      <td>Aguilera, Christina</td>\n",
       "      <td>What A Girl Wants</td>\n",
       "      <td>3:18</td>\n",
       "      <td>Rock</td>\n",
       "      <td>1999-11-27</td>\n",
       "      <td>2000-01-15</td>\n",
       "      <td>71</td>\n",
       "      <td>51.0</td>\n",
       "      <td>28.0</td>\n",
       "      <td>...</td>\n",
       "      <td>NaN</td>\n",
       "      <td>NaN</td>\n",
       "      <td>NaN</td>\n",
       "      <td>NaN</td>\n",
       "      <td>NaN</td>\n",
       "      <td>NaN</td>\n",
       "      <td>NaN</td>\n",
       "      <td>NaN</td>\n",
       "      <td>NaN</td>\n",
       "      <td>NaN</td>\n",
       "    </tr>\n",
       "    <tr>\n",
       "      <th>12</th>\n",
       "      <td>2000</td>\n",
       "      <td>Vertical Horizon</td>\n",
       "      <td>Everything You Want</td>\n",
       "      <td>4:01</td>\n",
       "      <td>Rock</td>\n",
       "      <td>2000-01-22</td>\n",
       "      <td>2000-07-15</td>\n",
       "      <td>70</td>\n",
       "      <td>61.0</td>\n",
       "      <td>53.0</td>\n",
       "      <td>...</td>\n",
       "      <td>NaN</td>\n",
       "      <td>NaN</td>\n",
       "      <td>NaN</td>\n",
       "      <td>NaN</td>\n",
       "      <td>NaN</td>\n",
       "      <td>NaN</td>\n",
       "      <td>NaN</td>\n",
       "      <td>NaN</td>\n",
       "      <td>NaN</td>\n",
       "      <td>NaN</td>\n",
       "    </tr>\n",
       "    <tr>\n",
       "      <th>13</th>\n",
       "      <td>2000</td>\n",
       "      <td>Creed</td>\n",
       "      <td>With Arms Wide Open</td>\n",
       "      <td>3:52</td>\n",
       "      <td>Rock</td>\n",
       "      <td>2000-05-13</td>\n",
       "      <td>2000-11-11</td>\n",
       "      <td>84</td>\n",
       "      <td>78.0</td>\n",
       "      <td>76.0</td>\n",
       "      <td>...</td>\n",
       "      <td>NaN</td>\n",
       "      <td>NaN</td>\n",
       "      <td>NaN</td>\n",
       "      <td>NaN</td>\n",
       "      <td>NaN</td>\n",
       "      <td>NaN</td>\n",
       "      <td>NaN</td>\n",
       "      <td>NaN</td>\n",
       "      <td>NaN</td>\n",
       "      <td>NaN</td>\n",
       "    </tr>\n",
       "    <tr>\n",
       "      <th>14</th>\n",
       "      <td>2000</td>\n",
       "      <td>Aaliyah</td>\n",
       "      <td>Try Again</td>\n",
       "      <td>4:03</td>\n",
       "      <td>Rock</td>\n",
       "      <td>2000-03-18</td>\n",
       "      <td>2000-06-17</td>\n",
       "      <td>59</td>\n",
       "      <td>53.0</td>\n",
       "      <td>38.0</td>\n",
       "      <td>...</td>\n",
       "      <td>NaN</td>\n",
       "      <td>NaN</td>\n",
       "      <td>NaN</td>\n",
       "      <td>NaN</td>\n",
       "      <td>NaN</td>\n",
       "      <td>NaN</td>\n",
       "      <td>NaN</td>\n",
       "      <td>NaN</td>\n",
       "      <td>NaN</td>\n",
       "      <td>NaN</td>\n",
       "    </tr>\n",
       "    <tr>\n",
       "      <th>15</th>\n",
       "      <td>2000</td>\n",
       "      <td>matchbox twenty</td>\n",
       "      <td>Bent</td>\n",
       "      <td>4:12</td>\n",
       "      <td>Rock</td>\n",
       "      <td>2000-04-29</td>\n",
       "      <td>2000-07-22</td>\n",
       "      <td>60</td>\n",
       "      <td>37.0</td>\n",
       "      <td>29.0</td>\n",
       "      <td>...</td>\n",
       "      <td>NaN</td>\n",
       "      <td>NaN</td>\n",
       "      <td>NaN</td>\n",
       "      <td>NaN</td>\n",
       "      <td>NaN</td>\n",
       "      <td>NaN</td>\n",
       "      <td>NaN</td>\n",
       "      <td>NaN</td>\n",
       "      <td>NaN</td>\n",
       "      <td>NaN</td>\n",
       "    </tr>\n",
       "    <tr>\n",
       "      <th>16</th>\n",
       "      <td>2000</td>\n",
       "      <td>Carey, Mariah</td>\n",
       "      <td>Thank God I Found You</td>\n",
       "      <td>4:14</td>\n",
       "      <td>Rock</td>\n",
       "      <td>1999-12-11</td>\n",
       "      <td>2000-02-19</td>\n",
       "      <td>82</td>\n",
       "      <td>68.0</td>\n",
       "      <td>50.0</td>\n",
       "      <td>...</td>\n",
       "      <td>NaN</td>\n",
       "      <td>NaN</td>\n",
       "      <td>NaN</td>\n",
       "      <td>NaN</td>\n",
       "      <td>NaN</td>\n",
       "      <td>NaN</td>\n",
       "      <td>NaN</td>\n",
       "      <td>NaN</td>\n",
       "      <td>NaN</td>\n",
       "      <td>NaN</td>\n",
       "    </tr>\n",
       "    <tr>\n",
       "      <th>17</th>\n",
       "      <td>2000</td>\n",
       "      <td>Hill, Faith</td>\n",
       "      <td>Breathe</td>\n",
       "      <td>4:04</td>\n",
       "      <td>Rap</td>\n",
       "      <td>1999-11-06</td>\n",
       "      <td>2000-04-22</td>\n",
       "      <td>81</td>\n",
       "      <td>68.0</td>\n",
       "      <td>62.0</td>\n",
       "      <td>...</td>\n",
       "      <td>NaN</td>\n",
       "      <td>NaN</td>\n",
       "      <td>NaN</td>\n",
       "      <td>NaN</td>\n",
       "      <td>NaN</td>\n",
       "      <td>NaN</td>\n",
       "      <td>NaN</td>\n",
       "      <td>NaN</td>\n",
       "      <td>NaN</td>\n",
       "      <td>NaN</td>\n",
       "    </tr>\n",
       "    <tr>\n",
       "      <th>18</th>\n",
       "      <td>2000</td>\n",
       "      <td>Mya</td>\n",
       "      <td>Case Of The Ex (Whatcha Gonna Do)</td>\n",
       "      <td>3:50</td>\n",
       "      <td>Rock</td>\n",
       "      <td>2000-08-19</td>\n",
       "      <td>2000-12-02</td>\n",
       "      <td>72</td>\n",
       "      <td>57.0</td>\n",
       "      <td>52.0</td>\n",
       "      <td>...</td>\n",
       "      <td>NaN</td>\n",
       "      <td>NaN</td>\n",
       "      <td>NaN</td>\n",
       "      <td>NaN</td>\n",
       "      <td>NaN</td>\n",
       "      <td>NaN</td>\n",
       "      <td>NaN</td>\n",
       "      <td>NaN</td>\n",
       "      <td>NaN</td>\n",
       "      <td>NaN</td>\n",
       "    </tr>\n",
       "    <tr>\n",
       "      <th>19</th>\n",
       "      <td>2000</td>\n",
       "      <td>Dream</td>\n",
       "      <td>He Loves U Not</td>\n",
       "      <td>3:43</td>\n",
       "      <td>Rock</td>\n",
       "      <td>2000-09-30</td>\n",
       "      <td>2000-12-30</td>\n",
       "      <td>99</td>\n",
       "      <td>92.0</td>\n",
       "      <td>81.0</td>\n",
       "      <td>...</td>\n",
       "      <td>NaN</td>\n",
       "      <td>NaN</td>\n",
       "      <td>NaN</td>\n",
       "      <td>NaN</td>\n",
       "      <td>NaN</td>\n",
       "      <td>NaN</td>\n",
       "      <td>NaN</td>\n",
       "      <td>NaN</td>\n",
       "      <td>NaN</td>\n",
       "      <td>NaN</td>\n",
       "    </tr>\n",
       "  </tbody>\n",
       "</table>\n",
       "<p>20 rows × 83 columns</p>\n",
       "</div>"
      ],
      "text/plain": [
       "    year      artist.inverted                                  track  time  \\\n",
       "0   2000      Destiny's Child               Independent Women Part I  3:38   \n",
       "1   2000              Santana                           Maria, Maria  4:18   \n",
       "2   2000        Savage Garden                     I Knew I Loved You  4:07   \n",
       "3   2000              Madonna                                  Music  3:45   \n",
       "4   2000  Aguilera, Christina  Come On Over Baby (All I Want Is You)  3:38   \n",
       "5   2000                Janet                  Doesn't Really Matter  4:17   \n",
       "6   2000      Destiny's Child                            Say My Name  4:31   \n",
       "7   2000    Iglesias, Enrique                            Be With You  3:36   \n",
       "8   2000                Sisqo                             Incomplete  3:52   \n",
       "9   2000             Lonestar                                 Amazed  4:25   \n",
       "10  2000               N'Sync                       It's Gonna Be Me  3:10   \n",
       "11  2000  Aguilera, Christina                      What A Girl Wants  3:18   \n",
       "12  2000     Vertical Horizon                    Everything You Want  4:01   \n",
       "13  2000                Creed                    With Arms Wide Open  3:52   \n",
       "14  2000              Aaliyah                              Try Again  4:03   \n",
       "15  2000      matchbox twenty                                   Bent  4:12   \n",
       "16  2000        Carey, Mariah                  Thank God I Found You  4:14   \n",
       "17  2000          Hill, Faith                                Breathe  4:04   \n",
       "18  2000                  Mya      Case Of The Ex (Whatcha Gonna Do)  3:50   \n",
       "19  2000                Dream                         He Loves U Not  3:43   \n",
       "\n",
       "      genre date.entered date.peaked  x1st.week  x2nd.week  x3rd.week  ...  \\\n",
       "0      Rock   2000-09-23  2000-11-18         78       63.0       49.0  ...   \n",
       "1      Rock   2000-02-12  2000-04-08         15        8.0        6.0  ...   \n",
       "2      Rock   1999-10-23  2000-01-29         71       48.0       43.0  ...   \n",
       "3      Rock   2000-08-12  2000-09-16         41       23.0       18.0  ...   \n",
       "4      Rock   2000-08-05  2000-10-14         57       47.0       45.0  ...   \n",
       "5      Rock   2000-06-17  2000-08-26         59       52.0       43.0  ...   \n",
       "6      Rock   1999-12-25  2000-03-18         83       83.0       44.0  ...   \n",
       "7     Latin   2000-04-01  2000-06-24         63       45.0       34.0  ...   \n",
       "8      Rock   2000-06-24  2000-08-12         77       66.0       61.0  ...   \n",
       "9   Country   1999-06-05  2000-03-04         81       54.0       44.0  ...   \n",
       "10     Rock   2000-05-06  2000-07-29         82       70.0       51.0  ...   \n",
       "11     Rock   1999-11-27  2000-01-15         71       51.0       28.0  ...   \n",
       "12     Rock   2000-01-22  2000-07-15         70       61.0       53.0  ...   \n",
       "13     Rock   2000-05-13  2000-11-11         84       78.0       76.0  ...   \n",
       "14     Rock   2000-03-18  2000-06-17         59       53.0       38.0  ...   \n",
       "15     Rock   2000-04-29  2000-07-22         60       37.0       29.0  ...   \n",
       "16     Rock   1999-12-11  2000-02-19         82       68.0       50.0  ...   \n",
       "17      Rap   1999-11-06  2000-04-22         81       68.0       62.0  ...   \n",
       "18     Rock   2000-08-19  2000-12-02         72       57.0       52.0  ...   \n",
       "19     Rock   2000-09-30  2000-12-30         99       92.0       81.0  ...   \n",
       "\n",
       "    x67th.week  x68th.week  x69th.week  x70th.week  x71st.week  x72nd.week  \\\n",
       "0          NaN         NaN         NaN         NaN         NaN         NaN   \n",
       "1          NaN         NaN         NaN         NaN         NaN         NaN   \n",
       "2          NaN         NaN         NaN         NaN         NaN         NaN   \n",
       "3          NaN         NaN         NaN         NaN         NaN         NaN   \n",
       "4          NaN         NaN         NaN         NaN         NaN         NaN   \n",
       "5          NaN         NaN         NaN         NaN         NaN         NaN   \n",
       "6          NaN         NaN         NaN         NaN         NaN         NaN   \n",
       "7          NaN         NaN         NaN         NaN         NaN         NaN   \n",
       "8          NaN         NaN         NaN         NaN         NaN         NaN   \n",
       "9          NaN         NaN         NaN         NaN         NaN         NaN   \n",
       "10         NaN         NaN         NaN         NaN         NaN         NaN   \n",
       "11         NaN         NaN         NaN         NaN         NaN         NaN   \n",
       "12         NaN         NaN         NaN         NaN         NaN         NaN   \n",
       "13         NaN         NaN         NaN         NaN         NaN         NaN   \n",
       "14         NaN         NaN         NaN         NaN         NaN         NaN   \n",
       "15         NaN         NaN         NaN         NaN         NaN         NaN   \n",
       "16         NaN         NaN         NaN         NaN         NaN         NaN   \n",
       "17         NaN         NaN         NaN         NaN         NaN         NaN   \n",
       "18         NaN         NaN         NaN         NaN         NaN         NaN   \n",
       "19         NaN         NaN         NaN         NaN         NaN         NaN   \n",
       "\n",
       "    x73rd.week  x74th.week  x75th.week  x76th.week  \n",
       "0          NaN         NaN         NaN         NaN  \n",
       "1          NaN         NaN         NaN         NaN  \n",
       "2          NaN         NaN         NaN         NaN  \n",
       "3          NaN         NaN         NaN         NaN  \n",
       "4          NaN         NaN         NaN         NaN  \n",
       "5          NaN         NaN         NaN         NaN  \n",
       "6          NaN         NaN         NaN         NaN  \n",
       "7          NaN         NaN         NaN         NaN  \n",
       "8          NaN         NaN         NaN         NaN  \n",
       "9          NaN         NaN         NaN         NaN  \n",
       "10         NaN         NaN         NaN         NaN  \n",
       "11         NaN         NaN         NaN         NaN  \n",
       "12         NaN         NaN         NaN         NaN  \n",
       "13         NaN         NaN         NaN         NaN  \n",
       "14         NaN         NaN         NaN         NaN  \n",
       "15         NaN         NaN         NaN         NaN  \n",
       "16         NaN         NaN         NaN         NaN  \n",
       "17         NaN         NaN         NaN         NaN  \n",
       "18         NaN         NaN         NaN         NaN  \n",
       "19         NaN         NaN         NaN         NaN  \n",
       "\n",
       "[20 rows x 83 columns]"
      ]
     },
     "execution_count": 305,
     "metadata": {},
     "output_type": "execute_result"
    }
   ],
   "source": [
    "# Load the dataset using unicode_escape encoding\n",
    "df = pd.read_csv('./CSV/billboard.csv', encoding='unicode_escape')\n",
    "\n",
    "# Display the first few rows\n",
    "df.head(20)\n"
   ]
  },
  {
   "attachments": {},
   "cell_type": "markdown",
   "metadata": {},
   "source": [
    "2. Observe the first few rows of the dataset."
   ]
  },
  {
   "cell_type": "code",
   "execution_count": 306,
   "metadata": {},
   "outputs": [
    {
     "data": {
      "application/vnd.microsoft.datawrangler.viewer.v0+json": {
       "columns": [
        {
         "name": "index",
         "rawType": "int64",
         "type": "integer"
        },
        {
         "name": "year",
         "rawType": "int64",
         "type": "integer"
        },
        {
         "name": "artist.inverted",
         "rawType": "object",
         "type": "string"
        },
        {
         "name": "track",
         "rawType": "object",
         "type": "string"
        },
        {
         "name": "time",
         "rawType": "object",
         "type": "string"
        },
        {
         "name": "genre",
         "rawType": "object",
         "type": "string"
        },
        {
         "name": "date.entered",
         "rawType": "object",
         "type": "string"
        },
        {
         "name": "date.peaked",
         "rawType": "object",
         "type": "string"
        },
        {
         "name": "x1st.week",
         "rawType": "int64",
         "type": "integer"
        },
        {
         "name": "x2nd.week",
         "rawType": "float64",
         "type": "float"
        },
        {
         "name": "x3rd.week",
         "rawType": "float64",
         "type": "float"
        },
        {
         "name": "x4th.week",
         "rawType": "float64",
         "type": "float"
        },
        {
         "name": "x5th.week",
         "rawType": "float64",
         "type": "float"
        },
        {
         "name": "x6th.week",
         "rawType": "float64",
         "type": "float"
        },
        {
         "name": "x7th.week",
         "rawType": "float64",
         "type": "float"
        },
        {
         "name": "x8th.week",
         "rawType": "float64",
         "type": "float"
        },
        {
         "name": "x9th.week",
         "rawType": "float64",
         "type": "float"
        },
        {
         "name": "x10th.week",
         "rawType": "float64",
         "type": "float"
        },
        {
         "name": "x11th.week",
         "rawType": "float64",
         "type": "float"
        },
        {
         "name": "x12th.week",
         "rawType": "float64",
         "type": "float"
        },
        {
         "name": "x13th.week",
         "rawType": "float64",
         "type": "float"
        },
        {
         "name": "x14th.week",
         "rawType": "float64",
         "type": "float"
        },
        {
         "name": "x15th.week",
         "rawType": "float64",
         "type": "float"
        },
        {
         "name": "x16th.week",
         "rawType": "float64",
         "type": "float"
        },
        {
         "name": "x17th.week",
         "rawType": "float64",
         "type": "float"
        },
        {
         "name": "x18th.week",
         "rawType": "float64",
         "type": "float"
        },
        {
         "name": "x19th.week",
         "rawType": "float64",
         "type": "float"
        },
        {
         "name": "x20th.week",
         "rawType": "float64",
         "type": "float"
        },
        {
         "name": "x21st.week",
         "rawType": "float64",
         "type": "float"
        },
        {
         "name": "x22nd.week",
         "rawType": "float64",
         "type": "float"
        },
        {
         "name": "x23rd.week",
         "rawType": "float64",
         "type": "float"
        },
        {
         "name": "x24th.week",
         "rawType": "float64",
         "type": "float"
        },
        {
         "name": "x25th.week",
         "rawType": "float64",
         "type": "float"
        },
        {
         "name": "x26th.week",
         "rawType": "float64",
         "type": "float"
        },
        {
         "name": "x27th.week",
         "rawType": "float64",
         "type": "float"
        },
        {
         "name": "x28th.week",
         "rawType": "float64",
         "type": "float"
        },
        {
         "name": "x29th.week",
         "rawType": "float64",
         "type": "float"
        },
        {
         "name": "x30th.week",
         "rawType": "float64",
         "type": "float"
        },
        {
         "name": "x31st.week",
         "rawType": "float64",
         "type": "float"
        },
        {
         "name": "x32nd.week",
         "rawType": "float64",
         "type": "float"
        },
        {
         "name": "x33rd.week",
         "rawType": "float64",
         "type": "float"
        },
        {
         "name": "x34th.week",
         "rawType": "float64",
         "type": "float"
        },
        {
         "name": "x35th.week",
         "rawType": "float64",
         "type": "float"
        },
        {
         "name": "x36th.week",
         "rawType": "float64",
         "type": "float"
        },
        {
         "name": "x37th.week",
         "rawType": "float64",
         "type": "float"
        },
        {
         "name": "x38th.week",
         "rawType": "float64",
         "type": "float"
        },
        {
         "name": "x39th.week",
         "rawType": "float64",
         "type": "float"
        },
        {
         "name": "x40th.week",
         "rawType": "float64",
         "type": "float"
        },
        {
         "name": "x41st.week",
         "rawType": "float64",
         "type": "float"
        },
        {
         "name": "x42nd.week",
         "rawType": "float64",
         "type": "float"
        },
        {
         "name": "x43rd.week",
         "rawType": "float64",
         "type": "float"
        },
        {
         "name": "x44th.week",
         "rawType": "float64",
         "type": "float"
        },
        {
         "name": "x45th.week",
         "rawType": "float64",
         "type": "float"
        },
        {
         "name": "x46th.week",
         "rawType": "float64",
         "type": "float"
        },
        {
         "name": "x47th.week",
         "rawType": "float64",
         "type": "float"
        },
        {
         "name": "x48th.week",
         "rawType": "float64",
         "type": "float"
        },
        {
         "name": "x49th.week",
         "rawType": "float64",
         "type": "float"
        },
        {
         "name": "x50th.week",
         "rawType": "float64",
         "type": "float"
        },
        {
         "name": "x51st.week",
         "rawType": "float64",
         "type": "float"
        },
        {
         "name": "x52nd.week",
         "rawType": "float64",
         "type": "float"
        },
        {
         "name": "x53rd.week",
         "rawType": "float64",
         "type": "float"
        },
        {
         "name": "x54th.week",
         "rawType": "float64",
         "type": "float"
        },
        {
         "name": "x55th.week",
         "rawType": "float64",
         "type": "float"
        },
        {
         "name": "x56th.week",
         "rawType": "float64",
         "type": "float"
        },
        {
         "name": "x57th.week",
         "rawType": "float64",
         "type": "float"
        },
        {
         "name": "x58th.week",
         "rawType": "float64",
         "type": "float"
        },
        {
         "name": "x59th.week",
         "rawType": "float64",
         "type": "float"
        },
        {
         "name": "x60th.week",
         "rawType": "float64",
         "type": "float"
        },
        {
         "name": "x61st.week",
         "rawType": "float64",
         "type": "float"
        },
        {
         "name": "x62nd.week",
         "rawType": "float64",
         "type": "float"
        },
        {
         "name": "x63rd.week",
         "rawType": "float64",
         "type": "float"
        },
        {
         "name": "x64th.week",
         "rawType": "float64",
         "type": "float"
        },
        {
         "name": "x65th.week",
         "rawType": "float64",
         "type": "float"
        },
        {
         "name": "x66th.week",
         "rawType": "float64",
         "type": "float"
        },
        {
         "name": "x67th.week",
         "rawType": "float64",
         "type": "float"
        },
        {
         "name": "x68th.week",
         "rawType": "float64",
         "type": "float"
        },
        {
         "name": "x69th.week",
         "rawType": "float64",
         "type": "float"
        },
        {
         "name": "x70th.week",
         "rawType": "float64",
         "type": "float"
        },
        {
         "name": "x71st.week",
         "rawType": "float64",
         "type": "float"
        },
        {
         "name": "x72nd.week",
         "rawType": "float64",
         "type": "float"
        },
        {
         "name": "x73rd.week",
         "rawType": "float64",
         "type": "float"
        },
        {
         "name": "x74th.week",
         "rawType": "float64",
         "type": "float"
        },
        {
         "name": "x75th.week",
         "rawType": "float64",
         "type": "float"
        },
        {
         "name": "x76th.week",
         "rawType": "float64",
         "type": "float"
        }
       ],
       "ref": "fe2f7ecf-1962-44e0-89fc-bc1afe2df123",
       "rows": [
        [
         "0",
         "2000",
         "Destiny's Child",
         "Independent Women Part I",
         "3:38",
         "Rock",
         "2000-09-23",
         "2000-11-18",
         "78",
         "63.0",
         "49.0",
         "33.0",
         "23.0",
         "15.0",
         "7.0",
         "5.0",
         "1.0",
         "1.0",
         "1.0",
         "1.0",
         "1.0",
         "1.0",
         "1.0",
         "1.0",
         "1.0",
         "1.0",
         "1.0",
         "2.0",
         "3.0",
         "7.0",
         "10.0",
         "12.0",
         "15.0",
         "22.0",
         "29.0",
         "31.0",
         null,
         null,
         null,
         null,
         null,
         null,
         null,
         null,
         null,
         null,
         null,
         null,
         null,
         null,
         null,
         null,
         null,
         null,
         null,
         null,
         null,
         null,
         null,
         null,
         null,
         null,
         null,
         null,
         null,
         null,
         null,
         null,
         null,
         null,
         null,
         null,
         null,
         null,
         null,
         null,
         null,
         null,
         null,
         null,
         null,
         null,
         null,
         null
        ],
        [
         "1",
         "2000",
         "Santana",
         "Maria, Maria",
         "4:18",
         "Rock",
         "2000-02-12",
         "2000-04-08",
         "15",
         "8.0",
         "6.0",
         "5.0",
         "2.0",
         "3.0",
         "2.0",
         "2.0",
         "1.0",
         "1.0",
         "1.0",
         "1.0",
         "1.0",
         "1.0",
         "1.0",
         "1.0",
         "1.0",
         "1.0",
         "8.0",
         "15.0",
         "19.0",
         "21.0",
         "26.0",
         "36.0",
         "48.0",
         "47.0",
         null,
         null,
         null,
         null,
         null,
         null,
         null,
         null,
         null,
         null,
         null,
         null,
         null,
         null,
         null,
         null,
         null,
         null,
         null,
         null,
         null,
         null,
         null,
         null,
         null,
         null,
         null,
         null,
         null,
         null,
         null,
         null,
         null,
         null,
         null,
         null,
         null,
         null,
         null,
         null,
         null,
         null,
         null,
         null,
         null,
         null,
         null,
         null,
         null,
         null
        ],
        [
         "2",
         "2000",
         "Savage Garden",
         "I Knew I Loved You",
         "4:07",
         "Rock",
         "1999-10-23",
         "2000-01-29",
         "71",
         "48.0",
         "43.0",
         "31.0",
         "20.0",
         "13.0",
         "7.0",
         "6.0",
         "4.0",
         "4.0",
         "4.0",
         "6.0",
         "4.0",
         "2.0",
         "1.0",
         "1.0",
         "1.0",
         "2.0",
         "1.0",
         "2.0",
         "4.0",
         "8.0",
         "8.0",
         "12.0",
         "14.0",
         "17.0",
         "21.0",
         "24.0",
         "30.0",
         "34.0",
         "37.0",
         "46.0",
         "47.0",
         null,
         null,
         null,
         null,
         null,
         null,
         null,
         null,
         null,
         null,
         null,
         null,
         null,
         null,
         null,
         null,
         null,
         null,
         null,
         null,
         null,
         null,
         null,
         null,
         null,
         null,
         null,
         null,
         null,
         null,
         null,
         null,
         null,
         null,
         null,
         null,
         null,
         null,
         null,
         null,
         null,
         null,
         null
        ],
        [
         "3",
         "2000",
         "Madonna",
         "Music",
         "3:45",
         "Rock",
         "2000-08-12",
         "2000-09-16",
         "41",
         "23.0",
         "18.0",
         "14.0",
         "2.0",
         "1.0",
         "1.0",
         "1.0",
         "1.0",
         "2.0",
         "2.0",
         "2.0",
         "2.0",
         "2.0",
         "4.0",
         "8.0",
         "11.0",
         "16.0",
         "20.0",
         "25.0",
         "27.0",
         "27.0",
         "29.0",
         "44.0",
         null,
         null,
         null,
         null,
         null,
         null,
         null,
         null,
         null,
         null,
         null,
         null,
         null,
         null,
         null,
         null,
         null,
         null,
         null,
         null,
         null,
         null,
         null,
         null,
         null,
         null,
         null,
         null,
         null,
         null,
         null,
         null,
         null,
         null,
         null,
         null,
         null,
         null,
         null,
         null,
         null,
         null,
         null,
         null,
         null,
         null,
         null,
         null,
         null,
         null,
         null,
         null
        ],
        [
         "4",
         "2000",
         "Aguilera, Christina",
         "Come On Over Baby (All I Want Is You)",
         "3:38",
         "Rock",
         "2000-08-05",
         "2000-10-14",
         "57",
         "47.0",
         "45.0",
         "29.0",
         "23.0",
         "18.0",
         "11.0",
         "9.0",
         "9.0",
         "11.0",
         "1.0",
         "1.0",
         "1.0",
         "1.0",
         "4.0",
         "8.0",
         "12.0",
         "22.0",
         "23.0",
         "43.0",
         "44.0",
         null,
         null,
         null,
         null,
         null,
         null,
         null,
         null,
         null,
         null,
         null,
         null,
         null,
         null,
         null,
         null,
         null,
         null,
         null,
         null,
         null,
         null,
         null,
         null,
         null,
         null,
         null,
         null,
         null,
         null,
         null,
         null,
         null,
         null,
         null,
         null,
         null,
         null,
         null,
         null,
         null,
         null,
         null,
         null,
         null,
         null,
         null,
         null,
         null,
         null,
         null,
         null,
         null,
         null,
         null
        ]
       ],
       "shape": {
        "columns": 83,
        "rows": 5
       }
      },
      "text/html": [
       "<div>\n",
       "<style scoped>\n",
       "    .dataframe tbody tr th:only-of-type {\n",
       "        vertical-align: middle;\n",
       "    }\n",
       "\n",
       "    .dataframe tbody tr th {\n",
       "        vertical-align: top;\n",
       "    }\n",
       "\n",
       "    .dataframe thead th {\n",
       "        text-align: right;\n",
       "    }\n",
       "</style>\n",
       "<table border=\"1\" class=\"dataframe\">\n",
       "  <thead>\n",
       "    <tr style=\"text-align: right;\">\n",
       "      <th></th>\n",
       "      <th>year</th>\n",
       "      <th>artist.inverted</th>\n",
       "      <th>track</th>\n",
       "      <th>time</th>\n",
       "      <th>genre</th>\n",
       "      <th>date.entered</th>\n",
       "      <th>date.peaked</th>\n",
       "      <th>x1st.week</th>\n",
       "      <th>x2nd.week</th>\n",
       "      <th>x3rd.week</th>\n",
       "      <th>...</th>\n",
       "      <th>x67th.week</th>\n",
       "      <th>x68th.week</th>\n",
       "      <th>x69th.week</th>\n",
       "      <th>x70th.week</th>\n",
       "      <th>x71st.week</th>\n",
       "      <th>x72nd.week</th>\n",
       "      <th>x73rd.week</th>\n",
       "      <th>x74th.week</th>\n",
       "      <th>x75th.week</th>\n",
       "      <th>x76th.week</th>\n",
       "    </tr>\n",
       "  </thead>\n",
       "  <tbody>\n",
       "    <tr>\n",
       "      <th>0</th>\n",
       "      <td>2000</td>\n",
       "      <td>Destiny's Child</td>\n",
       "      <td>Independent Women Part I</td>\n",
       "      <td>3:38</td>\n",
       "      <td>Rock</td>\n",
       "      <td>2000-09-23</td>\n",
       "      <td>2000-11-18</td>\n",
       "      <td>78</td>\n",
       "      <td>63.0</td>\n",
       "      <td>49.0</td>\n",
       "      <td>...</td>\n",
       "      <td>NaN</td>\n",
       "      <td>NaN</td>\n",
       "      <td>NaN</td>\n",
       "      <td>NaN</td>\n",
       "      <td>NaN</td>\n",
       "      <td>NaN</td>\n",
       "      <td>NaN</td>\n",
       "      <td>NaN</td>\n",
       "      <td>NaN</td>\n",
       "      <td>NaN</td>\n",
       "    </tr>\n",
       "    <tr>\n",
       "      <th>1</th>\n",
       "      <td>2000</td>\n",
       "      <td>Santana</td>\n",
       "      <td>Maria, Maria</td>\n",
       "      <td>4:18</td>\n",
       "      <td>Rock</td>\n",
       "      <td>2000-02-12</td>\n",
       "      <td>2000-04-08</td>\n",
       "      <td>15</td>\n",
       "      <td>8.0</td>\n",
       "      <td>6.0</td>\n",
       "      <td>...</td>\n",
       "      <td>NaN</td>\n",
       "      <td>NaN</td>\n",
       "      <td>NaN</td>\n",
       "      <td>NaN</td>\n",
       "      <td>NaN</td>\n",
       "      <td>NaN</td>\n",
       "      <td>NaN</td>\n",
       "      <td>NaN</td>\n",
       "      <td>NaN</td>\n",
       "      <td>NaN</td>\n",
       "    </tr>\n",
       "    <tr>\n",
       "      <th>2</th>\n",
       "      <td>2000</td>\n",
       "      <td>Savage Garden</td>\n",
       "      <td>I Knew I Loved You</td>\n",
       "      <td>4:07</td>\n",
       "      <td>Rock</td>\n",
       "      <td>1999-10-23</td>\n",
       "      <td>2000-01-29</td>\n",
       "      <td>71</td>\n",
       "      <td>48.0</td>\n",
       "      <td>43.0</td>\n",
       "      <td>...</td>\n",
       "      <td>NaN</td>\n",
       "      <td>NaN</td>\n",
       "      <td>NaN</td>\n",
       "      <td>NaN</td>\n",
       "      <td>NaN</td>\n",
       "      <td>NaN</td>\n",
       "      <td>NaN</td>\n",
       "      <td>NaN</td>\n",
       "      <td>NaN</td>\n",
       "      <td>NaN</td>\n",
       "    </tr>\n",
       "    <tr>\n",
       "      <th>3</th>\n",
       "      <td>2000</td>\n",
       "      <td>Madonna</td>\n",
       "      <td>Music</td>\n",
       "      <td>3:45</td>\n",
       "      <td>Rock</td>\n",
       "      <td>2000-08-12</td>\n",
       "      <td>2000-09-16</td>\n",
       "      <td>41</td>\n",
       "      <td>23.0</td>\n",
       "      <td>18.0</td>\n",
       "      <td>...</td>\n",
       "      <td>NaN</td>\n",
       "      <td>NaN</td>\n",
       "      <td>NaN</td>\n",
       "      <td>NaN</td>\n",
       "      <td>NaN</td>\n",
       "      <td>NaN</td>\n",
       "      <td>NaN</td>\n",
       "      <td>NaN</td>\n",
       "      <td>NaN</td>\n",
       "      <td>NaN</td>\n",
       "    </tr>\n",
       "    <tr>\n",
       "      <th>4</th>\n",
       "      <td>2000</td>\n",
       "      <td>Aguilera, Christina</td>\n",
       "      <td>Come On Over Baby (All I Want Is You)</td>\n",
       "      <td>3:38</td>\n",
       "      <td>Rock</td>\n",
       "      <td>2000-08-05</td>\n",
       "      <td>2000-10-14</td>\n",
       "      <td>57</td>\n",
       "      <td>47.0</td>\n",
       "      <td>45.0</td>\n",
       "      <td>...</td>\n",
       "      <td>NaN</td>\n",
       "      <td>NaN</td>\n",
       "      <td>NaN</td>\n",
       "      <td>NaN</td>\n",
       "      <td>NaN</td>\n",
       "      <td>NaN</td>\n",
       "      <td>NaN</td>\n",
       "      <td>NaN</td>\n",
       "      <td>NaN</td>\n",
       "      <td>NaN</td>\n",
       "    </tr>\n",
       "  </tbody>\n",
       "</table>\n",
       "<p>5 rows × 83 columns</p>\n",
       "</div>"
      ],
      "text/plain": [
       "   year      artist.inverted                                  track  time  \\\n",
       "0  2000      Destiny's Child               Independent Women Part I  3:38   \n",
       "1  2000              Santana                           Maria, Maria  4:18   \n",
       "2  2000        Savage Garden                     I Knew I Loved You  4:07   \n",
       "3  2000              Madonna                                  Music  3:45   \n",
       "4  2000  Aguilera, Christina  Come On Over Baby (All I Want Is You)  3:38   \n",
       "\n",
       "  genre date.entered date.peaked  x1st.week  x2nd.week  x3rd.week  ...  \\\n",
       "0  Rock   2000-09-23  2000-11-18         78       63.0       49.0  ...   \n",
       "1  Rock   2000-02-12  2000-04-08         15        8.0        6.0  ...   \n",
       "2  Rock   1999-10-23  2000-01-29         71       48.0       43.0  ...   \n",
       "3  Rock   2000-08-12  2000-09-16         41       23.0       18.0  ...   \n",
       "4  Rock   2000-08-05  2000-10-14         57       47.0       45.0  ...   \n",
       "\n",
       "   x67th.week  x68th.week  x69th.week  x70th.week  x71st.week  x72nd.week  \\\n",
       "0         NaN         NaN         NaN         NaN         NaN         NaN   \n",
       "1         NaN         NaN         NaN         NaN         NaN         NaN   \n",
       "2         NaN         NaN         NaN         NaN         NaN         NaN   \n",
       "3         NaN         NaN         NaN         NaN         NaN         NaN   \n",
       "4         NaN         NaN         NaN         NaN         NaN         NaN   \n",
       "\n",
       "   x73rd.week  x74th.week  x75th.week  x76th.week  \n",
       "0         NaN         NaN         NaN         NaN  \n",
       "1         NaN         NaN         NaN         NaN  \n",
       "2         NaN         NaN         NaN         NaN  \n",
       "3         NaN         NaN         NaN         NaN  \n",
       "4         NaN         NaN         NaN         NaN  \n",
       "\n",
       "[5 rows x 83 columns]"
      ]
     },
     "execution_count": 306,
     "metadata": {},
     "output_type": "execute_result"
    }
   ],
   "source": [
    "# Display the first 5 rows\n",
    "df.head()\n"
   ]
  },
  {
   "attachments": {},
   "cell_type": "markdown",
   "metadata": {},
   "source": [
    "***What is wrong with the above dataset?***"
   ]
  },
  {
   "cell_type": "markdown",
   "metadata": {},
   "source": [
    "The dataset is not tidy. Each song's information is spread across multiple week columns (e.g., `x1st.week`, `x2nd.week`, etc.), which represent values of a variable (week number) rather than proper column headers. Additionally, these repeated columns violate the tidy data principle that each variable should have its own column and each observation should form a single row. This structure makes it difficult to analyze trends over time.\n"
   ]
  },
  {
   "attachments": {},
   "cell_type": "markdown",
   "metadata": {},
   "source": [
    "3. Let's, again, use the `melt` function to fix the general structure of the dataframe."
   ]
  },
  {
   "cell_type": "code",
   "execution_count": 307,
   "metadata": {},
   "outputs": [
    {
     "data": {
      "application/vnd.microsoft.datawrangler.viewer.v0+json": {
       "columns": [
        {
         "name": "index",
         "rawType": "int64",
         "type": "integer"
        },
        {
         "name": "year",
         "rawType": "int64",
         "type": "integer"
        },
        {
         "name": "artist.inverted",
         "rawType": "object",
         "type": "string"
        },
        {
         "name": "track",
         "rawType": "object",
         "type": "string"
        },
        {
         "name": "time",
         "rawType": "object",
         "type": "string"
        },
        {
         "name": "genre",
         "rawType": "object",
         "type": "string"
        },
        {
         "name": "week",
         "rawType": "object",
         "type": "string"
        },
        {
         "name": "rank",
         "rawType": "object",
         "type": "string"
        }
       ],
       "ref": "7d8f385a-0ce1-4b4c-bff9-77b4d0a99996",
       "rows": [
        [
         "0",
         "2000",
         "Destiny's Child",
         "Independent Women Part I",
         "3:38",
         "Rock",
         "date.entered",
         "2000-09-23"
        ],
        [
         "1",
         "2000",
         "Santana",
         "Maria, Maria",
         "4:18",
         "Rock",
         "date.entered",
         "2000-02-12"
        ],
        [
         "2",
         "2000",
         "Savage Garden",
         "I Knew I Loved You",
         "4:07",
         "Rock",
         "date.entered",
         "1999-10-23"
        ],
        [
         "3",
         "2000",
         "Madonna",
         "Music",
         "3:45",
         "Rock",
         "date.entered",
         "2000-08-12"
        ],
        [
         "4",
         "2000",
         "Aguilera, Christina",
         "Come On Over Baby (All I Want Is You)",
         "3:38",
         "Rock",
         "date.entered",
         "2000-08-05"
        ]
       ],
       "shape": {
        "columns": 7,
        "rows": 5
       }
      },
      "text/html": [
       "<div>\n",
       "<style scoped>\n",
       "    .dataframe tbody tr th:only-of-type {\n",
       "        vertical-align: middle;\n",
       "    }\n",
       "\n",
       "    .dataframe tbody tr th {\n",
       "        vertical-align: top;\n",
       "    }\n",
       "\n",
       "    .dataframe thead th {\n",
       "        text-align: right;\n",
       "    }\n",
       "</style>\n",
       "<table border=\"1\" class=\"dataframe\">\n",
       "  <thead>\n",
       "    <tr style=\"text-align: right;\">\n",
       "      <th></th>\n",
       "      <th>year</th>\n",
       "      <th>artist.inverted</th>\n",
       "      <th>track</th>\n",
       "      <th>time</th>\n",
       "      <th>genre</th>\n",
       "      <th>week</th>\n",
       "      <th>rank</th>\n",
       "    </tr>\n",
       "  </thead>\n",
       "  <tbody>\n",
       "    <tr>\n",
       "      <th>0</th>\n",
       "      <td>2000</td>\n",
       "      <td>Destiny's Child</td>\n",
       "      <td>Independent Women Part I</td>\n",
       "      <td>3:38</td>\n",
       "      <td>Rock</td>\n",
       "      <td>date.entered</td>\n",
       "      <td>2000-09-23</td>\n",
       "    </tr>\n",
       "    <tr>\n",
       "      <th>1</th>\n",
       "      <td>2000</td>\n",
       "      <td>Santana</td>\n",
       "      <td>Maria, Maria</td>\n",
       "      <td>4:18</td>\n",
       "      <td>Rock</td>\n",
       "      <td>date.entered</td>\n",
       "      <td>2000-02-12</td>\n",
       "    </tr>\n",
       "    <tr>\n",
       "      <th>2</th>\n",
       "      <td>2000</td>\n",
       "      <td>Savage Garden</td>\n",
       "      <td>I Knew I Loved You</td>\n",
       "      <td>4:07</td>\n",
       "      <td>Rock</td>\n",
       "      <td>date.entered</td>\n",
       "      <td>1999-10-23</td>\n",
       "    </tr>\n",
       "    <tr>\n",
       "      <th>3</th>\n",
       "      <td>2000</td>\n",
       "      <td>Madonna</td>\n",
       "      <td>Music</td>\n",
       "      <td>3:45</td>\n",
       "      <td>Rock</td>\n",
       "      <td>date.entered</td>\n",
       "      <td>2000-08-12</td>\n",
       "    </tr>\n",
       "    <tr>\n",
       "      <th>4</th>\n",
       "      <td>2000</td>\n",
       "      <td>Aguilera, Christina</td>\n",
       "      <td>Come On Over Baby (All I Want Is You)</td>\n",
       "      <td>3:38</td>\n",
       "      <td>Rock</td>\n",
       "      <td>date.entered</td>\n",
       "      <td>2000-08-05</td>\n",
       "    </tr>\n",
       "  </tbody>\n",
       "</table>\n",
       "</div>"
      ],
      "text/plain": [
       "   year      artist.inverted                                  track  time  \\\n",
       "0  2000      Destiny's Child               Independent Women Part I  3:38   \n",
       "1  2000              Santana                           Maria, Maria  4:18   \n",
       "2  2000        Savage Garden                     I Knew I Loved You  4:07   \n",
       "3  2000              Madonna                                  Music  3:45   \n",
       "4  2000  Aguilera, Christina  Come On Over Baby (All I Want Is You)  3:38   \n",
       "\n",
       "  genre          week        rank  \n",
       "0  Rock  date.entered  2000-09-23  \n",
       "1  Rock  date.entered  2000-02-12  \n",
       "2  Rock  date.entered  1999-10-23  \n",
       "3  Rock  date.entered  2000-08-12  \n",
       "4  Rock  date.entered  2000-08-05  "
      ]
     },
     "execution_count": 307,
     "metadata": {},
     "output_type": "execute_result"
    }
   ],
   "source": [
    "# Melt the dataframe: keep song-level columns, melt week columns\n",
    "df_tidy = df.melt(\n",
    "    id_vars=['year', 'artist.inverted', 'track', 'time', 'genre'], \n",
    "    var_name='week',\n",
    "    value_name='rank'\n",
    ")\n",
    "\n",
    "# Display the first few rows of the tidy DataFrame\n",
    "df_tidy.head()\n"
   ]
  },
  {
   "attachments": {},
   "cell_type": "markdown",
   "metadata": {},
   "source": [
    "If we inspect the current dataframe. We find that it is structured in a better way than before. \n",
    "\n",
    "However, the ***Week*** column looks a bit ugly!\n",
    "\n",
    "4. Let's try to place only the week number in that column without the extras surronding it."
   ]
  },
  {
   "cell_type": "markdown",
   "metadata": {},
   "source": [
    "After melting the dataset, the `week` column still contains messy strings like `\"x1st.week\"`, `\"x2nd.week\"`, etc. These are not ideal for analysis or visualization.\n",
    "\n",
    "To clean this, we extract only the numeric part (i.e., the actual week number) and convert it into an integer format. This makes the column easier to sort, filter, and interpret in future steps.\n"
   ]
  },
  {
   "cell_type": "code",
   "execution_count": 308,
   "metadata": {},
   "outputs": [
    {
     "data": {
      "application/vnd.microsoft.datawrangler.viewer.v0+json": {
       "columns": [
        {
         "name": "index",
         "rawType": "int64",
         "type": "integer"
        },
        {
         "name": "year",
         "rawType": "int64",
         "type": "integer"
        },
        {
         "name": "artist.inverted",
         "rawType": "object",
         "type": "string"
        },
        {
         "name": "track",
         "rawType": "object",
         "type": "string"
        },
        {
         "name": "time",
         "rawType": "object",
         "type": "string"
        },
        {
         "name": "genre",
         "rawType": "object",
         "type": "string"
        },
        {
         "name": "week",
         "rawType": "Int64",
         "type": "integer"
        },
        {
         "name": "rank",
         "rawType": "object",
         "type": "string"
        }
       ],
       "ref": "fa8b4aad-5bd8-413a-84c7-ef9f7a0b2b10",
       "rows": [
        [
         "0",
         "2000",
         "Destiny's Child",
         "Independent Women Part I",
         "3:38",
         "Rock",
         null,
         "2000-09-23"
        ],
        [
         "1",
         "2000",
         "Santana",
         "Maria, Maria",
         "4:18",
         "Rock",
         null,
         "2000-02-12"
        ],
        [
         "2",
         "2000",
         "Savage Garden",
         "I Knew I Loved You",
         "4:07",
         "Rock",
         null,
         "1999-10-23"
        ],
        [
         "3",
         "2000",
         "Madonna",
         "Music",
         "3:45",
         "Rock",
         null,
         "2000-08-12"
        ],
        [
         "4",
         "2000",
         "Aguilera, Christina",
         "Come On Over Baby (All I Want Is You)",
         "3:38",
         "Rock",
         null,
         "2000-08-05"
        ]
       ],
       "shape": {
        "columns": 7,
        "rows": 5
       }
      },
      "text/html": [
       "<div>\n",
       "<style scoped>\n",
       "    .dataframe tbody tr th:only-of-type {\n",
       "        vertical-align: middle;\n",
       "    }\n",
       "\n",
       "    .dataframe tbody tr th {\n",
       "        vertical-align: top;\n",
       "    }\n",
       "\n",
       "    .dataframe thead th {\n",
       "        text-align: right;\n",
       "    }\n",
       "</style>\n",
       "<table border=\"1\" class=\"dataframe\">\n",
       "  <thead>\n",
       "    <tr style=\"text-align: right;\">\n",
       "      <th></th>\n",
       "      <th>year</th>\n",
       "      <th>artist.inverted</th>\n",
       "      <th>track</th>\n",
       "      <th>time</th>\n",
       "      <th>genre</th>\n",
       "      <th>week</th>\n",
       "      <th>rank</th>\n",
       "    </tr>\n",
       "  </thead>\n",
       "  <tbody>\n",
       "    <tr>\n",
       "      <th>0</th>\n",
       "      <td>2000</td>\n",
       "      <td>Destiny's Child</td>\n",
       "      <td>Independent Women Part I</td>\n",
       "      <td>3:38</td>\n",
       "      <td>Rock</td>\n",
       "      <td>&lt;NA&gt;</td>\n",
       "      <td>2000-09-23</td>\n",
       "    </tr>\n",
       "    <tr>\n",
       "      <th>1</th>\n",
       "      <td>2000</td>\n",
       "      <td>Santana</td>\n",
       "      <td>Maria, Maria</td>\n",
       "      <td>4:18</td>\n",
       "      <td>Rock</td>\n",
       "      <td>&lt;NA&gt;</td>\n",
       "      <td>2000-02-12</td>\n",
       "    </tr>\n",
       "    <tr>\n",
       "      <th>2</th>\n",
       "      <td>2000</td>\n",
       "      <td>Savage Garden</td>\n",
       "      <td>I Knew I Loved You</td>\n",
       "      <td>4:07</td>\n",
       "      <td>Rock</td>\n",
       "      <td>&lt;NA&gt;</td>\n",
       "      <td>1999-10-23</td>\n",
       "    </tr>\n",
       "    <tr>\n",
       "      <th>3</th>\n",
       "      <td>2000</td>\n",
       "      <td>Madonna</td>\n",
       "      <td>Music</td>\n",
       "      <td>3:45</td>\n",
       "      <td>Rock</td>\n",
       "      <td>&lt;NA&gt;</td>\n",
       "      <td>2000-08-12</td>\n",
       "    </tr>\n",
       "    <tr>\n",
       "      <th>4</th>\n",
       "      <td>2000</td>\n",
       "      <td>Aguilera, Christina</td>\n",
       "      <td>Come On Over Baby (All I Want Is You)</td>\n",
       "      <td>3:38</td>\n",
       "      <td>Rock</td>\n",
       "      <td>&lt;NA&gt;</td>\n",
       "      <td>2000-08-05</td>\n",
       "    </tr>\n",
       "  </tbody>\n",
       "</table>\n",
       "</div>"
      ],
      "text/plain": [
       "   year      artist.inverted                                  track  time  \\\n",
       "0  2000      Destiny's Child               Independent Women Part I  3:38   \n",
       "1  2000              Santana                           Maria, Maria  4:18   \n",
       "2  2000        Savage Garden                     I Knew I Loved You  4:07   \n",
       "3  2000              Madonna                                  Music  3:45   \n",
       "4  2000  Aguilera, Christina  Come On Over Baby (All I Want Is You)  3:38   \n",
       "\n",
       "  genre  week        rank  \n",
       "0  Rock  <NA>  2000-09-23  \n",
       "1  Rock  <NA>  2000-02-12  \n",
       "2  Rock  <NA>  1999-10-23  \n",
       "3  Rock  <NA>  2000-08-12  \n",
       "4  Rock  <NA>  2000-08-05  "
      ]
     },
     "execution_count": 308,
     "metadata": {},
     "output_type": "execute_result"
    }
   ],
   "source": [
    "# Clean the week column by extracting only the digits\n",
    "df_tidy['week'] = df_tidy['week'].str.extract(r'(\\d+)').astype('Int64')\n",
    "\n",
    "# Display cleaned result\n",
    "df_tidy.head()\n"
   ]
  },
  {
   "attachments": {},
   "cell_type": "markdown",
   "metadata": {},
   "source": [
    "5. Now let's inspect the ***Week*** column in the dataframe."
   ]
  },
  {
   "cell_type": "code",
   "execution_count": 309,
   "metadata": {},
   "outputs": [
    {
     "name": "stdout",
     "output_type": "stream",
     "text": [
      " Unique Week Values Table:\n"
     ]
    },
    {
     "data": {
      "application/vnd.microsoft.datawrangler.viewer.v0+json": {
       "columns": [
        {
         "name": "index",
         "rawType": "int64",
         "type": "integer"
        },
        {
         "name": "Week Number",
         "rawType": "int64",
         "type": "integer"
        }
       ],
       "ref": "b30d320e-c793-4caf-82cd-04a949363fbb",
       "rows": [
        [
         "0",
         "1"
        ],
        [
         "1",
         "2"
        ],
        [
         "2",
         "3"
        ],
        [
         "3",
         "4"
        ],
        [
         "4",
         "5"
        ],
        [
         "5",
         "6"
        ],
        [
         "6",
         "7"
        ],
        [
         "7",
         "8"
        ],
        [
         "8",
         "9"
        ],
        [
         "9",
         "10"
        ],
        [
         "10",
         "11"
        ],
        [
         "11",
         "12"
        ],
        [
         "12",
         "13"
        ],
        [
         "13",
         "14"
        ],
        [
         "14",
         "15"
        ],
        [
         "15",
         "16"
        ],
        [
         "16",
         "17"
        ],
        [
         "17",
         "18"
        ],
        [
         "18",
         "19"
        ],
        [
         "19",
         "20"
        ],
        [
         "20",
         "21"
        ],
        [
         "21",
         "22"
        ],
        [
         "22",
         "23"
        ],
        [
         "23",
         "24"
        ],
        [
         "24",
         "25"
        ],
        [
         "25",
         "26"
        ],
        [
         "26",
         "27"
        ],
        [
         "27",
         "28"
        ],
        [
         "28",
         "29"
        ],
        [
         "29",
         "30"
        ],
        [
         "30",
         "31"
        ],
        [
         "31",
         "32"
        ],
        [
         "32",
         "33"
        ],
        [
         "33",
         "34"
        ],
        [
         "34",
         "35"
        ],
        [
         "35",
         "36"
        ],
        [
         "36",
         "37"
        ],
        [
         "37",
         "38"
        ],
        [
         "38",
         "39"
        ],
        [
         "39",
         "40"
        ],
        [
         "40",
         "41"
        ],
        [
         "41",
         "42"
        ],
        [
         "42",
         "43"
        ],
        [
         "43",
         "44"
        ],
        [
         "44",
         "45"
        ],
        [
         "45",
         "46"
        ],
        [
         "46",
         "47"
        ],
        [
         "47",
         "48"
        ],
        [
         "48",
         "49"
        ],
        [
         "49",
         "50"
        ]
       ],
       "shape": {
        "columns": 1,
        "rows": 76
       }
      },
      "text/html": [
       "<div>\n",
       "<style scoped>\n",
       "    .dataframe tbody tr th:only-of-type {\n",
       "        vertical-align: middle;\n",
       "    }\n",
       "\n",
       "    .dataframe tbody tr th {\n",
       "        vertical-align: top;\n",
       "    }\n",
       "\n",
       "    .dataframe thead th {\n",
       "        text-align: right;\n",
       "    }\n",
       "</style>\n",
       "<table border=\"1\" class=\"dataframe\">\n",
       "  <thead>\n",
       "    <tr style=\"text-align: right;\">\n",
       "      <th></th>\n",
       "      <th>Week Number</th>\n",
       "    </tr>\n",
       "  </thead>\n",
       "  <tbody>\n",
       "    <tr>\n",
       "      <th>0</th>\n",
       "      <td>1</td>\n",
       "    </tr>\n",
       "    <tr>\n",
       "      <th>1</th>\n",
       "      <td>2</td>\n",
       "    </tr>\n",
       "    <tr>\n",
       "      <th>2</th>\n",
       "      <td>3</td>\n",
       "    </tr>\n",
       "    <tr>\n",
       "      <th>3</th>\n",
       "      <td>4</td>\n",
       "    </tr>\n",
       "    <tr>\n",
       "      <th>4</th>\n",
       "      <td>5</td>\n",
       "    </tr>\n",
       "    <tr>\n",
       "      <th>...</th>\n",
       "      <td>...</td>\n",
       "    </tr>\n",
       "    <tr>\n",
       "      <th>71</th>\n",
       "      <td>72</td>\n",
       "    </tr>\n",
       "    <tr>\n",
       "      <th>72</th>\n",
       "      <td>73</td>\n",
       "    </tr>\n",
       "    <tr>\n",
       "      <th>73</th>\n",
       "      <td>74</td>\n",
       "    </tr>\n",
       "    <tr>\n",
       "      <th>74</th>\n",
       "      <td>75</td>\n",
       "    </tr>\n",
       "    <tr>\n",
       "      <th>75</th>\n",
       "      <td>76</td>\n",
       "    </tr>\n",
       "  </tbody>\n",
       "</table>\n",
       "<p>76 rows × 1 columns</p>\n",
       "</div>"
      ],
      "text/plain": [
       "    Week Number\n",
       "0             1\n",
       "1             2\n",
       "2             3\n",
       "3             4\n",
       "4             5\n",
       "..          ...\n",
       "71           72\n",
       "72           73\n",
       "73           74\n",
       "74           75\n",
       "75           76\n",
       "\n",
       "[76 rows x 1 columns]"
      ]
     },
     "metadata": {},
     "output_type": "display_data"
    },
    {
     "name": "stdout",
     "output_type": "stream",
     "text": [
      "\n",
      " Week Summary Statistics Table:\n"
     ]
    },
    {
     "data": {
      "application/vnd.microsoft.datawrangler.viewer.v0+json": {
       "columns": [
        {
         "name": "index",
         "rawType": "int64",
         "type": "integer"
        },
        {
         "name": "Statistic",
         "rawType": "object",
         "type": "string"
        },
        {
         "name": "Value",
         "rawType": "Float64",
         "type": "float"
        }
       ],
       "ref": "47986d5c-c1a0-4621-a9a2-38b05a191d09",
       "rows": [
        [
         "0",
         "count",
         "24092.0"
        ],
        [
         "1",
         "mean",
         "38.5"
        ],
        [
         "2",
         "std",
         "21.937866266793403"
        ],
        [
         "3",
         "min",
         "1.0"
        ],
        [
         "4",
         "25%",
         "19.75"
        ],
        [
         "5",
         "50%",
         "38.5"
        ],
        [
         "6",
         "75%",
         "57.25"
        ],
        [
         "7",
         "max",
         "76.0"
        ]
       ],
       "shape": {
        "columns": 2,
        "rows": 8
       }
      },
      "text/html": [
       "<div>\n",
       "<style scoped>\n",
       "    .dataframe tbody tr th:only-of-type {\n",
       "        vertical-align: middle;\n",
       "    }\n",
       "\n",
       "    .dataframe tbody tr th {\n",
       "        vertical-align: top;\n",
       "    }\n",
       "\n",
       "    .dataframe thead th {\n",
       "        text-align: right;\n",
       "    }\n",
       "</style>\n",
       "<table border=\"1\" class=\"dataframe\">\n",
       "  <thead>\n",
       "    <tr style=\"text-align: right;\">\n",
       "      <th></th>\n",
       "      <th>Statistic</th>\n",
       "      <th>Value</th>\n",
       "    </tr>\n",
       "  </thead>\n",
       "  <tbody>\n",
       "    <tr>\n",
       "      <th>0</th>\n",
       "      <td>count</td>\n",
       "      <td>24092.0</td>\n",
       "    </tr>\n",
       "    <tr>\n",
       "      <th>1</th>\n",
       "      <td>mean</td>\n",
       "      <td>38.5</td>\n",
       "    </tr>\n",
       "    <tr>\n",
       "      <th>2</th>\n",
       "      <td>std</td>\n",
       "      <td>21.937866</td>\n",
       "    </tr>\n",
       "    <tr>\n",
       "      <th>3</th>\n",
       "      <td>min</td>\n",
       "      <td>1.0</td>\n",
       "    </tr>\n",
       "    <tr>\n",
       "      <th>4</th>\n",
       "      <td>25%</td>\n",
       "      <td>19.75</td>\n",
       "    </tr>\n",
       "    <tr>\n",
       "      <th>5</th>\n",
       "      <td>50%</td>\n",
       "      <td>38.5</td>\n",
       "    </tr>\n",
       "    <tr>\n",
       "      <th>6</th>\n",
       "      <td>75%</td>\n",
       "      <td>57.25</td>\n",
       "    </tr>\n",
       "    <tr>\n",
       "      <th>7</th>\n",
       "      <td>max</td>\n",
       "      <td>76.0</td>\n",
       "    </tr>\n",
       "  </tbody>\n",
       "</table>\n",
       "</div>"
      ],
      "text/plain": [
       "  Statistic      Value\n",
       "0     count    24092.0\n",
       "1      mean       38.5\n",
       "2       std  21.937866\n",
       "3       min        1.0\n",
       "4       25%      19.75\n",
       "5       50%       38.5\n",
       "6       75%      57.25\n",
       "7       max       76.0"
      ]
     },
     "metadata": {},
     "output_type": "display_data"
    }
   ],
   "source": [
    "# Convert unique week values to DataFrame\n",
    "unique_weeks = sorted(df_tidy['week'].dropna().unique())\n",
    "unique_weeks_df = pd.DataFrame({'Week Number': unique_weeks})\n",
    "\n",
    "# Summary statistics\n",
    "week_stats = df_tidy['week'].describe()\n",
    "week_stats_df = pd.DataFrame({\n",
    "    'Statistic': week_stats.index,\n",
    "    'Value': week_stats.values\n",
    "})\n",
    "\n",
    "# Display both as tables\n",
    "print(\" Unique Week Values Table:\")\n",
    "display(unique_weeks_df)\n",
    "\n",
    "print(\"\\n Week Summary Statistics Table:\")\n",
    "display(week_stats_df)\n"
   ]
  },
  {
   "cell_type": "code",
   "execution_count": 310,
   "metadata": {},
   "outputs": [
    {
     "data": {
      "image/png": "[encoded data removed]",
      "text/plain": [
       "<Figure size 1000x500 with 1 Axes>"
      ]
     },
     "metadata": {},
     "output_type": "display_data"
    }
   ],
   "source": [
    "# Count number of entries per week\n",
    "week_counts = df_tidy['week'].value_counts().sort_index()\n",
    "\n",
    "# Line plot of week counts\n",
    "plt.figure(figsize=(10, 5))\n",
    "plt.plot(week_counts.index, week_counts.values, marker='o', linestyle='-')\n",
    "plt.title('Number of Songs Charted Per Week')\n",
    "plt.xlabel('Week Number')\n",
    "plt.ylabel('Count of Songs')\n",
    "plt.grid(True)\n",
    "plt.tight_layout()\n",
    "plt.show()\n"
   ]
  },
  {
   "attachments": {},
   "cell_type": "markdown",
   "metadata": {},
   "source": [
    "Next, let's try to find the date at which the song ranked the number that is shown per row.\n",
    "\n",
    "6. To do that let's first think of the equation that is going to get us the relevant date at which the song ranked the *rth*.\n",
    "\n"
   ]
  },
  {
   "cell_type": "code",
   "execution_count": 311,
   "metadata": {},
   "outputs": [
    {
     "data": {
      "application/vnd.microsoft.datawrangler.viewer.v0+json": {
       "columns": [
        {
         "name": "index",
         "rawType": "int64",
         "type": "integer"
        },
        {
         "name": "track",
         "rawType": "object",
         "type": "string"
        },
        {
         "name": "artist.inverted",
         "rawType": "object",
         "type": "string"
        },
        {
         "name": "week",
         "rawType": "Int64",
         "type": "integer"
        },
        {
         "name": "rank",
         "rawType": "object",
         "type": "string"
        },
        {
         "name": "chart_date",
         "rawType": "datetime64[ns]",
         "type": "datetime"
        }
       ],
       "ref": "9f9cb51d-653c-47eb-8b18-569fbd67b8ab",
       "rows": [
        [
         "0",
         "Independent Women Part I",
         "Destiny's Child",
         null,
         "2000-09-23",
         null
        ],
        [
         "1",
         "Maria, Maria",
         "Santana",
         null,
         "2000-02-12",
         null
        ],
        [
         "2",
         "I Knew I Loved You",
         "Savage Garden",
         null,
         "1999-10-23",
         null
        ],
        [
         "3",
         "Music",
         "Madonna",
         null,
         "2000-08-12",
         null
        ],
        [
         "4",
         "Come On Over Baby (All I Want Is You)",
         "Aguilera, Christina",
         null,
         "2000-08-05",
         null
        ]
       ],
       "shape": {
        "columns": 5,
        "rows": 5
       }
      },
      "text/html": [
       "<div>\n",
       "<style scoped>\n",
       "    .dataframe tbody tr th:only-of-type {\n",
       "        vertical-align: middle;\n",
       "    }\n",
       "\n",
       "    .dataframe tbody tr th {\n",
       "        vertical-align: top;\n",
       "    }\n",
       "\n",
       "    .dataframe thead th {\n",
       "        text-align: right;\n",
       "    }\n",
       "</style>\n",
       "<table border=\"1\" class=\"dataframe\">\n",
       "  <thead>\n",
       "    <tr style=\"text-align: right;\">\n",
       "      <th></th>\n",
       "      <th>track</th>\n",
       "      <th>artist.inverted</th>\n",
       "      <th>week</th>\n",
       "      <th>rank</th>\n",
       "      <th>chart_date</th>\n",
       "    </tr>\n",
       "  </thead>\n",
       "  <tbody>\n",
       "    <tr>\n",
       "      <th>0</th>\n",
       "      <td>Independent Women Part I</td>\n",
       "      <td>Destiny's Child</td>\n",
       "      <td>&lt;NA&gt;</td>\n",
       "      <td>2000-09-23</td>\n",
       "      <td>NaT</td>\n",
       "    </tr>\n",
       "    <tr>\n",
       "      <th>1</th>\n",
       "      <td>Maria, Maria</td>\n",
       "      <td>Santana</td>\n",
       "      <td>&lt;NA&gt;</td>\n",
       "      <td>2000-02-12</td>\n",
       "      <td>NaT</td>\n",
       "    </tr>\n",
       "    <tr>\n",
       "      <th>2</th>\n",
       "      <td>I Knew I Loved You</td>\n",
       "      <td>Savage Garden</td>\n",
       "      <td>&lt;NA&gt;</td>\n",
       "      <td>1999-10-23</td>\n",
       "      <td>NaT</td>\n",
       "    </tr>\n",
       "    <tr>\n",
       "      <th>3</th>\n",
       "      <td>Music</td>\n",
       "      <td>Madonna</td>\n",
       "      <td>&lt;NA&gt;</td>\n",
       "      <td>2000-08-12</td>\n",
       "      <td>NaT</td>\n",
       "    </tr>\n",
       "    <tr>\n",
       "      <th>4</th>\n",
       "      <td>Come On Over Baby (All I Want Is You)</td>\n",
       "      <td>Aguilera, Christina</td>\n",
       "      <td>&lt;NA&gt;</td>\n",
       "      <td>2000-08-05</td>\n",
       "      <td>NaT</td>\n",
       "    </tr>\n",
       "  </tbody>\n",
       "</table>\n",
       "</div>"
      ],
      "text/plain": [
       "                                   track      artist.inverted  week  \\\n",
       "0               Independent Women Part I      Destiny's Child  <NA>   \n",
       "1                           Maria, Maria              Santana  <NA>   \n",
       "2                     I Knew I Loved You        Savage Garden  <NA>   \n",
       "3                                  Music              Madonna  <NA>   \n",
       "4  Come On Over Baby (All I Want Is You)  Aguilera, Christina  <NA>   \n",
       "\n",
       "         rank chart_date  \n",
       "0  2000-09-23        NaT  \n",
       "1  2000-02-12        NaT  \n",
       "2  1999-10-23        NaT  \n",
       "3  2000-08-12        NaT  \n",
       "4  2000-08-05        NaT  "
      ]
     },
     "execution_count": 311,
     "metadata": {},
     "output_type": "execute_result"
    }
   ],
   "source": [
    "# Convert 'year' to datetime representing January 1st of that year\n",
    "df_tidy['start_date'] = pd.to_datetime(df_tidy['year'].astype(str) + '-01-01')\n",
    "\n",
    "# Add (week - 1) * 7 days to get the actual chart date\n",
    "df_tidy['chart_date'] = df_tidy['start_date'] + pd.to_timedelta((df_tidy['week'] - 1) * 7, unit='D')\n",
    "\n",
    "# Preview the result\n",
    "df_tidy[['track', 'artist.inverted', 'week', 'rank', 'chart_date']].head()\n"
   ]
  },
  {
   "attachments": {},
   "cell_type": "markdown",
   "metadata": {},
   "source": [
    "*Timedeltas are absolute differences in times, expressed in difference units (e.g. days, hours, minutes, seconds). This method converts an argument from a recognized timedelta format / value into a Timedelta type.*\n"
   ]
  },
  {
   "attachments": {},
   "cell_type": "markdown",
   "metadata": {},
   "source": [
    "***What is the problem with the calculation above?***"
   ]
  },
  {
   "cell_type": "markdown",
   "metadata": {},
   "source": [
    "**Issue:** Calculating `chart_date` by adding `(week-1)*7` days to January 1 treats weeks as uniform 7-day blocks. This ignores real week-start rules (ISO definitions), leap years and 53-week years, so dates misalign.\n"
   ]
  },
  {
   "cell_type": "markdown",
   "metadata": {},
   "source": [
    "### Problem with the Chart Date Calculation\n",
    "\n",
    "The main issue is that the calculation assumes every song started charting exactly on **January 1st** of its release year. This is often incorrect because songs typically enter the Billboard charts at different points during the year. As a result, the calculated `chart_date` may not reflect the true date when the song achieved a particular rank — it only approximates based on a fixed weekly offset from January 1st.\n"
   ]
  },
  {
   "attachments": {},
   "cell_type": "markdown",
   "metadata": {},
   "source": [
    "7. Let's only keep necessary columns"
   ]
  },
  {
   "cell_type": "code",
   "execution_count": 312,
   "metadata": {},
   "outputs": [
    {
     "data": {
      "application/vnd.microsoft.datawrangler.viewer.v0+json": {
       "columns": [
        {
         "name": "index",
         "rawType": "int64",
         "type": "integer"
        },
        {
         "name": "track",
         "rawType": "object",
         "type": "string"
        },
        {
         "name": "artist.inverted",
         "rawType": "object",
         "type": "string"
        },
        {
         "name": "week",
         "rawType": "Int64",
         "type": "integer"
        },
        {
         "name": "rank",
         "rawType": "object",
         "type": "string"
        },
        {
         "name": "chart_date",
         "rawType": "datetime64[ns]",
         "type": "datetime"
        }
       ],
       "ref": "61456d9b-097b-4fcc-9fc0-731138a10aae",
       "rows": [
        [
         "0",
         "Independent Women Part I",
         "Destiny's Child",
         null,
         "2000-09-23",
         null
        ],
        [
         "1",
         "Maria, Maria",
         "Santana",
         null,
         "2000-02-12",
         null
        ],
        [
         "2",
         "I Knew I Loved You",
         "Savage Garden",
         null,
         "1999-10-23",
         null
        ],
        [
         "3",
         "Music",
         "Madonna",
         null,
         "2000-08-12",
         null
        ],
        [
         "4",
         "Come On Over Baby (All I Want Is You)",
         "Aguilera, Christina",
         null,
         "2000-08-05",
         null
        ]
       ],
       "shape": {
        "columns": 5,
        "rows": 5
       }
      },
      "text/html": [
       "<div>\n",
       "<style scoped>\n",
       "    .dataframe tbody tr th:only-of-type {\n",
       "        vertical-align: middle;\n",
       "    }\n",
       "\n",
       "    .dataframe tbody tr th {\n",
       "        vertical-align: top;\n",
       "    }\n",
       "\n",
       "    .dataframe thead th {\n",
       "        text-align: right;\n",
       "    }\n",
       "</style>\n",
       "<table border=\"1\" class=\"dataframe\">\n",
       "  <thead>\n",
       "    <tr style=\"text-align: right;\">\n",
       "      <th></th>\n",
       "      <th>track</th>\n",
       "      <th>artist.inverted</th>\n",
       "      <th>week</th>\n",
       "      <th>rank</th>\n",
       "      <th>chart_date</th>\n",
       "    </tr>\n",
       "  </thead>\n",
       "  <tbody>\n",
       "    <tr>\n",
       "      <th>0</th>\n",
       "      <td>Independent Women Part I</td>\n",
       "      <td>Destiny's Child</td>\n",
       "      <td>&lt;NA&gt;</td>\n",
       "      <td>2000-09-23</td>\n",
       "      <td>NaT</td>\n",
       "    </tr>\n",
       "    <tr>\n",
       "      <th>1</th>\n",
       "      <td>Maria, Maria</td>\n",
       "      <td>Santana</td>\n",
       "      <td>&lt;NA&gt;</td>\n",
       "      <td>2000-02-12</td>\n",
       "      <td>NaT</td>\n",
       "    </tr>\n",
       "    <tr>\n",
       "      <th>2</th>\n",
       "      <td>I Knew I Loved You</td>\n",
       "      <td>Savage Garden</td>\n",
       "      <td>&lt;NA&gt;</td>\n",
       "      <td>1999-10-23</td>\n",
       "      <td>NaT</td>\n",
       "    </tr>\n",
       "    <tr>\n",
       "      <th>3</th>\n",
       "      <td>Music</td>\n",
       "      <td>Madonna</td>\n",
       "      <td>&lt;NA&gt;</td>\n",
       "      <td>2000-08-12</td>\n",
       "      <td>NaT</td>\n",
       "    </tr>\n",
       "    <tr>\n",
       "      <th>4</th>\n",
       "      <td>Come On Over Baby (All I Want Is You)</td>\n",
       "      <td>Aguilera, Christina</td>\n",
       "      <td>&lt;NA&gt;</td>\n",
       "      <td>2000-08-05</td>\n",
       "      <td>NaT</td>\n",
       "    </tr>\n",
       "  </tbody>\n",
       "</table>\n",
       "</div>"
      ],
      "text/plain": [
       "                                   track      artist.inverted  week  \\\n",
       "0               Independent Women Part I      Destiny's Child  <NA>   \n",
       "1                           Maria, Maria              Santana  <NA>   \n",
       "2                     I Knew I Loved You        Savage Garden  <NA>   \n",
       "3                                  Music              Madonna  <NA>   \n",
       "4  Come On Over Baby (All I Want Is You)  Aguilera, Christina  <NA>   \n",
       "\n",
       "         rank chart_date  \n",
       "0  2000-09-23        NaT  \n",
       "1  2000-02-12        NaT  \n",
       "2  1999-10-23        NaT  \n",
       "3  2000-08-12        NaT  \n",
       "4  2000-08-05        NaT  "
      ]
     },
     "execution_count": 312,
     "metadata": {},
     "output_type": "execute_result"
    }
   ],
   "source": [
    "# Keep only the relevant columns using the current column names\n",
    "df_tidy = df_tidy[['track', 'artist.inverted', 'week', 'rank', 'chart_date']]\n",
    "\n",
    "# Display cleaned dataframe\n",
    "df_tidy.head()\n"
   ]
  },
  {
   "attachments": {},
   "cell_type": "markdown",
   "metadata": {},
   "source": [
    "8. How to rename your columns?"
   ]
  },
  {
   "cell_type": "code",
   "execution_count": 313,
   "metadata": {},
   "outputs": [
    {
     "name": "stdout",
     "output_type": "stream",
     "text": [
      "Index(['song_title', 'artist_name', 'week_number', 'ranks', 'date'], dtype='object')\n"
     ]
    },
    {
     "data": {
      "application/vnd.microsoft.datawrangler.viewer.v0+json": {
       "columns": [
        {
         "name": "index",
         "rawType": "int64",
         "type": "integer"
        },
        {
         "name": "song_title",
         "rawType": "object",
         "type": "string"
        },
        {
         "name": "artist_name",
         "rawType": "object",
         "type": "string"
        },
        {
         "name": "week_number",
         "rawType": "Int64",
         "type": "integer"
        },
        {
         "name": "ranks",
         "rawType": "object",
         "type": "string"
        },
        {
         "name": "date",
         "rawType": "datetime64[ns]",
         "type": "datetime"
        }
       ],
       "ref": "62fceb5f-a8b9-45ac-8c3c-90c7fa4b79a6",
       "rows": [
        [
         "0",
         "Independent Women Part I",
         "Destiny's Child",
         null,
         "2000-09-23",
         null
        ],
        [
         "1",
         "Maria, Maria",
         "Santana",
         null,
         "2000-02-12",
         null
        ],
        [
         "2",
         "I Knew I Loved You",
         "Savage Garden",
         null,
         "1999-10-23",
         null
        ],
        [
         "3",
         "Music",
         "Madonna",
         null,
         "2000-08-12",
         null
        ],
        [
         "4",
         "Come On Over Baby (All I Want Is You)",
         "Aguilera, Christina",
         null,
         "2000-08-05",
         null
        ]
       ],
       "shape": {
        "columns": 5,
        "rows": 5
       }
      },
      "text/html": [
       "<div>\n",
       "<style scoped>\n",
       "    .dataframe tbody tr th:only-of-type {\n",
       "        vertical-align: middle;\n",
       "    }\n",
       "\n",
       "    .dataframe tbody tr th {\n",
       "        vertical-align: top;\n",
       "    }\n",
       "\n",
       "    .dataframe thead th {\n",
       "        text-align: right;\n",
       "    }\n",
       "</style>\n",
       "<table border=\"1\" class=\"dataframe\">\n",
       "  <thead>\n",
       "    <tr style=\"text-align: right;\">\n",
       "      <th></th>\n",
       "      <th>song_title</th>\n",
       "      <th>artist_name</th>\n",
       "      <th>week_number</th>\n",
       "      <th>ranks</th>\n",
       "      <th>date</th>\n",
       "    </tr>\n",
       "  </thead>\n",
       "  <tbody>\n",
       "    <tr>\n",
       "      <th>0</th>\n",
       "      <td>Independent Women Part I</td>\n",
       "      <td>Destiny's Child</td>\n",
       "      <td>&lt;NA&gt;</td>\n",
       "      <td>2000-09-23</td>\n",
       "      <td>NaT</td>\n",
       "    </tr>\n",
       "    <tr>\n",
       "      <th>1</th>\n",
       "      <td>Maria, Maria</td>\n",
       "      <td>Santana</td>\n",
       "      <td>&lt;NA&gt;</td>\n",
       "      <td>2000-02-12</td>\n",
       "      <td>NaT</td>\n",
       "    </tr>\n",
       "    <tr>\n",
       "      <th>2</th>\n",
       "      <td>I Knew I Loved You</td>\n",
       "      <td>Savage Garden</td>\n",
       "      <td>&lt;NA&gt;</td>\n",
       "      <td>1999-10-23</td>\n",
       "      <td>NaT</td>\n",
       "    </tr>\n",
       "    <tr>\n",
       "      <th>3</th>\n",
       "      <td>Music</td>\n",
       "      <td>Madonna</td>\n",
       "      <td>&lt;NA&gt;</td>\n",
       "      <td>2000-08-12</td>\n",
       "      <td>NaT</td>\n",
       "    </tr>\n",
       "    <tr>\n",
       "      <th>4</th>\n",
       "      <td>Come On Over Baby (All I Want Is You)</td>\n",
       "      <td>Aguilera, Christina</td>\n",
       "      <td>&lt;NA&gt;</td>\n",
       "      <td>2000-08-05</td>\n",
       "      <td>NaT</td>\n",
       "    </tr>\n",
       "  </tbody>\n",
       "</table>\n",
       "</div>"
      ],
      "text/plain": [
       "                              song_title          artist_name  week_number  \\\n",
       "0               Independent Women Part I      Destiny's Child         <NA>   \n",
       "1                           Maria, Maria              Santana         <NA>   \n",
       "2                     I Knew I Loved You        Savage Garden         <NA>   \n",
       "3                                  Music              Madonna         <NA>   \n",
       "4  Come On Over Baby (All I Want Is You)  Aguilera, Christina         <NA>   \n",
       "\n",
       "        ranks date  \n",
       "0  2000-09-23  NaT  \n",
       "1  2000-02-12  NaT  \n",
       "2  1999-10-23  NaT  \n",
       "3  2000-08-12  NaT  \n",
       "4  2000-08-05  NaT  "
      ]
     },
     "execution_count": 313,
     "metadata": {},
     "output_type": "execute_result"
    }
   ],
   "source": [
    "df_tidy = df_tidy.rename(columns={\n",
    "    'track': 'song_title',\n",
    "    'artist.inverted': 'artist_name',\n",
    "    'week': 'week_number',\n",
    "    'rank': 'ranks',\n",
    "    'chart_date': 'date'\n",
    "})\n",
    "\n",
    "print(df_tidy.columns)\n",
    "df_tidy.head()\n"
   ]
  },
  {
   "attachments": {},
   "cell_type": "markdown",
   "metadata": {},
   "source": [
    "Display the dataframe"
   ]
  },
  {
   "attachments": {},
   "cell_type": "markdown",
   "metadata": {},
   "source": [
    "In the above dataframe, there are some *NaN* values. What are we going to do? <br/>\n",
    "9. Apply quick data cleaning and then observe the dataset"
   ]
  },
  {
   "cell_type": "code",
   "execution_count": 314,
   "metadata": {},
   "outputs": [
    {
     "data": {
      "application/vnd.microsoft.datawrangler.viewer.v0+json": {
       "columns": [
        {
         "name": "index",
         "rawType": "int64",
         "type": "integer"
        },
        {
         "name": "song_title",
         "rawType": "object",
         "type": "string"
        },
        {
         "name": "artist_name",
         "rawType": "object",
         "type": "string"
        },
        {
         "name": "week_number",
         "rawType": "Int64",
         "type": "integer"
        },
        {
         "name": "ranks",
         "rawType": "object",
         "type": "unknown"
        },
        {
         "name": "date",
         "rawType": "datetime64[ns]",
         "type": "datetime"
        }
       ],
       "ref": "7afb2eda-f186-4fc5-96cc-7c6cb76b7bd2",
       "rows": [
        [
         "0",
         "Independent Women Part I",
         "Destiny's Child",
         "1",
         "78",
         "2000-01-01 00:00:00"
        ],
        [
         "1",
         "Maria, Maria",
         "Santana",
         "1",
         "15",
         "2000-01-01 00:00:00"
        ],
        [
         "2",
         "I Knew I Loved You",
         "Savage Garden",
         "1",
         "71",
         "2000-01-01 00:00:00"
        ],
        [
         "3",
         "Music",
         "Madonna",
         "1",
         "41",
         "2000-01-01 00:00:00"
        ],
        [
         "4",
         "Come On Over Baby (All I Want Is You)",
         "Aguilera, Christina",
         "1",
         "57",
         "2000-01-01 00:00:00"
        ]
       ],
       "shape": {
        "columns": 5,
        "rows": 5
       }
      },
      "text/html": [
       "<div>\n",
       "<style scoped>\n",
       "    .dataframe tbody tr th:only-of-type {\n",
       "        vertical-align: middle;\n",
       "    }\n",
       "\n",
       "    .dataframe tbody tr th {\n",
       "        vertical-align: top;\n",
       "    }\n",
       "\n",
       "    .dataframe thead th {\n",
       "        text-align: right;\n",
       "    }\n",
       "</style>\n",
       "<table border=\"1\" class=\"dataframe\">\n",
       "  <thead>\n",
       "    <tr style=\"text-align: right;\">\n",
       "      <th></th>\n",
       "      <th>song_title</th>\n",
       "      <th>artist_name</th>\n",
       "      <th>week_number</th>\n",
       "      <th>ranks</th>\n",
       "      <th>date</th>\n",
       "    </tr>\n",
       "  </thead>\n",
       "  <tbody>\n",
       "    <tr>\n",
       "      <th>0</th>\n",
       "      <td>Independent Women Part I</td>\n",
       "      <td>Destiny's Child</td>\n",
       "      <td>1</td>\n",
       "      <td>78</td>\n",
       "      <td>2000-01-01</td>\n",
       "    </tr>\n",
       "    <tr>\n",
       "      <th>1</th>\n",
       "      <td>Maria, Maria</td>\n",
       "      <td>Santana</td>\n",
       "      <td>1</td>\n",
       "      <td>15</td>\n",
       "      <td>2000-01-01</td>\n",
       "    </tr>\n",
       "    <tr>\n",
       "      <th>2</th>\n",
       "      <td>I Knew I Loved You</td>\n",
       "      <td>Savage Garden</td>\n",
       "      <td>1</td>\n",
       "      <td>71</td>\n",
       "      <td>2000-01-01</td>\n",
       "    </tr>\n",
       "    <tr>\n",
       "      <th>3</th>\n",
       "      <td>Music</td>\n",
       "      <td>Madonna</td>\n",
       "      <td>1</td>\n",
       "      <td>41</td>\n",
       "      <td>2000-01-01</td>\n",
       "    </tr>\n",
       "    <tr>\n",
       "      <th>4</th>\n",
       "      <td>Come On Over Baby (All I Want Is You)</td>\n",
       "      <td>Aguilera, Christina</td>\n",
       "      <td>1</td>\n",
       "      <td>57</td>\n",
       "      <td>2000-01-01</td>\n",
       "    </tr>\n",
       "  </tbody>\n",
       "</table>\n",
       "</div>"
      ],
      "text/plain": [
       "                              song_title          artist_name  week_number  \\\n",
       "0               Independent Women Part I      Destiny's Child            1   \n",
       "1                           Maria, Maria              Santana            1   \n",
       "2                     I Knew I Loved You        Savage Garden            1   \n",
       "3                                  Music              Madonna            1   \n",
       "4  Come On Over Baby (All I Want Is You)  Aguilera, Christina            1   \n",
       "\n",
       "  ranks       date  \n",
       "0    78 2000-01-01  \n",
       "1    15 2000-01-01  \n",
       "2    71 2000-01-01  \n",
       "3    41 2000-01-01  \n",
       "4    57 2000-01-01  "
      ]
     },
     "execution_count": 314,
     "metadata": {},
     "output_type": "execute_result"
    }
   ],
   "source": [
    "# Remove rows with any NaN values\n",
    "df_tidy.dropna(inplace=True)\n",
    "\n",
    "# Reset index after dropping rows\n",
    "df_tidy.reset_index(drop=True, inplace=True)\n",
    "\n",
    "# Display the cleaned DataFrame\n",
    "df_tidy.head()\n"
   ]
  },
  {
   "attachments": {},
   "cell_type": "markdown",
   "metadata": {},
   "source": [
    "## **Data Cleaning**\n",
    "\n",
    "Data cleaning involves removing unwanted characters, imputing, or dropping missing values.\n",
    "\n",
    "The decision is based on the dataset you have, and the information you can extract from the other columns.\n",
    "\n",
    "\n",
    "Examples of data cleaning include cleaning:\n",
    "\n",
    "1.   **Missing Data**\n",
    "2.   **Irregular Data** (Outliers)\n",
    "3.   **Unnecessary Data** — Repetitive Data, Duplicates and more\n",
    "4.   **Inconsistent Data** — Capitalization, Addresses and more\n",
    "\n",
    "\n",
    "\n",
    "\n",
    "\n",
    "\n"
   ]
  },
  {
   "attachments": {},
   "cell_type": "markdown",
   "metadata": {},
   "source": [
    "### **Cars Data Set**"
   ]
  },
  {
   "attachments": {},
   "cell_type": "markdown",
   "metadata": {},
   "source": [
    "Start by reading the dataset related to car models: ./CSVs/cars.csv"
   ]
  },
  {
   "attachments": {},
   "cell_type": "markdown",
   "metadata": {},
   "source": [
    "First Row seems to be the datatype, we need to remove it"
   ]
  },
  {
   "cell_type": "code",
   "execution_count": 315,
   "metadata": {},
   "outputs": [
    {
     "name": "stdout",
     "output_type": "stream",
     "text": [
      "Preview of cleaned data:\n"
     ]
    },
    {
     "data": {
      "application/vnd.microsoft.datawrangler.viewer.v0+json": {
       "columns": [
        {
         "name": "index",
         "rawType": "int64",
         "type": "integer"
        },
        {
         "name": "Car",
         "rawType": "object",
         "type": "string"
        },
        {
         "name": "MPG",
         "rawType": "float64",
         "type": "float"
        },
        {
         "name": "Cylinders",
         "rawType": "int64",
         "type": "integer"
        },
        {
         "name": "Displacement",
         "rawType": "float64",
         "type": "float"
        },
        {
         "name": "Horsepower",
         "rawType": "float64",
         "type": "float"
        },
        {
         "name": "Weight",
         "rawType": "float64",
         "type": "float"
        },
        {
         "name": "Acceleration",
         "rawType": "float64",
         "type": "float"
        },
        {
         "name": "Model",
         "rawType": "int64",
         "type": "integer"
        },
        {
         "name": "Origin",
         "rawType": "object",
         "type": "string"
        }
       ],
       "ref": "e30feb18-9ef2-4f2b-8f6d-65aa8057a68e",
       "rows": [
        [
         "0",
         "Chevrolet Chevelle Malibu",
         null,
         "8",
         "307.0",
         "130.0",
         "3504.0",
         "12.0",
         "70",
         "US"
        ],
        [
         "1",
         "Buick Skylark 320",
         "15.0",
         "8",
         "350.0",
         null,
         "3693.0",
         "11.5",
         "70",
         "US"
        ],
        [
         "2",
         "Plymouth Satellite",
         null,
         "8",
         "318.0",
         "150.0",
         "3436.0",
         "11.0",
         "70",
         "US"
        ],
        [
         "3",
         "AMC Rebel SST",
         "16.0",
         "8",
         null,
         "150.0",
         null,
         "12.0",
         "70",
         "US"
        ],
        [
         "4",
         "Ford Torino",
         "17.0",
         "8",
         "302.0",
         "140.0",
         "3449.0",
         "10.5",
         "70",
         "US"
        ]
       ],
       "shape": {
        "columns": 9,
        "rows": 5
       }
      },
      "text/html": [
       "<div>\n",
       "<style scoped>\n",
       "    .dataframe tbody tr th:only-of-type {\n",
       "        vertical-align: middle;\n",
       "    }\n",
       "\n",
       "    .dataframe tbody tr th {\n",
       "        vertical-align: top;\n",
       "    }\n",
       "\n",
       "    .dataframe thead th {\n",
       "        text-align: right;\n",
       "    }\n",
       "</style>\n",
       "<table border=\"1\" class=\"dataframe\">\n",
       "  <thead>\n",
       "    <tr style=\"text-align: right;\">\n",
       "      <th></th>\n",
       "      <th>Car</th>\n",
       "      <th>MPG</th>\n",
       "      <th>Cylinders</th>\n",
       "      <th>Displacement</th>\n",
       "      <th>Horsepower</th>\n",
       "      <th>Weight</th>\n",
       "      <th>Acceleration</th>\n",
       "      <th>Model</th>\n",
       "      <th>Origin</th>\n",
       "    </tr>\n",
       "  </thead>\n",
       "  <tbody>\n",
       "    <tr>\n",
       "      <th>0</th>\n",
       "      <td>Chevrolet Chevelle Malibu</td>\n",
       "      <td>NaN</td>\n",
       "      <td>8</td>\n",
       "      <td>307.0</td>\n",
       "      <td>130.0</td>\n",
       "      <td>3504.0</td>\n",
       "      <td>12.0</td>\n",
       "      <td>70</td>\n",
       "      <td>US</td>\n",
       "    </tr>\n",
       "    <tr>\n",
       "      <th>1</th>\n",
       "      <td>Buick Skylark 320</td>\n",
       "      <td>15.0</td>\n",
       "      <td>8</td>\n",
       "      <td>350.0</td>\n",
       "      <td>NaN</td>\n",
       "      <td>3693.0</td>\n",
       "      <td>11.5</td>\n",
       "      <td>70</td>\n",
       "      <td>US</td>\n",
       "    </tr>\n",
       "    <tr>\n",
       "      <th>2</th>\n",
       "      <td>Plymouth Satellite</td>\n",
       "      <td>NaN</td>\n",
       "      <td>8</td>\n",
       "      <td>318.0</td>\n",
       "      <td>150.0</td>\n",
       "      <td>3436.0</td>\n",
       "      <td>11.0</td>\n",
       "      <td>70</td>\n",
       "      <td>US</td>\n",
       "    </tr>\n",
       "    <tr>\n",
       "      <th>3</th>\n",
       "      <td>AMC Rebel SST</td>\n",
       "      <td>16.0</td>\n",
       "      <td>8</td>\n",
       "      <td>NaN</td>\n",
       "      <td>150.0</td>\n",
       "      <td>NaN</td>\n",
       "      <td>12.0</td>\n",
       "      <td>70</td>\n",
       "      <td>US</td>\n",
       "    </tr>\n",
       "    <tr>\n",
       "      <th>4</th>\n",
       "      <td>Ford Torino</td>\n",
       "      <td>17.0</td>\n",
       "      <td>8</td>\n",
       "      <td>302.0</td>\n",
       "      <td>140.0</td>\n",
       "      <td>3449.0</td>\n",
       "      <td>10.5</td>\n",
       "      <td>70</td>\n",
       "      <td>US</td>\n",
       "    </tr>\n",
       "  </tbody>\n",
       "</table>\n",
       "</div>"
      ],
      "text/plain": [
       "                         Car   MPG  Cylinders  Displacement  Horsepower  \\\n",
       "0  Chevrolet Chevelle Malibu   NaN          8         307.0       130.0   \n",
       "1          Buick Skylark 320  15.0          8         350.0         NaN   \n",
       "2         Plymouth Satellite   NaN          8         318.0       150.0   \n",
       "3              AMC Rebel SST  16.0          8           NaN       150.0   \n",
       "4                Ford Torino  17.0          8         302.0       140.0   \n",
       "\n",
       "   Weight  Acceleration  Model Origin  \n",
       "0  3504.0          12.0     70     US  \n",
       "1  3693.0          11.5     70     US  \n",
       "2  3436.0          11.0     70     US  \n",
       "3     NaN          12.0     70     US  \n",
       "4  3449.0          10.5     70     US  "
      ]
     },
     "metadata": {},
     "output_type": "display_data"
    }
   ],
   "source": [
    "# Read the CSV with semicolon separator and skip the second row\n",
    "df = pd.read_csv('./CSV/cars.csv', sep=';', skiprows=[1])\n",
    "\n",
    "# Display the first few rows\n",
    "\n",
    "print(\"Preview of cleaned data:\")\n",
    "display(df.head())\n"
   ]
  },
  {
   "attachments": {},
   "cell_type": "markdown",
   "metadata": {},
   "source": [
    "Let's observe the columns with null values.  Either by using the `isnull().sum()` function "
   ]
  },
  {
   "attachments": {},
   "cell_type": "markdown",
   "metadata": {},
   "source": [
    "There aren't many missing values. Let's take a glimpse at the percentage of the missing values:\n",
    "\n",
    "**HINT:** We'll need `Numpy` for the below task."
   ]
  },
  {
   "cell_type": "code",
   "execution_count": 316,
   "metadata": {},
   "outputs": [
    {
     "name": "stdout",
     "output_type": "stream",
     "text": [
      "Preview of cleaned data:\n"
     ]
    },
    {
     "data": {
      "application/vnd.microsoft.datawrangler.viewer.v0+json": {
       "columns": [
        {
         "name": "index",
         "rawType": "int64",
         "type": "integer"
        },
        {
         "name": "Car",
         "rawType": "object",
         "type": "string"
        },
        {
         "name": "MPG",
         "rawType": "float64",
         "type": "float"
        },
        {
         "name": "Cylinders",
         "rawType": "int64",
         "type": "integer"
        },
        {
         "name": "Displacement",
         "rawType": "float64",
         "type": "float"
        },
        {
         "name": "Horsepower",
         "rawType": "float64",
         "type": "float"
        },
        {
         "name": "Weight",
         "rawType": "float64",
         "type": "float"
        },
        {
         "name": "Acceleration",
         "rawType": "float64",
         "type": "float"
        },
        {
         "name": "Model",
         "rawType": "int64",
         "type": "integer"
        },
        {
         "name": "Origin",
         "rawType": "object",
         "type": "string"
        }
       ],
       "ref": "cfbbb63a-8a14-4de4-9715-db296943c3cc",
       "rows": [
        [
         "0",
         "Chevrolet Chevelle Malibu",
         null,
         "8",
         "307.0",
         "130.0",
         "3504.0",
         "12.0",
         "70",
         "US"
        ],
        [
         "1",
         "Buick Skylark 320",
         "15.0",
         "8",
         "350.0",
         null,
         "3693.0",
         "11.5",
         "70",
         "US"
        ],
        [
         "2",
         "Plymouth Satellite",
         null,
         "8",
         "318.0",
         "150.0",
         "3436.0",
         "11.0",
         "70",
         "US"
        ],
        [
         "3",
         "AMC Rebel SST",
         "16.0",
         "8",
         null,
         "150.0",
         null,
         "12.0",
         "70",
         "US"
        ],
        [
         "4",
         "Ford Torino",
         "17.0",
         "8",
         "302.0",
         "140.0",
         "3449.0",
         "10.5",
         "70",
         "US"
        ]
       ],
       "shape": {
        "columns": 9,
        "rows": 5
       }
      },
      "text/html": [
       "<div>\n",
       "<style scoped>\n",
       "    .dataframe tbody tr th:only-of-type {\n",
       "        vertical-align: middle;\n",
       "    }\n",
       "\n",
       "    .dataframe tbody tr th {\n",
       "        vertical-align: top;\n",
       "    }\n",
       "\n",
       "    .dataframe thead th {\n",
       "        text-align: right;\n",
       "    }\n",
       "</style>\n",
       "<table border=\"1\" class=\"dataframe\">\n",
       "  <thead>\n",
       "    <tr style=\"text-align: right;\">\n",
       "      <th></th>\n",
       "      <th>Car</th>\n",
       "      <th>MPG</th>\n",
       "      <th>Cylinders</th>\n",
       "      <th>Displacement</th>\n",
       "      <th>Horsepower</th>\n",
       "      <th>Weight</th>\n",
       "      <th>Acceleration</th>\n",
       "      <th>Model</th>\n",
       "      <th>Origin</th>\n",
       "    </tr>\n",
       "  </thead>\n",
       "  <tbody>\n",
       "    <tr>\n",
       "      <th>0</th>\n",
       "      <td>Chevrolet Chevelle Malibu</td>\n",
       "      <td>NaN</td>\n",
       "      <td>8</td>\n",
       "      <td>307.0</td>\n",
       "      <td>130.0</td>\n",
       "      <td>3504.0</td>\n",
       "      <td>12.0</td>\n",
       "      <td>70</td>\n",
       "      <td>US</td>\n",
       "    </tr>\n",
       "    <tr>\n",
       "      <th>1</th>\n",
       "      <td>Buick Skylark 320</td>\n",
       "      <td>15.0</td>\n",
       "      <td>8</td>\n",
       "      <td>350.0</td>\n",
       "      <td>NaN</td>\n",
       "      <td>3693.0</td>\n",
       "      <td>11.5</td>\n",
       "      <td>70</td>\n",
       "      <td>US</td>\n",
       "    </tr>\n",
       "    <tr>\n",
       "      <th>2</th>\n",
       "      <td>Plymouth Satellite</td>\n",
       "      <td>NaN</td>\n",
       "      <td>8</td>\n",
       "      <td>318.0</td>\n",
       "      <td>150.0</td>\n",
       "      <td>3436.0</td>\n",
       "      <td>11.0</td>\n",
       "      <td>70</td>\n",
       "      <td>US</td>\n",
       "    </tr>\n",
       "    <tr>\n",
       "      <th>3</th>\n",
       "      <td>AMC Rebel SST</td>\n",
       "      <td>16.0</td>\n",
       "      <td>8</td>\n",
       "      <td>NaN</td>\n",
       "      <td>150.0</td>\n",
       "      <td>NaN</td>\n",
       "      <td>12.0</td>\n",
       "      <td>70</td>\n",
       "      <td>US</td>\n",
       "    </tr>\n",
       "    <tr>\n",
       "      <th>4</th>\n",
       "      <td>Ford Torino</td>\n",
       "      <td>17.0</td>\n",
       "      <td>8</td>\n",
       "      <td>302.0</td>\n",
       "      <td>140.0</td>\n",
       "      <td>3449.0</td>\n",
       "      <td>10.5</td>\n",
       "      <td>70</td>\n",
       "      <td>US</td>\n",
       "    </tr>\n",
       "  </tbody>\n",
       "</table>\n",
       "</div>"
      ],
      "text/plain": [
       "                         Car   MPG  Cylinders  Displacement  Horsepower  \\\n",
       "0  Chevrolet Chevelle Malibu   NaN          8         307.0       130.0   \n",
       "1          Buick Skylark 320  15.0          8         350.0         NaN   \n",
       "2         Plymouth Satellite   NaN          8         318.0       150.0   \n",
       "3              AMC Rebel SST  16.0          8           NaN       150.0   \n",
       "4                Ford Torino  17.0          8         302.0       140.0   \n",
       "\n",
       "   Weight  Acceleration  Model Origin  \n",
       "0  3504.0          12.0     70     US  \n",
       "1  3693.0          11.5     70     US  \n",
       "2  3436.0          11.0     70     US  \n",
       "3     NaN          12.0     70     US  \n",
       "4  3449.0          10.5     70     US  "
      ]
     },
     "metadata": {},
     "output_type": "display_data"
    },
    {
     "name": "stdout",
     "output_type": "stream",
     "text": [
      "\n",
      "Null counts per column:\n",
      "Car             0\n",
      "MPG             3\n",
      "Cylinders       0\n",
      "Displacement    1\n",
      "Horsepower      2\n",
      "Weight          1\n",
      "Acceleration    0\n",
      "Model           0\n",
      "Origin          0\n",
      "dtype: int64\n",
      "\n",
      "Percentage of missing values per column:\n",
      "Car             0.00\n",
      "MPG             0.74\n",
      "Cylinders       0.00\n",
      "Displacement    0.25\n",
      "Horsepower      0.49\n",
      "Weight          0.25\n",
      "Acceleration    0.00\n",
      "Model           0.00\n",
      "Origin          0.00\n",
      "dtype: float64\n"
     ]
    }
   ],
   "source": [
    "# Preview cleaned data\n",
    "print(\"Preview of cleaned data:\")\n",
    "display(df.head())\n",
    "\n",
    "# Count of missing values per column\n",
    "null_counts = df.isnull().sum()\n",
    "print(\"\\nNull counts per column:\")\n",
    "print(null_counts)\n",
    "\n",
    "# Percentage of missing values per column\n",
    "missing_pct = (null_counts / len(df) * 100).round(2)\n",
    "print(\"\\nPercentage of missing values per column:\")\n",
    "print(missing_pct)\n"
   ]
  },
  {
   "attachments": {},
   "cell_type": "markdown",
   "metadata": {},
   "source": [
    "Around *0.19%* of the values are missing, which isn't a lot. Therefore, we might go with the option of dropping all the rows with null values."
   ]
  },
  {
   "attachments": {},
   "cell_type": "markdown",
   "metadata": {},
   "source": [
    "Lets also check dropping the columns"
   ]
  },
  {
   "cell_type": "code",
   "execution_count": 317,
   "metadata": {},
   "outputs": [
    {
     "name": "stdout",
     "output_type": "stream",
     "text": [
      "Data after dropping column(s):\n"
     ]
    },
    {
     "data": {
      "application/vnd.microsoft.datawrangler.viewer.v0+json": {
       "columns": [
        {
         "name": "index",
         "rawType": "int64",
         "type": "integer"
        },
        {
         "name": "MPG",
         "rawType": "float64",
         "type": "float"
        },
        {
         "name": "Displacement",
         "rawType": "float64",
         "type": "float"
        },
        {
         "name": "Horsepower",
         "rawType": "float64",
         "type": "float"
        },
        {
         "name": "Weight",
         "rawType": "float64",
         "type": "float"
        }
       ],
       "ref": "84983adb-ae9a-4f9e-b036-da2ab6683a53",
       "rows": [
        [
         "0",
         null,
         "307.0",
         "130.0",
         "3504.0"
        ],
        [
         "1",
         "15.0",
         "350.0",
         null,
         "3693.0"
        ],
        [
         "2",
         null,
         "318.0",
         "150.0",
         "3436.0"
        ],
        [
         "3",
         "16.0",
         null,
         "150.0",
         null
        ],
        [
         "4",
         "17.0",
         "302.0",
         "140.0",
         "3449.0"
        ]
       ],
       "shape": {
        "columns": 4,
        "rows": 5
       }
      },
      "text/html": [
       "<div>\n",
       "<style scoped>\n",
       "    .dataframe tbody tr th:only-of-type {\n",
       "        vertical-align: middle;\n",
       "    }\n",
       "\n",
       "    .dataframe tbody tr th {\n",
       "        vertical-align: top;\n",
       "    }\n",
       "\n",
       "    .dataframe thead th {\n",
       "        text-align: right;\n",
       "    }\n",
       "</style>\n",
       "<table border=\"1\" class=\"dataframe\">\n",
       "  <thead>\n",
       "    <tr style=\"text-align: right;\">\n",
       "      <th></th>\n",
       "      <th>MPG</th>\n",
       "      <th>Displacement</th>\n",
       "      <th>Horsepower</th>\n",
       "      <th>Weight</th>\n",
       "    </tr>\n",
       "  </thead>\n",
       "  <tbody>\n",
       "    <tr>\n",
       "      <th>0</th>\n",
       "      <td>NaN</td>\n",
       "      <td>307.0</td>\n",
       "      <td>130.0</td>\n",
       "      <td>3504.0</td>\n",
       "    </tr>\n",
       "    <tr>\n",
       "      <th>1</th>\n",
       "      <td>15.0</td>\n",
       "      <td>350.0</td>\n",
       "      <td>NaN</td>\n",
       "      <td>3693.0</td>\n",
       "    </tr>\n",
       "    <tr>\n",
       "      <th>2</th>\n",
       "      <td>NaN</td>\n",
       "      <td>318.0</td>\n",
       "      <td>150.0</td>\n",
       "      <td>3436.0</td>\n",
       "    </tr>\n",
       "    <tr>\n",
       "      <th>3</th>\n",
       "      <td>16.0</td>\n",
       "      <td>NaN</td>\n",
       "      <td>150.0</td>\n",
       "      <td>NaN</td>\n",
       "    </tr>\n",
       "    <tr>\n",
       "      <th>4</th>\n",
       "      <td>17.0</td>\n",
       "      <td>302.0</td>\n",
       "      <td>140.0</td>\n",
       "      <td>3449.0</td>\n",
       "    </tr>\n",
       "  </tbody>\n",
       "</table>\n",
       "</div>"
      ],
      "text/plain": [
       "    MPG  Displacement  Horsepower  Weight\n",
       "0   NaN         307.0       130.0  3504.0\n",
       "1  15.0         350.0         NaN  3693.0\n",
       "2   NaN         318.0       150.0  3436.0\n",
       "3  16.0           NaN       150.0     NaN\n",
       "4  17.0         302.0       140.0  3449.0"
      ]
     },
     "metadata": {},
     "output_type": "display_data"
    }
   ],
   "source": [
    "# Ensure df is defined in previous cells before running this cell\n",
    "\n",
    "df_dropped = df.drop(columns=['Cylinders', 'Car', 'Acceleration', 'Model', 'Origin'])\n",
    "\n",
    "# Drop multiple columns\n",
    "\n",
    "# Display result\n",
    "print(\"Data after dropping column(s):\")\n",
    "display(df_dropped.head())\n"
   ]
  },
  {
   "attachments": {},
   "cell_type": "markdown",
   "metadata": {},
   "source": [
    "Let's observe how many columns we lost"
   ]
  },
  {
   "cell_type": "code",
   "execution_count": 318,
   "metadata": {},
   "outputs": [
    {
     "name": "stdout",
     "output_type": "stream",
     "text": [
      "Original number of columns: 9\n",
      "New number of columns: 4\n",
      "Number of columns dropped: 5\n"
     ]
    }
   ],
   "source": [
    "# Number of columns before dropping\n",
    "original_cols = df.shape[1]\n",
    "\n",
    "# Drop specific columns \n",
    "df_dropped = df.drop(columns=['Cylinders', 'Car', 'Acceleration', 'Model', 'Origin'])\n",
    "\n",
    "# Number of columns after dropping\n",
    "new_cols = df_dropped.shape[1]\n",
    "\n",
    "# Print results\n",
    "print(f\"Original number of columns: {original_cols}\")\n",
    "print(f\"New number of columns: {new_cols}\")\n",
    "print(f\"Number of columns dropped: {original_cols - new_cols}\")\n"
   ]
  },
  {
   "attachments": {},
   "cell_type": "markdown",
   "metadata": {},
   "source": [
    "### **Cars Dataset - Filling in missing values automatically**\n",
    "\n",
    "Another option is to try and fill in the missing values through imputations."
   ]
  },
  {
   "attachments": {},
   "cell_type": "markdown",
   "metadata": {},
   "source": [
    "Let's take the `MPG` column for example. We can fill in the missing values with 0s through the following line of code:\n",
    "\n",
    "`df_cars.fillna(0) `. "
   ]
  },
  {
   "attachments": {},
   "cell_type": "markdown",
   "metadata": {},
   "source": [
    "However, this does not make much sense as there isn't MPG equal to 0. How about we plot the MPG column and if it follows a random distribution we can use the mean of the column to compute the missing values. Otherwise, we can use the median (if there is a skewed normal distribution). However, there might be a better way of imputation which is getting the median or the mean of the MPG of the cars with similar attributes."
   ]
  },
  {
   "attachments": {},
   "cell_type": "markdown",
   "metadata": {},
   "source": [
    "If we observe the graph above, we can consider it in a way or another normally distributed. Therefore, we can impute the missing values using the mean."
   ]
  },
  {
   "attachments": {},
   "cell_type": "markdown",
   "metadata": {},
   "source": [
    "To compute the mean we need numeric values. However the values in the dataframe are objects. Therefore, we need to change them to numerics so that we can compute them."
   ]
  },
  {
   "attachments": {},
   "cell_type": "markdown",
   "metadata": {},
   "source": [
    "Now let's see what is the mean of the MPG column"
   ]
  },
  {
   "cell_type": "code",
   "execution_count": 319,
   "metadata": {},
   "outputs": [
    {
     "name": "stdout",
     "output_type": "stream",
     "text": [
      "Mean MPG: 23.10\n"
     ]
    }
   ],
   "source": [
    "# Compute the mean of the MPG column from the existing df\n",
    "mean_mpg = df['MPG'].mean()\n",
    "\n",
    "# Display the result\n",
    "print(f\"Mean MPG: {mean_mpg:.2f}\")\n",
    "\n"
   ]
  },
  {
   "attachments": {},
   "cell_type": "markdown",
   "metadata": {},
   "source": [
    "We can use this mean to compute the missing values since the graph demonstarted a normal distribution"
   ]
  },
  {
   "attachments": {},
   "cell_type": "markdown",
   "metadata": {},
   "source": [
    "### **Car Dataset - Simple Imputer**"
   ]
  },
  {
   "attachments": {},
   "cell_type": "markdown",
   "metadata": {},
   "source": [
    "*SimpleImputer* is a `scikit-learn` class which is helpful in handling the missing data in the predictive model dataset. It replaces the `NaN` values with a specified placeholder.\n",
    "It is implemented by the use of the `SimpleImputer()` method which takes the following arguments :\n",
    "\n",
    "`missing_values` : The missing_values placeholder which has to be imputed. By default is NaN\n",
    "\n",
    "`strategy` : The data which will replace the NaN values from the dataset. The strategy argument can take the values – ‘mean'(default), ‘median’, ‘most_frequent’ and ‘constant’.\n"
   ]
  },
  {
   "attachments": {},
   "cell_type": "markdown",
   "metadata": {},
   "source": [
    "Let's start by importing the `SimpleImputer` into our notebook"
   ]
  },
  {
   "attachments": {},
   "cell_type": "markdown",
   "metadata": {},
   "source": [
    "What we need to do are two essential steps:\n",
    "\n",
    "1. fit the data (compute the mean / median / most freq)\n",
    "2. transform the data (place the computed values in the NaN cells)"
   ]
  },
  {
   "cell_type": "code",
   "execution_count": 320,
   "metadata": {},
   "outputs": [
    {
     "name": "stdout",
     "output_type": "stream",
     "text": [
      "Missing values filled using median imputation:\n"
     ]
    },
    {
     "data": {
      "application/vnd.microsoft.datawrangler.viewer.v0+json": {
       "columns": [
        {
         "name": "index",
         "rawType": "int64",
         "type": "integer"
        },
        {
         "name": "Car",
         "rawType": "object",
         "type": "string"
        },
        {
         "name": "MPG",
         "rawType": "float64",
         "type": "float"
        },
        {
         "name": "Cylinders",
         "rawType": "float64",
         "type": "float"
        },
        {
         "name": "Displacement",
         "rawType": "float64",
         "type": "float"
        },
        {
         "name": "Horsepower",
         "rawType": "float64",
         "type": "float"
        },
        {
         "name": "Weight",
         "rawType": "float64",
         "type": "float"
        },
        {
         "name": "Acceleration",
         "rawType": "float64",
         "type": "float"
        },
        {
         "name": "Model",
         "rawType": "float64",
         "type": "float"
        },
        {
         "name": "Origin",
         "rawType": "object",
         "type": "string"
        }
       ],
       "ref": "1164adb3-5178-44df-a758-45fe40a3bf43",
       "rows": [
        [
         "0",
         "Chevrolet Chevelle Malibu",
         "22.5",
         "8.0",
         "307.0",
         "130.0",
         "3504.0",
         "12.0",
         "70.0",
         "US"
        ],
        [
         "1",
         "Buick Skylark 320",
         "15.0",
         "8.0",
         "350.0",
         "92.5",
         "3693.0",
         "11.5",
         "70.0",
         "US"
        ],
        [
         "2",
         "Plymouth Satellite",
         "22.5",
         "8.0",
         "318.0",
         "150.0",
         "3436.0",
         "11.0",
         "70.0",
         "US"
        ],
        [
         "3",
         "AMC Rebel SST",
         "16.0",
         "8.0",
         "151.0",
         "150.0",
         "2815.0",
         "12.0",
         "70.0",
         "US"
        ],
        [
         "4",
         "Ford Torino",
         "17.0",
         "8.0",
         "302.0",
         "140.0",
         "3449.0",
         "10.5",
         "70.0",
         "US"
        ]
       ],
       "shape": {
        "columns": 9,
        "rows": 5
       }
      },
      "text/html": [
       "<div>\n",
       "<style scoped>\n",
       "    .dataframe tbody tr th:only-of-type {\n",
       "        vertical-align: middle;\n",
       "    }\n",
       "\n",
       "    .dataframe tbody tr th {\n",
       "        vertical-align: top;\n",
       "    }\n",
       "\n",
       "    .dataframe thead th {\n",
       "        text-align: right;\n",
       "    }\n",
       "</style>\n",
       "<table border=\"1\" class=\"dataframe\">\n",
       "  <thead>\n",
       "    <tr style=\"text-align: right;\">\n",
       "      <th></th>\n",
       "      <th>Car</th>\n",
       "      <th>MPG</th>\n",
       "      <th>Cylinders</th>\n",
       "      <th>Displacement</th>\n",
       "      <th>Horsepower</th>\n",
       "      <th>Weight</th>\n",
       "      <th>Acceleration</th>\n",
       "      <th>Model</th>\n",
       "      <th>Origin</th>\n",
       "    </tr>\n",
       "  </thead>\n",
       "  <tbody>\n",
       "    <tr>\n",
       "      <th>0</th>\n",
       "      <td>Chevrolet Chevelle Malibu</td>\n",
       "      <td>22.5</td>\n",
       "      <td>8.0</td>\n",
       "      <td>307.0</td>\n",
       "      <td>130.0</td>\n",
       "      <td>3504.0</td>\n",
       "      <td>12.0</td>\n",
       "      <td>70.0</td>\n",
       "      <td>US</td>\n",
       "    </tr>\n",
       "    <tr>\n",
       "      <th>1</th>\n",
       "      <td>Buick Skylark 320</td>\n",
       "      <td>15.0</td>\n",
       "      <td>8.0</td>\n",
       "      <td>350.0</td>\n",
       "      <td>92.5</td>\n",
       "      <td>3693.0</td>\n",
       "      <td>11.5</td>\n",
       "      <td>70.0</td>\n",
       "      <td>US</td>\n",
       "    </tr>\n",
       "    <tr>\n",
       "      <th>2</th>\n",
       "      <td>Plymouth Satellite</td>\n",
       "      <td>22.5</td>\n",
       "      <td>8.0</td>\n",
       "      <td>318.0</td>\n",
       "      <td>150.0</td>\n",
       "      <td>3436.0</td>\n",
       "      <td>11.0</td>\n",
       "      <td>70.0</td>\n",
       "      <td>US</td>\n",
       "    </tr>\n",
       "    <tr>\n",
       "      <th>3</th>\n",
       "      <td>AMC Rebel SST</td>\n",
       "      <td>16.0</td>\n",
       "      <td>8.0</td>\n",
       "      <td>151.0</td>\n",
       "      <td>150.0</td>\n",
       "      <td>2815.0</td>\n",
       "      <td>12.0</td>\n",
       "      <td>70.0</td>\n",
       "      <td>US</td>\n",
       "    </tr>\n",
       "    <tr>\n",
       "      <th>4</th>\n",
       "      <td>Ford Torino</td>\n",
       "      <td>17.0</td>\n",
       "      <td>8.0</td>\n",
       "      <td>302.0</td>\n",
       "      <td>140.0</td>\n",
       "      <td>3449.0</td>\n",
       "      <td>10.5</td>\n",
       "      <td>70.0</td>\n",
       "      <td>US</td>\n",
       "    </tr>\n",
       "  </tbody>\n",
       "</table>\n",
       "</div>"
      ],
      "text/plain": [
       "                         Car   MPG  Cylinders  Displacement  Horsepower  \\\n",
       "0  Chevrolet Chevelle Malibu  22.5        8.0         307.0       130.0   \n",
       "1          Buick Skylark 320  15.0        8.0         350.0        92.5   \n",
       "2         Plymouth Satellite  22.5        8.0         318.0       150.0   \n",
       "3              AMC Rebel SST  16.0        8.0         151.0       150.0   \n",
       "4                Ford Torino  17.0        8.0         302.0       140.0   \n",
       "\n",
       "   Weight  Acceleration  Model Origin  \n",
       "0  3504.0          12.0   70.0     US  \n",
       "1  3693.0          11.5   70.0     US  \n",
       "2  3436.0          11.0   70.0     US  \n",
       "3  2815.0          12.0   70.0     US  \n",
       "4  3449.0          10.5   70.0     US  "
      ]
     },
     "metadata": {},
     "output_type": "display_data"
    }
   ],
   "source": [
    "# Select only numeric columns for imputation\n",
    "numeric_df = df.select_dtypes(include=['float64', 'int64'])\n",
    "\n",
    "# Initialize the imputer with 'median' strategy\n",
    "imputer = SimpleImputer(strategy='median')\n",
    "\n",
    "# Fit and transform in one step\n",
    "imputed_array = imputer.fit_transform(numeric_df)\n",
    "\n",
    "# Put imputed values back into the original dataframe\n",
    "df[numeric_df.columns] = imputed_array\n",
    "\n",
    "# Show result\n",
    "print(\"Missing values filled using median imputation:\")\n",
    "display(df.head())\n"
   ]
  },
  {
   "cell_type": "markdown",
   "metadata": {},
   "source": [
    "## **Outlier Detection** \n",
    "\n",
    "\n",
    "An Outlier is a data-item/object that deviates significantly from the rest of the (so-called normal)objects. They can be caused by measurement or execution errors. The analysis for outlier detection is referred to as outlier mining. There are many ways to detect the outliers, and the removal process is the data frame same as removing a data item from the panda’s data frame.\n",
    "\n",
    "\n",
    "\n",
    "https://www.geeksforgeeks.org/detect-and-remove-the-outliers-using-python/\n",
    "\n",
    "\n",
    "\n"
   ]
  },
  {
   "cell_type": "code",
   "execution_count": 321,
   "metadata": {},
   "outputs": [
    {
     "name": "stdout",
     "output_type": "stream",
     "text": [
      "Original rows: 406\n",
      "Rows after removing outliers in 'MPG': 406\n"
     ]
    }
   ],
   "source": [
    "col = 'MPG'\n",
    "\n",
    "# Use the cleaned DataFrame with proper columns\n",
    "df_use = df_cleaned\n",
    "\n",
    "# Calculate Q1 and Q3\n",
    "Q1 = df_use[col].quantile(0.25)\n",
    "Q3 = df_use[col].quantile(0.75)\n",
    "IQR = Q3 - Q1\n",
    "\n",
    "# Define bounds\n",
    "lower_bound = Q1 - 1.5 * IQR\n",
    "upper_bound = Q3 + 1.5 * IQR\n",
    "\n",
    "# Filter out outliers\n",
    "df_no_outliers = df_use[(df_use[col] >= lower_bound) & (df_use[col] <= upper_bound)]\n",
    "\n",
    "print(f\"Original rows: {df_use.shape[0]}\")\n",
    "print(f\"Rows after removing outliers in '{col}': {df_no_outliers.shape[0]}\")\n"
   ]
  },
  {
   "cell_type": "markdown",
   "metadata": {},
   "source": [
    "### Outliers Visualization"
   ]
  },
  {
   "cell_type": "markdown",
   "metadata": {},
   "source": [
    "#### Visualizing Outliers Using Box Plot\n",
    "It captures the summary of the data effectively and efficiently with only a simple box and whiskers. Boxplot summarizes sample data using 25th, 50th, and 75th percentiles. One can just get insights(quartiles, median, and outliers) into the dataset by just looking at its boxplot."
   ]
  },
  {
   "cell_type": "code",
   "execution_count": null,
   "metadata": {},
   "outputs": [
    {
     "name": "stdout",
     "output_type": "stream",
     "text": [
      "Boxplot for 'MPG' (to visualize outliers):\n"
     ]
    },
    {
     "data": {
      "image/png": "[encoded data removed]",
      "text/plain": [
       "<Figure size 800x400 with 1 Axes>"
      ]
     },
     "metadata": {},
     "output_type": "display_data"
    },
    {
     "name": "stdout",
     "output_type": "stream",
     "text": [
      "Original number of rows: 406\n",
      "Rows after removing outliers in 'MPG': 406\n"
     ]
    }
   ],
   "source": [
    "# Column to analyze for outliers\n",
    "col = 'MPG'  # I can change to 'Horsepower', 'Weight', etc.\n",
    "\n",
    "# Outliers Visualization Using Box Plot\n",
    "print(f\"Boxplot for '{col}' (to visualize outliers):\")\n",
    "plt.figure(figsize=(8, 4))\n",
    "sns.boxplot(data=df, x=col)\n",
    "plt.title(f\"Boxplot for {col}\")\n",
    "plt.xlabel(col)\n",
    "plt.show()\n",
    "\n",
    "# --- Detecting and Removing Outliers using IQR Method ---\n",
    "Q1 = df[col].quantile(0.25)\n",
    "Q3 = df[col].quantile(0.75)\n",
    "IQR = Q3 - Q1\n",
    "\n",
    "lower_bound = Q1 - 1.5 * IQR\n",
    "upper_bound = Q3 + 1.5 * IQR\n",
    "\n",
    "# Remove outliers\n",
    "df_no_outliers = df[(df[col] >= lower_bound) & (df[col] <= upper_bound)]\n",
    "\n",
    "# Summary of effect \n",
    "print(f\"Original number of rows: {df.shape[0]}\")\n",
    "print(f\"Rows after removing outliers in '{col}': {df_no_outliers.shape[0]}\")\n"
   ]
  },
  {
   "cell_type": "markdown",
   "metadata": {},
   "source": [
    "#### Visualizing Outliers Using ScatterPlot.\n",
    "\n",
    "It is used when you have paired numerical data and when your dependent variable has multiple values for each reading independent variable, or when trying to determine the relationship between the two variables. In the process of utilizing the scatter plot, one can also use it for outlier detection."
   ]
  },
  {
   "cell_type": "code",
   "execution_count": 323,
   "metadata": {},
   "outputs": [
    {
     "name": "stdout",
     "output_type": "stream",
     "text": [
      "Scatter Plot of Horsepower vs MPG :\n"
     ]
    },
    {
     "data": {
      "image/png": "[encoded data removed]",
      "text/plain": [
       "<Figure size 800x500 with 1 Axes>"
      ]
     },
     "metadata": {},
     "output_type": "display_data"
    }
   ],
   "source": [
    "import matplotlib.pyplot as plt\n",
    "import seaborn as sns\n",
    "\n",
    "# Choose two numeric columns for scatterplot\n",
    "x_col = 'Horsepower'  # Independent variable\n",
    "y_col = 'MPG'         # Dependent variable\n",
    "\n",
    "# Scatter Plot for Outlier Detection\n",
    "print(f\"Scatter Plot of {x_col} vs {y_col} :\")\n",
    "plt.figure(figsize=(8, 5))\n",
    "sns.scatterplot(data=df, x=x_col, y=y_col)\n",
    "plt.title(f\"Scatter Plot: {x_col} vs {y_col}\")\n",
    "plt.xlabel(x_col)\n",
    "plt.ylabel(y_col)\n",
    "plt.grid(True)\n",
    "plt.show()\n"
   ]
  },
  {
   "cell_type": "markdown",
   "metadata": {},
   "source": [
    "#### Z-Score:\n",
    "Z- Score is also called a standard score. This value/score helps to understand that how far is the data point from the mean. And after setting up a threshold value one can utilize z score values of data points to define the outliers.\n",
    "<br>\n",
    "Zscore = (data_point -mean) / std. deviation\n",
    "\n"
   ]
  },
  {
   "cell_type": "code",
   "execution_count": 329,
   "metadata": {},
   "outputs": [
    {
     "name": "stdout",
     "output_type": "stream",
     "text": [
      "Original number of rows: 406\n",
      "Number of rows after removing Z-score outliers in 'MPG': 406\n"
     ]
    }
   ],
   "source": [
    "# Choose a numeric column for Z-Score analysis\n",
    "col = 'MPG' \n",
    "\n",
    "# Calculate Z-scores\n",
    "df['z_score'] = zscore(df[col])\n",
    "\n",
    "# Define threshold for Z-score (commonly 3 or -3)\n",
    "threshold = 3\n",
    "\n",
    "# Identify and remove outliers\n",
    "df_z_removed = df[(df['z_score'] < threshold) & (df['z_score'] > -threshold)].copy()\n",
    "\n",
    "# Drop z_score column (cleanup)\n",
    "df_z_removed.drop(columns='z_score', inplace=True)\n",
    "\n",
    "# Summary\n",
    "print(f\"Original number of rows: {df.shape[0]}\")\n",
    "print(f\"Number of rows after removing Z-score outliers in '{col}': {df_z_removed.shape[0]}\")\n"
   ]
  },
  {
   "cell_type": "markdown",
   "metadata": {},
   "source": [
    "Now to define an outlier threshold value is chosen which is generally 3.0. As 99.7% of the data points lie between +/- 3 standard deviation (using Gaussian Distribution approach).\n",
    "\n",
    "Rows where Z value is greater than 2"
   ]
  },
  {
   "cell_type": "code",
   "execution_count": 325,
   "metadata": {},
   "outputs": [
    {
     "name": "stdout",
     "output_type": "stream",
     "text": [
      "Rows where absolute Z-score of 'MPG' > 2 (Potential Outliers): 17\n"
     ]
    },
    {
     "data": {
      "application/vnd.microsoft.datawrangler.viewer.v0+json": {
       "columns": [
        {
         "name": "index",
         "rawType": "int64",
         "type": "integer"
        },
        {
         "name": "MPG",
         "rawType": "float64",
         "type": "float"
        },
        {
         "name": "z_score",
         "rawType": "float64",
         "type": "float"
        }
       ],
       "ref": "7076c367-7595-4740-9e13-b900f3f20ef5",
       "rows": [
        [
         "10",
         "0.0",
         "-2.757422932457154"
        ],
        [
         "11",
         "0.0",
         "-2.757422932457154"
        ],
        [
         "12",
         "0.0",
         "-2.757422932457154"
        ],
        [
         "13",
         "0.0",
         "-2.757422932457154"
        ],
        [
         "14",
         "0.0",
         "-2.757422932457154"
        ],
        [
         "17",
         "0.0",
         "-2.757422932457154"
        ],
        [
         "39",
         "0.0",
         "-2.757422932457154"
        ],
        [
         "251",
         "43.1",
         "2.389190074688725"
        ],
        [
         "316",
         "41.5",
         "2.198132515258716"
        ],
        [
         "329",
         "46.6",
         "2.807128485941871"
        ],
        [
         "331",
         "40.8",
         "2.114544833008086"
        ],
        [
         "332",
         "44.3",
         "2.5324832442612317"
        ],
        [
         "333",
         "43.4",
         "2.425013367081852"
        ],
        [
         "336",
         "44.6",
         "2.568306536654359"
        ],
        [
         "337",
         "40.9",
         "2.126485930472462"
        ],
        [
         "367",
         "0.0",
         "-2.757422932457154"
        ],
        [
         "402",
         "44.0",
         "2.4966599518681054"
        ]
       ],
       "shape": {
        "columns": 2,
        "rows": 17
       }
      },
      "text/html": [
       "<div>\n",
       "<style scoped>\n",
       "    .dataframe tbody tr th:only-of-type {\n",
       "        vertical-align: middle;\n",
       "    }\n",
       "\n",
       "    .dataframe tbody tr th {\n",
       "        vertical-align: top;\n",
       "    }\n",
       "\n",
       "    .dataframe thead th {\n",
       "        text-align: right;\n",
       "    }\n",
       "</style>\n",
       "<table border=\"1\" class=\"dataframe\">\n",
       "  <thead>\n",
       "    <tr style=\"text-align: right;\">\n",
       "      <th></th>\n",
       "      <th>MPG</th>\n",
       "      <th>z_score</th>\n",
       "    </tr>\n",
       "  </thead>\n",
       "  <tbody>\n",
       "    <tr>\n",
       "      <th>10</th>\n",
       "      <td>0.0</td>\n",
       "      <td>-2.757423</td>\n",
       "    </tr>\n",
       "    <tr>\n",
       "      <th>11</th>\n",
       "      <td>0.0</td>\n",
       "      <td>-2.757423</td>\n",
       "    </tr>\n",
       "    <tr>\n",
       "      <th>12</th>\n",
       "      <td>0.0</td>\n",
       "      <td>-2.757423</td>\n",
       "    </tr>\n",
       "    <tr>\n",
       "      <th>13</th>\n",
       "      <td>0.0</td>\n",
       "      <td>-2.757423</td>\n",
       "    </tr>\n",
       "    <tr>\n",
       "      <th>14</th>\n",
       "      <td>0.0</td>\n",
       "      <td>-2.757423</td>\n",
       "    </tr>\n",
       "    <tr>\n",
       "      <th>17</th>\n",
       "      <td>0.0</td>\n",
       "      <td>-2.757423</td>\n",
       "    </tr>\n",
       "    <tr>\n",
       "      <th>39</th>\n",
       "      <td>0.0</td>\n",
       "      <td>-2.757423</td>\n",
       "    </tr>\n",
       "    <tr>\n",
       "      <th>251</th>\n",
       "      <td>43.1</td>\n",
       "      <td>2.389190</td>\n",
       "    </tr>\n",
       "    <tr>\n",
       "      <th>316</th>\n",
       "      <td>41.5</td>\n",
       "      <td>2.198133</td>\n",
       "    </tr>\n",
       "    <tr>\n",
       "      <th>329</th>\n",
       "      <td>46.6</td>\n",
       "      <td>2.807128</td>\n",
       "    </tr>\n",
       "    <tr>\n",
       "      <th>331</th>\n",
       "      <td>40.8</td>\n",
       "      <td>2.114545</td>\n",
       "    </tr>\n",
       "    <tr>\n",
       "      <th>332</th>\n",
       "      <td>44.3</td>\n",
       "      <td>2.532483</td>\n",
       "    </tr>\n",
       "    <tr>\n",
       "      <th>333</th>\n",
       "      <td>43.4</td>\n",
       "      <td>2.425013</td>\n",
       "    </tr>\n",
       "    <tr>\n",
       "      <th>336</th>\n",
       "      <td>44.6</td>\n",
       "      <td>2.568307</td>\n",
       "    </tr>\n",
       "    <tr>\n",
       "      <th>337</th>\n",
       "      <td>40.9</td>\n",
       "      <td>2.126486</td>\n",
       "    </tr>\n",
       "    <tr>\n",
       "      <th>367</th>\n",
       "      <td>0.0</td>\n",
       "      <td>-2.757423</td>\n",
       "    </tr>\n",
       "    <tr>\n",
       "      <th>402</th>\n",
       "      <td>44.0</td>\n",
       "      <td>2.496660</td>\n",
       "    </tr>\n",
       "  </tbody>\n",
       "</table>\n",
       "</div>"
      ],
      "text/plain": [
       "      MPG   z_score\n",
       "10    0.0 -2.757423\n",
       "11    0.0 -2.757423\n",
       "12    0.0 -2.757423\n",
       "13    0.0 -2.757423\n",
       "14    0.0 -2.757423\n",
       "17    0.0 -2.757423\n",
       "39    0.0 -2.757423\n",
       "251  43.1  2.389190\n",
       "316  41.5  2.198133\n",
       "329  46.6  2.807128\n",
       "331  40.8  2.114545\n",
       "332  44.3  2.532483\n",
       "333  43.4  2.425013\n",
       "336  44.6  2.568307\n",
       "337  40.9  2.126486\n",
       "367   0.0 -2.757423\n",
       "402  44.0  2.496660"
      ]
     },
     "metadata": {},
     "output_type": "display_data"
    }
   ],
   "source": [
    "# Column to check for Z-score based outliers\n",
    "col = 'MPG' \n",
    "\n",
    "# Calculate Z-scores\n",
    "df['z_score'] = zscore(df[col])\n",
    "\n",
    "# Filter rows where absolute Z-score > 2\n",
    "outliers_df = df[np.abs(df['z_score']) > 2]\n",
    "\n",
    "# Display results\n",
    "print(f\"Rows where absolute Z-score of '{col}' > 2 (Potential Outliers): {outliers_df.shape[0]}\")\n",
    "display(outliers_df[[col, 'z_score']])\n"
   ]
  },
  {
   "cell_type": "markdown",
   "metadata": {},
   "source": [
    "#### IQR (Inter-Quartile Range)\n",
    "Inter Quartile Range approach to finding the outliers is the most commonly used and most trusted approach used in the research field. <Br>\n",
    "IQR = Quartile3 - Quartile1"
   ]
  },
  {
   "cell_type": "code",
   "execution_count": 326,
   "metadata": {},
   "outputs": [
    {
     "name": "stdout",
     "output_type": "stream",
     "text": [
      "IQR for 'MPG': 12.00\n",
      "Lower bound: -1.00, Upper bound: 47.00\n",
      "Original rows: 406\n",
      "Rows after IQR-based outlier removal: 406\n"
     ]
    }
   ],
   "source": [
    "# Choose the column for IQR analysis\n",
    "col = 'MPG'  \n",
    "\n",
    "# IQR Calculation \n",
    "Q1 = df[col].quantile(0.25)\n",
    "Q3 = df[col].quantile(0.75)\n",
    "IQR = Q3 - Q1\n",
    "\n",
    "# Outlier bounds\n",
    "lower_bound = Q1 - 1.5 * IQR\n",
    "upper_bound = Q3 + 1.5 * IQR\n",
    "\n",
    "# Filter data to exclude outliers\n",
    "df_iqr_cleaned = df[(df[col] >= lower_bound) & (df[col] <= upper_bound)]\n",
    "\n",
    "# Summary\n",
    "print(f\"IQR for '{col}': {IQR:.2f}\")\n",
    "print(f\"Lower bound: {lower_bound:.2f}, Upper bound: {upper_bound:.2f}\")\n",
    "print(f\"Original rows: {df.shape[0]}\")\n",
    "print(f\"Rows after IQR-based outlier removal: {df_iqr_cleaned.shape[0]}\")\n"
   ]
  },
  {
   "cell_type": "markdown",
   "metadata": {},
   "source": [
    "To define the outlier base value is defined above and below dataset’s normal range namely Upper and Lower bounds, define the upper and the lower bound (1.5*IQR value is considered) :<br>\n",
    "upper = Q3 + 1.5 * IQR <br>\n",
    "lower = Q1 - 1.5 * IQR <br> "
   ]
  },
  {
   "cell_type": "code",
   "execution_count": 327,
   "metadata": {},
   "outputs": [
    {
     "name": "stdout",
     "output_type": "stream",
     "text": [
      "IQR for 'MPG': 12.00\n",
      "Lower Bound (Q1 - 1.5 * IQR): -1.00\n",
      "Upper Bound (Q3 + 1.5 * IQR): 47.00\n"
     ]
    }
   ],
   "source": [
    "# Choose the numeric column\n",
    "col = 'MPG' \n",
    "\n",
    "# Calculate Q1, Q3, and IQR\n",
    "Q1 = df[col].quantile(0.25)\n",
    "Q3 = df[col].quantile(0.75)\n",
    "IQR = Q3 - Q1\n",
    "\n",
    "# Define bounds\n",
    "lower_bound = Q1 - 1.5 * IQR\n",
    "upper_bound = Q3 + 1.5 * IQR\n",
    "\n",
    "# Display results\n",
    "print(f\"IQR for '{col}': {IQR:.2f}\")\n",
    "print(f\"Lower Bound (Q1 - 1.5 * IQR): {lower_bound:.2f}\")\n",
    "print(f\"Upper Bound (Q3 + 1.5 * IQR): {upper_bound:.2f}\")\n"
   ]
  },
  {
   "cell_type": "markdown",
   "metadata": {},
   "source": [
    "- Removing the outliers:\n",
    "For removing the outlier, one must follow the same process of removing an entry from the dataset using its exact position in the dataset because in all the above methods of detecting the outliers end result is the list of all those data items that satisfy the outlier definition according to the method used."
   ]
  },
  {
   "cell_type": "code",
   "execution_count": 328,
   "metadata": {},
   "outputs": [
    {
     "name": "stdout",
     "output_type": "stream",
     "text": [
      "Original rows: 406\n",
      "Rows after removing outliers from 'MPG': 406\n"
     ]
    }
   ],
   "source": [
    "# Column to clean\n",
    "col = 'MPG'  # Change as needed\n",
    "\n",
    "# Calculate Q1, Q3, and IQR\n",
    "Q1 = df[col].quantile(0.25)\n",
    "Q3 = df[col].quantile(0.75)\n",
    "IQR = Q3 - Q1\n",
    "\n",
    "# Define bounds\n",
    "lower_bound = Q1 - 1.5 * IQR\n",
    "upper_bound = Q3 + 1.5 * IQR\n",
    "\n",
    "# Filter out the outliers (keep only rows within bounds)\n",
    "df_cleaned = df[(df[col] >= lower_bound) & (df[col] <= upper_bound)]\n",
    "\n",
    "# Summary\n",
    "print(f\"Original rows: {df.shape[0]}\")\n",
    "print(f\"Rows after removing outliers from '{col}': {df_cleaned.shape[0]}\")\n"
   ]
  }
 ],
 "metadata": {
  "kernelspec": {
   "display_name": "ml",
   "language": "python",
   "name": "python3"
  },
  "language_info": {
   "codemirror_mode": {
    "name": "ipython",
    "version": 3
   },
   "file_extension": ".py",
   "mimetype": "text/x-python",
   "name": "python",
   "nbconvert_exporter": "python",
   "pygments_lexer": "ipython3",
   "version": "3.10.16"
  },
  "orig_nbformat": 4
 },
 "nbformat": 4,
 "nbformat_minor": 2
}
